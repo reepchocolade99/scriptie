{
 "cells": [
  {
   "cell_type": "code",
   "execution_count": 93,
   "id": "2cade846-b68b-4545-93d0-0a9e175f45e0",
   "metadata": {},
   "outputs": [],
   "source": [
    "# !pip install -U kaleido\n",
    "\n",
    "import pandas as pd\n",
    "import numpy as np\n",
    "import matplotlib.pyplot as plt\n",
    "import datetime\n",
    "import seaborn as sns\n",
    "import random\n",
    "\n",
    "from xgboost import XGBRegressor\n",
    "from sklearn.linear_model import LinearRegression\n",
    "\n",
    "from xgboost import XGBClassifier\n",
    "import plotly.express as px\n",
    "import plotly.graph_objects as go\n",
    "from sklearn.metrics import mean_squared_error\n",
    "from sklearn.model_selection import train_test_split\n",
    "from sklearn.metrics import r2_score"
   ]
  },
  {
   "cell_type": "code",
   "execution_count": 94,
   "id": "e7b2f973-e846-458a-a630-cebd1e5f9f2c",
   "metadata": {},
   "outputs": [],
   "source": [
    "# Computer\n",
    "df = pd.read_csv(\"C:\\\\Users\\\\Merlijne\\\\Documents\\\\Studie\\\\Scriptie\\\\dataset1_combined.csv\")\n",
    "df[\"Series\"] = df[\"Series\"].str.strip()\n",
    "df.head()\n",
    "\n",
    "df.describe().T\n",
    "df.describe().T.to_csv('describe_transposed.csv')"
   ]
  },
  {
   "cell_type": "code",
   "execution_count": 95,
   "id": "16553c19-97f7-42e2-92af-8809b7ffde44",
   "metadata": {},
   "outputs": [
    {
     "data": {
      "text/html": [
       "<div>\n",
       "<style scoped>\n",
       "    .dataframe tbody tr th:only-of-type {\n",
       "        vertical-align: middle;\n",
       "    }\n",
       "\n",
       "    .dataframe tbody tr th {\n",
       "        vertical-align: top;\n",
       "    }\n",
       "\n",
       "    .dataframe thead th {\n",
       "        text-align: right;\n",
       "    }\n",
       "</style>\n",
       "<table border=\"1\" class=\"dataframe\">\n",
       "  <thead>\n",
       "    <tr style=\"text-align: right;\">\n",
       "      <th></th>\n",
       "      <th>count</th>\n",
       "      <th>mean</th>\n",
       "      <th>min</th>\n",
       "      <th>25%</th>\n",
       "      <th>50%</th>\n",
       "      <th>75%</th>\n",
       "      <th>max</th>\n",
       "      <th>std</th>\n",
       "    </tr>\n",
       "  </thead>\n",
       "  <tbody>\n",
       "    <tr>\n",
       "      <th>Time</th>\n",
       "      <td>2748525</td>\n",
       "      <td>2019-02-17 04:14:51.699729408</td>\n",
       "      <td>2018-10-09 11:20:00</td>\n",
       "      <td>2018-12-14 05:00:00</td>\n",
       "      <td>2019-02-20 09:50:00</td>\n",
       "      <td>2019-04-21 05:20:00</td>\n",
       "      <td>2019-06-20 10:00:00</td>\n",
       "      <td>NaN</td>\n",
       "    </tr>\n",
       "    <tr>\n",
       "      <th>CPU_Load</th>\n",
       "      <td>2748440.0</td>\n",
       "      <td>10.35987</td>\n",
       "      <td>0.0</td>\n",
       "      <td>0.6955</td>\n",
       "      <td>1.973333</td>\n",
       "      <td>17.0345</td>\n",
       "      <td>68.362667</td>\n",
       "      <td>14.212217</td>\n",
       "    </tr>\n",
       "    <tr>\n",
       "      <th>Power</th>\n",
       "      <td>2748442.0</td>\n",
       "      <td>205.582442</td>\n",
       "      <td>55.866667</td>\n",
       "      <td>160.933333</td>\n",
       "      <td>176.0</td>\n",
       "      <td>245.066667</td>\n",
       "      <td>448.0</td>\n",
       "      <td>65.552486</td>\n",
       "    </tr>\n",
       "    <tr>\n",
       "      <th>Network_RX</th>\n",
       "      <td>2748442.0</td>\n",
       "      <td>2875071.981369</td>\n",
       "      <td>0.0</td>\n",
       "      <td>43322.249468</td>\n",
       "      <td>63943.551305</td>\n",
       "      <td>324687.59361</td>\n",
       "      <td>1065749472.91208</td>\n",
       "      <td>17711473.047055</td>\n",
       "    </tr>\n",
       "    <tr>\n",
       "      <th>Network_TX</th>\n",
       "      <td>2748439.0</td>\n",
       "      <td>2286192.114021</td>\n",
       "      <td>0.0</td>\n",
       "      <td>59063.382818</td>\n",
       "      <td>152580.250156</td>\n",
       "      <td>641796.03051</td>\n",
       "      <td>1124093365.304173</td>\n",
       "      <td>14662478.159418</td>\n",
       "    </tr>\n",
       "    <tr>\n",
       "      <th>Inlet_Temperature</th>\n",
       "      <td>2664726.0</td>\n",
       "      <td>17.738659</td>\n",
       "      <td>4.0</td>\n",
       "      <td>17.0</td>\n",
       "      <td>18.1</td>\n",
       "      <td>19.866667</td>\n",
       "      <td>25.75</td>\n",
       "      <td>3.668756</td>\n",
       "    </tr>\n",
       "    <tr>\n",
       "      <th>CPU1_Temperature</th>\n",
       "      <td>2748439.0</td>\n",
       "      <td>57.007875</td>\n",
       "      <td>29.148148</td>\n",
       "      <td>48.616667</td>\n",
       "      <td>55.516667</td>\n",
       "      <td>64.533333</td>\n",
       "      <td>82.016667</td>\n",
       "      <td>11.063172</td>\n",
       "    </tr>\n",
       "    <tr>\n",
       "      <th>CPU2_Temperature</th>\n",
       "      <td>2748434.0</td>\n",
       "      <td>48.297562</td>\n",
       "      <td>25.466667</td>\n",
       "      <td>41.066667</td>\n",
       "      <td>47.1</td>\n",
       "      <td>54.916667</td>\n",
       "      <td>77.95</td>\n",
       "      <td>8.792395</td>\n",
       "    </tr>\n",
       "    <tr>\n",
       "      <th>Fan_speed1</th>\n",
       "      <td>2664725.0</td>\n",
       "      <td>8804.386699</td>\n",
       "      <td>280.0</td>\n",
       "      <td>7354.666667</td>\n",
       "      <td>9101.166667</td>\n",
       "      <td>10470.833333</td>\n",
       "      <td>13913.666667</td>\n",
       "      <td>2687.122327</td>\n",
       "    </tr>\n",
       "    <tr>\n",
       "      <th>Fan_speed2</th>\n",
       "      <td>2664726.0</td>\n",
       "      <td>8820.23756</td>\n",
       "      <td>280.0</td>\n",
       "      <td>7381.5</td>\n",
       "      <td>9111.666667</td>\n",
       "      <td>10500.0</td>\n",
       "      <td>13941.666667</td>\n",
       "      <td>2686.208161</td>\n",
       "    </tr>\n",
       "    <tr>\n",
       "      <th>Fan_speed3</th>\n",
       "      <td>2664732.0</td>\n",
       "      <td>8810.561329</td>\n",
       "      <td>280.0</td>\n",
       "      <td>7362.833333</td>\n",
       "      <td>9101.166667</td>\n",
       "      <td>10484.833333</td>\n",
       "      <td>13930.0</td>\n",
       "      <td>2679.739761</td>\n",
       "    </tr>\n",
       "    <tr>\n",
       "      <th>Fan_speed4</th>\n",
       "      <td>2664732.0</td>\n",
       "      <td>8800.326183</td>\n",
       "      <td>280.0</td>\n",
       "      <td>7367.5</td>\n",
       "      <td>9086.0</td>\n",
       "      <td>10466.166667</td>\n",
       "      <td>13916.0</td>\n",
       "      <td>2673.962095</td>\n",
       "    </tr>\n",
       "    <tr>\n",
       "      <th>Ram</th>\n",
       "      <td>2738036.0</td>\n",
       "      <td>64.482182</td>\n",
       "      <td>64.454875</td>\n",
       "      <td>64.486875</td>\n",
       "      <td>64.488</td>\n",
       "      <td>64.488</td>\n",
       "      <td>64.488</td>\n",
       "      <td>0.012486</td>\n",
       "    </tr>\n",
       "    <tr>\n",
       "      <th>Ram_Used</th>\n",
       "      <td>2738036.0</td>\n",
       "      <td>35.609577</td>\n",
       "      <td>0.49675</td>\n",
       "      <td>27.71875</td>\n",
       "      <td>35.14275</td>\n",
       "      <td>45.73475</td>\n",
       "      <td>64.42275</td>\n",
       "      <td>14.121176</td>\n",
       "    </tr>\n",
       "    <tr>\n",
       "      <th>No_Of_Running_vms</th>\n",
       "      <td>2738036.0</td>\n",
       "      <td>9.666469</td>\n",
       "      <td>0.0</td>\n",
       "      <td>7.0</td>\n",
       "      <td>9.0</td>\n",
       "      <td>12.0</td>\n",
       "      <td>54.35</td>\n",
       "      <td>5.582891</td>\n",
       "    </tr>\n",
       "    <tr>\n",
       "      <th>CPU_cores</th>\n",
       "      <td>2738036.0</td>\n",
       "      <td>90.100086</td>\n",
       "      <td>64.0</td>\n",
       "      <td>64.0</td>\n",
       "      <td>64.0</td>\n",
       "      <td>128.0</td>\n",
       "      <td>128.0</td>\n",
       "      <td>31.451413</td>\n",
       "    </tr>\n",
       "    <tr>\n",
       "      <th>CPU_cores_used</th>\n",
       "      <td>2737581.0</td>\n",
       "      <td>55.932257</td>\n",
       "      <td>0.0</td>\n",
       "      <td>50.0</td>\n",
       "      <td>60.0</td>\n",
       "      <td>64.0</td>\n",
       "      <td>128.0</td>\n",
       "      <td>20.276248</td>\n",
       "    </tr>\n",
       "    <tr>\n",
       "      <th>timestamp</th>\n",
       "      <td>2748525</td>\n",
       "      <td>2019-02-17 04:14:51.699729408</td>\n",
       "      <td>2018-10-09 11:20:00</td>\n",
       "      <td>2018-12-14 05:00:00</td>\n",
       "      <td>2019-02-20 09:50:00</td>\n",
       "      <td>2019-04-21 05:20:00</td>\n",
       "      <td>2019-06-20 10:00:00</td>\n",
       "      <td>NaN</td>\n",
       "    </tr>\n",
       "    <tr>\n",
       "      <th>hour</th>\n",
       "      <td>2748525.0</td>\n",
       "      <td>11.498554</td>\n",
       "      <td>0.0</td>\n",
       "      <td>5.0</td>\n",
       "      <td>12.0</td>\n",
       "      <td>17.0</td>\n",
       "      <td>23.0</td>\n",
       "      <td>6.922589</td>\n",
       "    </tr>\n",
       "    <tr>\n",
       "      <th>minute</th>\n",
       "      <td>2748525.0</td>\n",
       "      <td>24.999769</td>\n",
       "      <td>0.0</td>\n",
       "      <td>10.0</td>\n",
       "      <td>20.0</td>\n",
       "      <td>40.0</td>\n",
       "      <td>50.0</td>\n",
       "      <td>17.077939</td>\n",
       "    </tr>\n",
       "    <tr>\n",
       "      <th>dayofweek</th>\n",
       "      <td>2748525.0</td>\n",
       "      <td>2.993576</td>\n",
       "      <td>0.0</td>\n",
       "      <td>1.0</td>\n",
       "      <td>3.0</td>\n",
       "      <td>5.0</td>\n",
       "      <td>6.0</td>\n",
       "      <td>1.990842</td>\n",
       "    </tr>\n",
       "    <tr>\n",
       "      <th>time_minute_of_day</th>\n",
       "      <td>2748525.0</td>\n",
       "      <td>714.912984</td>\n",
       "      <td>0.0</td>\n",
       "      <td>350.0</td>\n",
       "      <td>720.0</td>\n",
       "      <td>1070.0</td>\n",
       "      <td>1430.0</td>\n",
       "      <td>415.706287</td>\n",
       "    </tr>\n",
       "    <tr>\n",
       "      <th>Series_num</th>\n",
       "      <td>2748525.0</td>\n",
       "      <td>158.519285</td>\n",
       "      <td>120.0</td>\n",
       "      <td>139.0</td>\n",
       "      <td>158.0</td>\n",
       "      <td>178.0</td>\n",
       "      <td>200.0</td>\n",
       "      <td>22.594949</td>\n",
       "    </tr>\n",
       "    <tr>\n",
       "      <th>Seconds_since_midnight</th>\n",
       "      <td>2748525.0</td>\n",
       "      <td>42894.779054</td>\n",
       "      <td>0.0</td>\n",
       "      <td>21000.0</td>\n",
       "      <td>43200.0</td>\n",
       "      <td>64200.0</td>\n",
       "      <td>85800.0</td>\n",
       "      <td>24942.377192</td>\n",
       "    </tr>\n",
       "  </tbody>\n",
       "</table>\n",
       "</div>"
      ],
      "text/plain": [
       "                            count                           mean  \\\n",
       "Time                      2748525  2019-02-17 04:14:51.699729408   \n",
       "CPU_Load                2748440.0                       10.35987   \n",
       "Power                   2748442.0                     205.582442   \n",
       "Network_RX              2748442.0                 2875071.981369   \n",
       "Network_TX              2748439.0                 2286192.114021   \n",
       "Inlet_Temperature       2664726.0                      17.738659   \n",
       "CPU1_Temperature        2748439.0                      57.007875   \n",
       "CPU2_Temperature        2748434.0                      48.297562   \n",
       "Fan_speed1              2664725.0                    8804.386699   \n",
       "Fan_speed2              2664726.0                     8820.23756   \n",
       "Fan_speed3              2664732.0                    8810.561329   \n",
       "Fan_speed4              2664732.0                    8800.326183   \n",
       "Ram                     2738036.0                      64.482182   \n",
       "Ram_Used                2738036.0                      35.609577   \n",
       "No_Of_Running_vms       2738036.0                       9.666469   \n",
       "CPU_cores               2738036.0                      90.100086   \n",
       "CPU_cores_used          2737581.0                      55.932257   \n",
       "timestamp                 2748525  2019-02-17 04:14:51.699729408   \n",
       "hour                    2748525.0                      11.498554   \n",
       "minute                  2748525.0                      24.999769   \n",
       "dayofweek               2748525.0                       2.993576   \n",
       "time_minute_of_day      2748525.0                     714.912984   \n",
       "Series_num              2748525.0                     158.519285   \n",
       "Seconds_since_midnight  2748525.0                   42894.779054   \n",
       "\n",
       "                                        min                  25%  \\\n",
       "Time                    2018-10-09 11:20:00  2018-12-14 05:00:00   \n",
       "CPU_Load                                0.0               0.6955   \n",
       "Power                             55.866667           160.933333   \n",
       "Network_RX                              0.0         43322.249468   \n",
       "Network_TX                              0.0         59063.382818   \n",
       "Inlet_Temperature                       4.0                 17.0   \n",
       "CPU1_Temperature                  29.148148            48.616667   \n",
       "CPU2_Temperature                  25.466667            41.066667   \n",
       "Fan_speed1                            280.0          7354.666667   \n",
       "Fan_speed2                            280.0               7381.5   \n",
       "Fan_speed3                            280.0          7362.833333   \n",
       "Fan_speed4                            280.0               7367.5   \n",
       "Ram                               64.454875            64.486875   \n",
       "Ram_Used                            0.49675             27.71875   \n",
       "No_Of_Running_vms                       0.0                  7.0   \n",
       "CPU_cores                              64.0                 64.0   \n",
       "CPU_cores_used                          0.0                 50.0   \n",
       "timestamp               2018-10-09 11:20:00  2018-12-14 05:00:00   \n",
       "hour                                    0.0                  5.0   \n",
       "minute                                  0.0                 10.0   \n",
       "dayofweek                               0.0                  1.0   \n",
       "time_minute_of_day                      0.0                350.0   \n",
       "Series_num                            120.0                139.0   \n",
       "Seconds_since_midnight                  0.0              21000.0   \n",
       "\n",
       "                                        50%                  75%  \\\n",
       "Time                    2019-02-20 09:50:00  2019-04-21 05:20:00   \n",
       "CPU_Load                           1.973333              17.0345   \n",
       "Power                                 176.0           245.066667   \n",
       "Network_RX                     63943.551305         324687.59361   \n",
       "Network_TX                    152580.250156         641796.03051   \n",
       "Inlet_Temperature                      18.1            19.866667   \n",
       "CPU1_Temperature                  55.516667            64.533333   \n",
       "CPU2_Temperature                       47.1            54.916667   \n",
       "Fan_speed1                      9101.166667         10470.833333   \n",
       "Fan_speed2                      9111.666667              10500.0   \n",
       "Fan_speed3                      9101.166667         10484.833333   \n",
       "Fan_speed4                           9086.0         10466.166667   \n",
       "Ram                                  64.488               64.488   \n",
       "Ram_Used                           35.14275             45.73475   \n",
       "No_Of_Running_vms                       9.0                 12.0   \n",
       "CPU_cores                              64.0                128.0   \n",
       "CPU_cores_used                         60.0                 64.0   \n",
       "timestamp               2019-02-20 09:50:00  2019-04-21 05:20:00   \n",
       "hour                                   12.0                 17.0   \n",
       "minute                                 20.0                 40.0   \n",
       "dayofweek                               3.0                  5.0   \n",
       "time_minute_of_day                    720.0               1070.0   \n",
       "Series_num                            158.0                178.0   \n",
       "Seconds_since_midnight              43200.0              64200.0   \n",
       "\n",
       "                                        max              std  \n",
       "Time                    2019-06-20 10:00:00              NaN  \n",
       "CPU_Load                          68.362667        14.212217  \n",
       "Power                                 448.0        65.552486  \n",
       "Network_RX                 1065749472.91208  17711473.047055  \n",
       "Network_TX                1124093365.304173  14662478.159418  \n",
       "Inlet_Temperature                     25.75         3.668756  \n",
       "CPU1_Temperature                  82.016667        11.063172  \n",
       "CPU2_Temperature                      77.95         8.792395  \n",
       "Fan_speed1                     13913.666667      2687.122327  \n",
       "Fan_speed2                     13941.666667      2686.208161  \n",
       "Fan_speed3                          13930.0      2679.739761  \n",
       "Fan_speed4                          13916.0      2673.962095  \n",
       "Ram                                  64.488         0.012486  \n",
       "Ram_Used                           64.42275        14.121176  \n",
       "No_Of_Running_vms                     54.35         5.582891  \n",
       "CPU_cores                             128.0        31.451413  \n",
       "CPU_cores_used                        128.0        20.276248  \n",
       "timestamp               2019-06-20 10:00:00              NaN  \n",
       "hour                                   23.0         6.922589  \n",
       "minute                                 50.0        17.077939  \n",
       "dayofweek                               6.0         1.990842  \n",
       "time_minute_of_day                   1430.0       415.706287  \n",
       "Series_num                            200.0        22.594949  \n",
       "Seconds_since_midnight              85800.0     24942.377192  "
      ]
     },
     "execution_count": 95,
     "metadata": {},
     "output_type": "execute_result"
    }
   ],
   "source": [
    "# Modifying the data\n",
    "\n",
    "df[\"timestamp\"] = pd.to_datetime(df[\"Time\"])\n",
    "df[\"Time\"] = pd.to_datetime(df[\"Time\"])\n",
    "df[\"hour\"] = df[\"timestamp\"].dt.hour\n",
    "df[\"minute\"] = df[\"timestamp\"].dt.minute\n",
    "df[\"dayofweek\"] = df[\"timestamp\"].dt.dayofweek  # Maandag = 0, Zondag = 6\n",
    "df[\"time_minute_of_day\"] = df[\"hour\"] * 60 + df[\"minute\"]  # optioneel\n",
    "df[\"date\"] = df[\"timestamp\"].dt.date\n",
    "df['Series_num'] = df['Series'].apply(lambda x: int(x[-3:]))\n",
    "\n",
    "# Actual needed\n",
    "df['Seconds_since_midnight'] = df['Time'].dt.hour * 3600 + df['Time'].dt.minute * 60 + df['Time'].dt.second\n",
    "df[\"date\"] = df[\"timestamp\"].dt.date\n",
    "\n",
    "df.describe().T"
   ]
  },
  {
   "cell_type": "code",
   "execution_count": 96,
   "id": "991438b1-edc0-40bf-8cee-ba9e60034fcb",
   "metadata": {},
   "outputs": [],
   "source": [
    "# One server\n",
    "\n",
    "rcc120 = df[\n",
    "    (df[\"Series\"] == \"qh2-rcc120\") &\n",
    "    (df[\"date\"] < datetime.date(2018, 10, 10))]\n",
    "\n",
    "\n",
    "# fig = px.scatter(\n",
    "#     rcc120, x='timestamp', y='CPU_Load', opacity=0.65,\n",
    "#     trendline='ols', trendline_color_override='darkblue'\n",
    "# )\n",
    "# fig.show()"
   ]
  },
  {
   "cell_type": "code",
   "execution_count": 97,
   "id": "969c89a2-8d14-4112-8bd2-9452aba9e056",
   "metadata": {},
   "outputs": [
    {
     "data": {
      "image/png": "[encoded data removed]",
      "text/plain": [
       "<Figure size 1200x1000 with 2 Axes>"
      ]
     },
     "metadata": {},
     "output_type": "display_data"
    }
   ],
   "source": [
    "# Correlation\n",
    "\n",
    "\n",
    "corr = df.corr(numeric_only=True)\n",
    "plt.figure(figsize=(12, 10))\n",
    "sns.heatmap(corr, annot=True, fmt=\".2f\", cmap=\"coolwarm\")\n",
    "plt.title(\"Correlattion with CPU Load (%)\")\n",
    "plt.savefig('correlation_cpu_load.png', dpi=300)\n"
   ]
  },
  {
   "cell_type": "code",
   "execution_count": 98,
   "id": "279be0d4-04cd-4c18-9d05-c6bb2d1cc3ff",
   "metadata": {},
   "outputs": [],
   "source": [
    "# Dividing training en testing\n",
    "\n",
    "# test = df[(df[\"Series_num\"] == \"120\")]\n",
    "\n",
    "# all_series = sorted(df[\"Series_num\"].unique())\n",
    "\n",
    "# train_10 = random.sample(list(all_series), 10)\n",
    "# train = pd.DataFrame()\n",
    "\n",
    "# for server in train_10:\n",
    "#     server_data = df[df[\"Series_num\"] == server]\n",
    "#     train = pd.concat([train, server_data])\n",
    "\n",
    "\n",
    "# df = df.drop(columns=[\n",
    "#     \"Inlet_Temperature\",\n",
    "#     \"Fan_speed1\", \"Fan_speed2\", \"Fan_speed3\", \"Fan_speed4\"\n",
    "# ])\n",
    "\n"
   ]
  },
  {
   "cell_type": "code",
   "execution_count": null,
   "id": "002d7d9f-3f48-446f-8540-3576ccbe53d2",
   "metadata": {},
   "outputs": [],
   "source": []
  },
  {
   "cell_type": "code",
   "execution_count": 99,
   "id": "e5b47251-d6e5-40ce-bd17-948ffa515af7",
   "metadata": {},
   "outputs": [],
   "source": [
    "\n",
    "# s = (train.dtypes == 'object')\n",
    "# object_cols = list(s[s].index)\n",
    "\n",
    "# s_ = (test.dtypes == 'object')\n",
    "# object_cols_ = list(s[s].index)\n",
    "\n",
    "# print(\"train Categorical variables:\")\n",
    "# print(object_cols)\n",
    "# print(\"test Categorical variables:\")\n",
    "# print(object_cols_)\n",
    "\n",
    "# print(train.shape,test.shape)"
   ]
  },
  {
   "cell_type": "code",
   "execution_count": 100,
   "id": "4b99eb33-ccf0-44bd-b9ca-ba2da8d11bd6",
   "metadata": {},
   "outputs": [],
   "source": [
    "# df = train.copy()\n",
    "\n",
    "# low_percentile = train['CPU_Load'].quantile(0.25)\n",
    "# mid_percentile = train['CPU_Load'].quantile(0.5)\n",
    "# high_percentile = train['CPU_Load'].quantile(0.75)\n",
    "\n",
    "\n",
    "# def categorize_cpu_load(value):\n",
    "#     if value <= low_percentile:\n",
    "#         return 0\n",
    "#     elif value > low_percentile and value <= mid_percentile:\n",
    "#         return 1\n",
    "#     elif value > mid_percentile and value <= high_percentile:\n",
    "#         return 2\n",
    "#     elif value > high_percentile:\n",
    "#         return 3\n",
    "#     else:\n",
    "#         return 4\n",
    "\n",
    "\n",
    "# df['CPU_Load_Category'] = df['CPU_Load'].apply(categorize_cpu_load)\n"
   ]
  },
  {
   "cell_type": "code",
   "execution_count": 101,
   "id": "51fe0e11-fe4e-44a3-8f7f-4efaf069cf56",
   "metadata": {},
   "outputs": [],
   "source": [
    "# unknown_values = df[(df['CPU_Load_Category'] == 4)]\n",
    "# print(unknown_values)\n",
    "\n",
    "# df = df[df['CPU_Load_Category'] != 'unknown']"
   ]
  },
  {
   "cell_type": "code",
   "execution_count": null,
   "id": "4310a11c-e66a-4284-9dad-f833ae06ee34",
   "metadata": {},
   "outputs": [],
   "source": []
  },
  {
   "cell_type": "code",
   "execution_count": 102,
   "id": "f606d1fe-d923-4354-bffe-eb8aacc80709",
   "metadata": {},
   "outputs": [
    {
     "name": "stdout",
     "output_type": "stream",
     "text": [
      "split completed\n",
      "time for model\n",
      "model ready\n"
     ]
    }
   ],
   "source": [
    "\n",
    "\n",
    "X = df[[\"Series_num\", \"Seconds_since_midnight\", \n",
    "        \"CPU1_Temperature\",\"CPU2_Temperature\",\n",
    "        \"Ram_Used\", \"Power\"]]\n",
    "\n",
    "y = df[\"CPU_Load\"]\n",
    "\n",
    "X = X.fillna(X.median())\n",
    "y = y.fillna(y.median())\n",
    "X_train, X_test, y_train, y_test = train_test_split(X, y, test_size=0.2, random_state=42)\n",
    "\n",
    "\n",
    "print(\"split completed\")\n",
    "\n",
    "\n",
    "print(\"time for model\")\n",
    "model = XGBRegressor(objective='reg:squarederror', eval_metric='rmse')\n",
    "model.fit(X_train, y_train)\n",
    "\n",
    "\n",
    "print(\"model ready\")\n"
   ]
  },
  {
   "cell_type": "code",
   "execution_count": null,
   "id": "db16501d",
   "metadata": {},
   "outputs": [],
   "source": []
  },
  {
   "cell_type": "code",
   "execution_count": 103,
   "id": "44bee4a3-933c-4453-adb8-acaef5a89e09",
   "metadata": {},
   "outputs": [
    {
     "name": "stdout",
     "output_type": "stream",
     "text": [
      "         Series_num  Seconds_since_midnight  CPU1_Temperature  \\\n",
      "1812116         140                   82800         58.133333   \n",
      "2188793         164                   63000         56.683333   \n",
      "2547443         188                   30600         51.700000   \n",
      "379646          139                   39600         68.183333   \n",
      "2725678         199                    6000         65.033333   \n",
      "...             ...                     ...               ...   \n",
      "857473          162                   15000         46.183333   \n",
      "267425          133                   72000         45.600000   \n",
      "920660          165                   79200         44.950000   \n",
      "926499          165                   31200         44.116667   \n",
      "2393593         178                   85800         59.066667   \n",
      "\n",
      "         CPU2_Temperature  Ram_Used       Power  \n",
      "1812116         49.350000  21.92675  176.000000  \n",
      "2188793         47.400000  28.48675  277.466667  \n",
      "2547443         41.160000  35.14275  160.000000  \n",
      "379646          56.116667  43.84675  270.266667  \n",
      "2725678         57.083333   3.91075  235.900000  \n",
      "...                   ...       ...         ...  \n",
      "857473          37.816667  34.21475  176.000000  \n",
      "267425          41.216667   3.91075  160.000000  \n",
      "920660          36.933333  38.47075  168.666667  \n",
      "926499          36.866667  38.47075  168.000000  \n",
      "2393593         47.683333  49.99075  163.600000  \n",
      "\n",
      "[549705 rows x 6 columns]\n",
      "Validation RMSE: 2.072\n",
      "R²-score: 0.979\n",
      "0     3.621818\n",
      "1     3.621818\n",
      "2     3.621818\n",
      "3     3.621818\n",
      "4     3.621818\n",
      "        ...   \n",
      "71    6.713703\n",
      "72    6.713703\n",
      "73    6.713703\n",
      "74    6.713703\n",
      "75    6.246946\n",
      "Name: cpu_fit, Length: 76, dtype: float32\n"
     ]
    },
    {
     "data": {
      "application/vnd.plotly.v1+json": {
       "config": {
        "plotlyServerURL": "https://plot.ly"
       },
       "data": [
        {
         "marker": {
          "color": "#0066cc"
         },
         "name": "CPU Load %",
         "type": "scatter",
         "x": [
          "2018-10-09T11:20:00",
          "2018-10-09T11:30:00",
          "2018-10-09T11:40:00",
          "2018-10-09T11:50:00",
          "2018-10-09T12:00:00",
          "2018-10-09T12:10:00",
          "2018-10-09T12:20:00",
          "2018-10-09T12:30:00",
          "2018-10-09T12:40:00",
          "2018-10-09T12:50:00",
          "2018-10-09T13:00:00",
          "2018-10-09T13:10:00",
          "2018-10-09T13:20:00",
          "2018-10-09T13:30:00",
          "2018-10-09T13:40:00",
          "2018-10-09T13:50:00",
          "2018-10-09T14:00:00",
          "2018-10-09T14:10:00",
          "2018-10-09T14:20:00",
          "2018-10-09T14:30:00",
          "2018-10-09T14:40:00",
          "2018-10-09T14:50:00",
          "2018-10-09T15:00:00",
          "2018-10-09T15:10:00",
          "2018-10-09T15:20:00",
          "2018-10-09T15:30:00",
          "2018-10-09T15:40:00",
          "2018-10-09T15:50:00",
          "2018-10-09T16:00:00",
          "2018-10-09T16:10:00",
          "2018-10-09T16:20:00",
          "2018-10-09T16:30:00",
          "2018-10-09T16:40:00",
          "2018-10-09T16:50:00",
          "2018-10-09T17:00:00",
          "2018-10-09T17:10:00",
          "2018-10-09T17:20:00",
          "2018-10-09T17:30:00",
          "2018-10-09T17:40:00",
          "2018-10-09T17:50:00",
          "2018-10-09T18:00:00",
          "2018-10-09T18:10:00",
          "2018-10-09T18:20:00",
          "2018-10-09T18:30:00",
          "2018-10-09T18:40:00",
          "2018-10-09T18:50:00",
          "2018-10-09T19:00:00",
          "2018-10-09T19:10:00",
          "2018-10-09T19:20:00",
          "2018-10-09T19:30:00",
          "2018-10-09T19:40:00",
          "2018-10-09T19:50:00",
          "2018-10-09T20:00:00",
          "2018-10-09T20:10:00",
          "2018-10-09T20:20:00",
          "2018-10-09T20:30:00",
          "2018-10-09T20:40:00",
          "2018-10-09T20:50:00",
          "2018-10-09T21:00:00",
          "2018-10-09T21:10:00",
          "2018-10-09T21:20:00",
          "2018-10-09T21:30:00",
          "2018-10-09T21:40:00",
          "2018-10-09T21:50:00",
          "2018-10-09T22:00:00",
          "2018-10-09T22:10:00",
          "2018-10-09T22:20:00",
          "2018-10-09T22:30:00",
          "2018-10-09T22:40:00",
          "2018-10-09T22:50:00",
          "2018-10-09T23:00:00",
          "2018-10-09T23:10:00",
          "2018-10-09T23:20:00",
          "2018-10-09T23:30:00",
          "2018-10-09T23:40:00",
          "2018-10-09T23:50:00"
         ],
         "y": [
          3.4685,
          3.622833333333333,
          3.4145000000000003,
          3.3325,
          3.364,
          3.609,
          4.315666666666667,
          6.522500000000001,
          3.4795000000000003,
          3.6545,
          3.891333333333333,
          3.5651666666666664,
          3.826666666666666,
          3.698500000000001,
          4.333166666666666,
          4.291666666666666,
          3.595333333333333,
          3.889833333333333,
          3.7751666666666654,
          3.8086666666666673,
          3.980833333333333,
          3.613,
          3.651166666666666,
          4.105166666666666,
          3.827833333333333,
          3.770333333333333,
          4.272833333333333,
          7.224000000000001,
          6.997833333333333,
          7.203833333333333,
          7.458166666666666,
          6.970666666666666,
          7.144666666666668,
          7.1033333333333335,
          6.9075000000000015,
          7.246333333333333,
          7.107000000000001,
          7.374833333333332,
          7.239999999999998,
          7.5790000000000015,
          7.3935,
          7.253333333333333,
          7.201833333333335,
          7.294666666666666,
          6.702166666666668,
          7.162333333333334,
          7.013999999999999,
          7.126666666666665,
          7.399499999999999,
          6.7731666666666674,
          7.456500000000001,
          7.6225,
          7.631,
          7.083000000000001,
          6.535666666666666,
          6.2876666666666665,
          7.018833333333332,
          7.264166666666666,
          6.938833333333332,
          7.002666666666667,
          7.331,
          7.1685,
          6.988999999999999,
          6.854666666666665,
          6.979666666666668,
          6.380333333333334,
          7.208833333333333,
          7.118666666666668,
          6.9475,
          6.965166666666666,
          7.549666666666668,
          7.461833333333334,
          7.3175,
          7.336666666666666,
          7.3231666666666655,
          7.067333333333332
         ]
        },
        {
         "marker": {
          "color": "#cc0000"
         },
         "name": "Predicted CPU Load %",
         "type": "scatter",
         "x": [
          "2018-10-09T11:20:00",
          "2018-10-09T11:30:00",
          "2018-10-09T11:40:00",
          "2018-10-09T11:50:00",
          "2018-10-09T12:00:00",
          "2018-10-09T12:10:00",
          "2018-10-09T12:20:00",
          "2018-10-09T12:30:00",
          "2018-10-09T12:40:00",
          "2018-10-09T12:50:00",
          "2018-10-09T13:00:00",
          "2018-10-09T13:10:00",
          "2018-10-09T13:20:00",
          "2018-10-09T13:30:00",
          "2018-10-09T13:40:00",
          "2018-10-09T13:50:00",
          "2018-10-09T14:00:00",
          "2018-10-09T14:10:00",
          "2018-10-09T14:20:00",
          "2018-10-09T14:30:00",
          "2018-10-09T14:40:00",
          "2018-10-09T14:50:00",
          "2018-10-09T15:00:00",
          "2018-10-09T15:10:00",
          "2018-10-09T15:20:00",
          "2018-10-09T15:30:00",
          "2018-10-09T15:40:00",
          "2018-10-09T15:50:00",
          "2018-10-09T16:00:00",
          "2018-10-09T16:10:00",
          "2018-10-09T16:20:00",
          "2018-10-09T16:30:00",
          "2018-10-09T16:40:00",
          "2018-10-09T16:50:00",
          "2018-10-09T17:00:00",
          "2018-10-09T17:10:00",
          "2018-10-09T17:20:00",
          "2018-10-09T17:30:00",
          "2018-10-09T17:40:00",
          "2018-10-09T17:50:00",
          "2018-10-09T18:00:00",
          "2018-10-09T18:10:00",
          "2018-10-09T18:20:00",
          "2018-10-09T18:30:00",
          "2018-10-09T18:40:00",
          "2018-10-09T18:50:00",
          "2018-10-09T19:00:00",
          "2018-10-09T19:10:00",
          "2018-10-09T19:20:00",
          "2018-10-09T19:30:00",
          "2018-10-09T19:40:00",
          "2018-10-09T19:50:00",
          "2018-10-09T20:00:00",
          "2018-10-09T20:10:00",
          "2018-10-09T20:20:00",
          "2018-10-09T20:30:00",
          "2018-10-09T20:40:00",
          "2018-10-09T20:50:00",
          "2018-10-09T21:00:00",
          "2018-10-09T21:10:00",
          "2018-10-09T21:20:00",
          "2018-10-09T21:30:00",
          "2018-10-09T21:40:00",
          "2018-10-09T21:50:00",
          "2018-10-09T22:00:00",
          "2018-10-09T22:10:00",
          "2018-10-09T22:20:00",
          "2018-10-09T22:30:00",
          "2018-10-09T22:40:00",
          "2018-10-09T22:50:00",
          "2018-10-09T23:00:00",
          "2018-10-09T23:10:00",
          "2018-10-09T23:20:00",
          "2018-10-09T23:30:00",
          "2018-10-09T23:40:00",
          "2018-10-09T23:50:00"
         ],
         "y": [
          3.6218175888061523,
          3.6218175888061523,
          3.6218175888061523,
          3.6218175888061523,
          3.6218175888061523,
          3.6218175888061523,
          3.6218175888061523,
          4.643524646759033,
          3.6218175888061523,
          3.6218175888061523,
          3.6218175888061523,
          3.6218175888061523,
          3.6218175888061523,
          3.6218175888061523,
          3.6218175888061523,
          3.6218175888061523,
          3.6218175888061523,
          3.6218175888061523,
          3.6218175888061523,
          4.028552532196045,
          4.035416126251221,
          3.365530490875244,
          3.365530490875244,
          3.4845147132873535,
          3.6218175888061523,
          3.6218175888061523,
          4.55682897567749,
          5.859922409057617,
          5.859922409057617,
          6.71370267868042,
          6.347014427185059,
          6.794700622558594,
          6.246946334838867,
          6.246946334838867,
          6.246946334838867,
          6.246946334838867,
          6.246946334838867,
          6.519298553466797,
          6.519298553466797,
          6.71370267868042,
          6.71370267868042,
          6.246946334838867,
          6.246946334838867,
          6.519298553466797,
          6.71370267868042,
          6.71370267868042,
          6.71370267868042,
          6.519298553466797,
          6.71370267868042,
          6.519298553466797,
          6.71370267868042,
          6.694592475891113,
          5.536035060882568,
          5.536035060882568,
          5.832883358001709,
          6.519298553466797,
          6.71370267868042,
          6.519298553466797,
          6.246946334838867,
          6.519298553466797,
          6.246946334838867,
          6.71370267868042,
          6.246946334838867,
          6.246946334838867,
          6.71370267868042,
          6.189056873321533,
          6.246946334838867,
          6.71370267868042,
          6.246946334838867,
          6.246946334838867,
          6.71370267868042,
          6.71370267868042,
          6.71370267868042,
          6.71370267868042,
          6.71370267868042,
          6.246946334838867
         ]
        },
        {
         "line": {
          "color": "#e0e0e0",
          "width": 1
         },
         "mode": "lines",
         "name": "Difference",
         "showlegend": false,
         "type": "scatter",
         "x": [
          "2018-10-09T11:20:00",
          "2018-10-09T11:20:00"
         ],
         "y": [
          3.4685,
          3.6218175888061523
         ]
        },
        {
         "line": {
          "color": "#e0e0e0",
          "width": 1
         },
         "mode": "lines",
         "name": "Difference",
         "showlegend": false,
         "type": "scatter",
         "x": [
          "2018-10-09T11:30:00",
          "2018-10-09T11:30:00"
         ],
         "y": [
          3.622833333333333,
          3.6218175888061523
         ]
        },
        {
         "line": {
          "color": "#e0e0e0",
          "width": 1
         },
         "mode": "lines",
         "name": "Difference",
         "showlegend": false,
         "type": "scatter",
         "x": [
          "2018-10-09T11:40:00",
          "2018-10-09T11:40:00"
         ],
         "y": [
          3.4145000000000003,
          3.6218175888061523
         ]
        },
        {
         "line": {
          "color": "#e0e0e0",
          "width": 1
         },
         "mode": "lines",
         "name": "Difference",
         "showlegend": false,
         "type": "scatter",
         "x": [
          "2018-10-09T11:50:00",
          "2018-10-09T11:50:00"
         ],
         "y": [
          3.3325,
          3.6218175888061523
         ]
        },
        {
         "line": {
          "color": "#e0e0e0",
          "width": 1
         },
         "mode": "lines",
         "name": "Difference",
         "showlegend": false,
         "type": "scatter",
         "x": [
          "2018-10-09T12:00:00",
          "2018-10-09T12:00:00"
         ],
         "y": [
          3.364,
          3.6218175888061523
         ]
        },
        {
         "line": {
          "color": "#e0e0e0",
          "width": 1
         },
         "mode": "lines",
         "name": "Difference",
         "showlegend": false,
         "type": "scatter",
         "x": [
          "2018-10-09T12:10:00",
          "2018-10-09T12:10:00"
         ],
         "y": [
          3.609,
          3.6218175888061523
         ]
        },
        {
         "line": {
          "color": "#e0e0e0",
          "width": 1
         },
         "mode": "lines",
         "name": "Difference",
         "showlegend": false,
         "type": "scatter",
         "x": [
          "2018-10-09T12:20:00",
          "2018-10-09T12:20:00"
         ],
         "y": [
          4.315666666666667,
          3.6218175888061523
         ]
        },
        {
         "line": {
          "color": "#e0e0e0",
          "width": 1
         },
         "mode": "lines",
         "name": "Difference",
         "showlegend": false,
         "type": "scatter",
         "x": [
          "2018-10-09T12:30:00",
          "2018-10-09T12:30:00"
         ],
         "y": [
          6.522500000000001,
          4.643524646759033
         ]
        },
        {
         "line": {
          "color": "#e0e0e0",
          "width": 1
         },
         "mode": "lines",
         "name": "Difference",
         "showlegend": false,
         "type": "scatter",
         "x": [
          "2018-10-09T12:40:00",
          "2018-10-09T12:40:00"
         ],
         "y": [
          3.4795000000000003,
          3.6218175888061523
         ]
        },
        {
         "line": {
          "color": "#e0e0e0",
          "width": 1
         },
         "mode": "lines",
         "name": "Difference",
         "showlegend": false,
         "type": "scatter",
         "x": [
          "2018-10-09T12:50:00",
          "2018-10-09T12:50:00"
         ],
         "y": [
          3.6545,
          3.6218175888061523
         ]
        },
        {
         "line": {
          "color": "#e0e0e0",
          "width": 1
         },
         "mode": "lines",
         "name": "Difference",
         "showlegend": false,
         "type": "scatter",
         "x": [
          "2018-10-09T13:00:00",
          "2018-10-09T13:00:00"
         ],
         "y": [
          3.891333333333333,
          3.6218175888061523
         ]
        },
        {
         "line": {
          "color": "#e0e0e0",
          "width": 1
         },
         "mode": "lines",
         "name": "Difference",
         "showlegend": false,
         "type": "scatter",
         "x": [
          "2018-10-09T13:10:00",
          "2018-10-09T13:10:00"
         ],
         "y": [
          3.5651666666666664,
          3.6218175888061523
         ]
        },
        {
         "line": {
          "color": "#e0e0e0",
          "width": 1
         },
         "mode": "lines",
         "name": "Difference",
         "showlegend": false,
         "type": "scatter",
         "x": [
          "2018-10-09T13:20:00",
          "2018-10-09T13:20:00"
         ],
         "y": [
          3.826666666666666,
          3.6218175888061523
         ]
        },
        {
         "line": {
          "color": "#e0e0e0",
          "width": 1
         },
         "mode": "lines",
         "name": "Difference",
         "showlegend": false,
         "type": "scatter",
         "x": [
          "2018-10-09T13:30:00",
          "2018-10-09T13:30:00"
         ],
         "y": [
          3.698500000000001,
          3.6218175888061523
         ]
        },
        {
         "line": {
          "color": "#e0e0e0",
          "width": 1
         },
         "mode": "lines",
         "name": "Difference",
         "showlegend": false,
         "type": "scatter",
         "x": [
          "2018-10-09T13:40:00",
          "2018-10-09T13:40:00"
         ],
         "y": [
          4.333166666666666,
          3.6218175888061523
         ]
        },
        {
         "line": {
          "color": "#e0e0e0",
          "width": 1
         },
         "mode": "lines",
         "name": "Difference",
         "showlegend": false,
         "type": "scatter",
         "x": [
          "2018-10-09T13:50:00",
          "2018-10-09T13:50:00"
         ],
         "y": [
          4.291666666666666,
          3.6218175888061523
         ]
        },
        {
         "line": {
          "color": "#e0e0e0",
          "width": 1
         },
         "mode": "lines",
         "name": "Difference",
         "showlegend": false,
         "type": "scatter",
         "x": [
          "2018-10-09T14:00:00",
          "2018-10-09T14:00:00"
         ],
         "y": [
          3.595333333333333,
          3.6218175888061523
         ]
        },
        {
         "line": {
          "color": "#e0e0e0",
          "width": 1
         },
         "mode": "lines",
         "name": "Difference",
         "showlegend": false,
         "type": "scatter",
         "x": [
          "2018-10-09T14:10:00",
          "2018-10-09T14:10:00"
         ],
         "y": [
          3.889833333333333,
          3.6218175888061523
         ]
        },
        {
         "line": {
          "color": "#e0e0e0",
          "width": 1
         },
         "mode": "lines",
         "name": "Difference",
         "showlegend": false,
         "type": "scatter",
         "x": [
          "2018-10-09T14:20:00",
          "2018-10-09T14:20:00"
         ],
         "y": [
          3.7751666666666654,
          3.6218175888061523
         ]
        },
        {
         "line": {
          "color": "#e0e0e0",
          "width": 1
         },
         "mode": "lines",
         "name": "Difference",
         "showlegend": false,
         "type": "scatter",
         "x": [
          "2018-10-09T14:30:00",
          "2018-10-09T14:30:00"
         ],
         "y": [
          3.8086666666666673,
          4.028552532196045
         ]
        },
        {
         "line": {
          "color": "#e0e0e0",
          "width": 1
         },
         "mode": "lines",
         "name": "Difference",
         "showlegend": false,
         "type": "scatter",
         "x": [
          "2018-10-09T14:40:00",
          "2018-10-09T14:40:00"
         ],
         "y": [
          3.980833333333333,
          4.035416126251221
         ]
        },
        {
         "line": {
          "color": "#e0e0e0",
          "width": 1
         },
         "mode": "lines",
         "name": "Difference",
         "showlegend": false,
         "type": "scatter",
         "x": [
          "2018-10-09T14:50:00",
          "2018-10-09T14:50:00"
         ],
         "y": [
          3.613,
          3.365530490875244
         ]
        },
        {
         "line": {
          "color": "#e0e0e0",
          "width": 1
         },
         "mode": "lines",
         "name": "Difference",
         "showlegend": false,
         "type": "scatter",
         "x": [
          "2018-10-09T15:00:00",
          "2018-10-09T15:00:00"
         ],
         "y": [
          3.651166666666666,
          3.365530490875244
         ]
        },
        {
         "line": {
          "color": "#e0e0e0",
          "width": 1
         },
         "mode": "lines",
         "name": "Difference",
         "showlegend": false,
         "type": "scatter",
         "x": [
          "2018-10-09T15:10:00",
          "2018-10-09T15:10:00"
         ],
         "y": [
          4.105166666666666,
          3.4845147132873535
         ]
        },
        {
         "line": {
          "color": "#e0e0e0",
          "width": 1
         },
         "mode": "lines",
         "name": "Difference",
         "showlegend": false,
         "type": "scatter",
         "x": [
          "2018-10-09T15:20:00",
          "2018-10-09T15:20:00"
         ],
         "y": [
          3.827833333333333,
          3.6218175888061523
         ]
        },
        {
         "line": {
          "color": "#e0e0e0",
          "width": 1
         },
         "mode": "lines",
         "name": "Difference",
         "showlegend": false,
         "type": "scatter",
         "x": [
          "2018-10-09T15:30:00",
          "2018-10-09T15:30:00"
         ],
         "y": [
          3.770333333333333,
          3.6218175888061523
         ]
        },
        {
         "line": {
          "color": "#e0e0e0",
          "width": 1
         },
         "mode": "lines",
         "name": "Difference",
         "showlegend": false,
         "type": "scatter",
         "x": [
          "2018-10-09T15:40:00",
          "2018-10-09T15:40:00"
         ],
         "y": [
          4.272833333333333,
          4.55682897567749
         ]
        },
        {
         "line": {
          "color": "#e0e0e0",
          "width": 1
         },
         "mode": "lines",
         "name": "Difference",
         "showlegend": false,
         "type": "scatter",
         "x": [
          "2018-10-09T15:50:00",
          "2018-10-09T15:50:00"
         ],
         "y": [
          7.224000000000001,
          5.859922409057617
         ]
        },
        {
         "line": {
          "color": "#e0e0e0",
          "width": 1
         },
         "mode": "lines",
         "name": "Difference",
         "showlegend": false,
         "type": "scatter",
         "x": [
          "2018-10-09T16:00:00",
          "2018-10-09T16:00:00"
         ],
         "y": [
          6.997833333333333,
          5.859922409057617
         ]
        },
        {
         "line": {
          "color": "#e0e0e0",
          "width": 1
         },
         "mode": "lines",
         "name": "Difference",
         "showlegend": false,
         "type": "scatter",
         "x": [
          "2018-10-09T16:10:00",
          "2018-10-09T16:10:00"
         ],
         "y": [
          7.203833333333333,
          6.71370267868042
         ]
        },
        {
         "line": {
          "color": "#e0e0e0",
          "width": 1
         },
         "mode": "lines",
         "name": "Difference",
         "showlegend": false,
         "type": "scatter",
         "x": [
          "2018-10-09T16:20:00",
          "2018-10-09T16:20:00"
         ],
         "y": [
          7.458166666666666,
          6.347014427185059
         ]
        },
        {
         "line": {
          "color": "#e0e0e0",
          "width": 1
         },
         "mode": "lines",
         "name": "Difference",
         "showlegend": false,
         "type": "scatter",
         "x": [
          "2018-10-09T16:30:00",
          "2018-10-09T16:30:00"
         ],
         "y": [
          6.970666666666666,
          6.794700622558594
         ]
        },
        {
         "line": {
          "color": "#e0e0e0",
          "width": 1
         },
         "mode": "lines",
         "name": "Difference",
         "showlegend": false,
         "type": "scatter",
         "x": [
          "2018-10-09T16:40:00",
          "2018-10-09T16:40:00"
         ],
         "y": [
          7.144666666666668,
          6.246946334838867
         ]
        },
        {
         "line": {
          "color": "#e0e0e0",
          "width": 1
         },
         "mode": "lines",
         "name": "Difference",
         "showlegend": false,
         "type": "scatter",
         "x": [
          "2018-10-09T16:50:00",
          "2018-10-09T16:50:00"
         ],
         "y": [
          7.1033333333333335,
          6.246946334838867
         ]
        },
        {
         "line": {
          "color": "#e0e0e0",
          "width": 1
         },
         "mode": "lines",
         "name": "Difference",
         "showlegend": false,
         "type": "scatter",
         "x": [
          "2018-10-09T17:00:00",
          "2018-10-09T17:00:00"
         ],
         "y": [
          6.9075000000000015,
          6.246946334838867
         ]
        },
        {
         "line": {
          "color": "#e0e0e0",
          "width": 1
         },
         "mode": "lines",
         "name": "Difference",
         "showlegend": false,
         "type": "scatter",
         "x": [
          "2018-10-09T17:10:00",
          "2018-10-09T17:10:00"
         ],
         "y": [
          7.246333333333333,
          6.246946334838867
         ]
        },
        {
         "line": {
          "color": "#e0e0e0",
          "width": 1
         },
         "mode": "lines",
         "name": "Difference",
         "showlegend": false,
         "type": "scatter",
         "x": [
          "2018-10-09T17:20:00",
          "2018-10-09T17:20:00"
         ],
         "y": [
          7.107000000000001,
          6.246946334838867
         ]
        },
        {
         "line": {
          "color": "#e0e0e0",
          "width": 1
         },
         "mode": "lines",
         "name": "Difference",
         "showlegend": false,
         "type": "scatter",
         "x": [
          "2018-10-09T17:30:00",
          "2018-10-09T17:30:00"
         ],
         "y": [
          7.374833333333332,
          6.519298553466797
         ]
        },
        {
         "line": {
          "color": "#e0e0e0",
          "width": 1
         },
         "mode": "lines",
         "name": "Difference",
         "showlegend": false,
         "type": "scatter",
         "x": [
          "2018-10-09T17:40:00",
          "2018-10-09T17:40:00"
         ],
         "y": [
          7.239999999999998,
          6.519298553466797
         ]
        },
        {
         "line": {
          "color": "#e0e0e0",
          "width": 1
         },
         "mode": "lines",
         "name": "Difference",
         "showlegend": false,
         "type": "scatter",
         "x": [
          "2018-10-09T17:50:00",
          "2018-10-09T17:50:00"
         ],
         "y": [
          7.5790000000000015,
          6.71370267868042
         ]
        },
        {
         "line": {
          "color": "#e0e0e0",
          "width": 1
         },
         "mode": "lines",
         "name": "Difference",
         "showlegend": false,
         "type": "scatter",
         "x": [
          "2018-10-09T18:00:00",
          "2018-10-09T18:00:00"
         ],
         "y": [
          7.3935,
          6.71370267868042
         ]
        },
        {
         "line": {
          "color": "#e0e0e0",
          "width": 1
         },
         "mode": "lines",
         "name": "Difference",
         "showlegend": false,
         "type": "scatter",
         "x": [
          "2018-10-09T18:10:00",
          "2018-10-09T18:10:00"
         ],
         "y": [
          7.253333333333333,
          6.246946334838867
         ]
        },
        {
         "line": {
          "color": "#e0e0e0",
          "width": 1
         },
         "mode": "lines",
         "name": "Difference",
         "showlegend": false,
         "type": "scatter",
         "x": [
          "2018-10-09T18:20:00",
          "2018-10-09T18:20:00"
         ],
         "y": [
          7.201833333333335,
          6.246946334838867
         ]
        },
        {
         "line": {
          "color": "#e0e0e0",
          "width": 1
         },
         "mode": "lines",
         "name": "Difference",
         "showlegend": false,
         "type": "scatter",
         "x": [
          "2018-10-09T18:30:00",
          "2018-10-09T18:30:00"
         ],
         "y": [
          7.294666666666666,
          6.519298553466797
         ]
        },
        {
         "line": {
          "color": "#e0e0e0",
          "width": 1
         },
         "mode": "lines",
         "name": "Difference",
         "showlegend": false,
         "type": "scatter",
         "x": [
          "2018-10-09T18:40:00",
          "2018-10-09T18:40:00"
         ],
         "y": [
          6.702166666666668,
          6.71370267868042
         ]
        },
        {
         "line": {
          "color": "#e0e0e0",
          "width": 1
         },
         "mode": "lines",
         "name": "Difference",
         "showlegend": false,
         "type": "scatter",
         "x": [
          "2018-10-09T18:50:00",
          "2018-10-09T18:50:00"
         ],
         "y": [
          7.162333333333334,
          6.71370267868042
         ]
        },
        {
         "line": {
          "color": "#e0e0e0",
          "width": 1
         },
         "mode": "lines",
         "name": "Difference",
         "showlegend": false,
         "type": "scatter",
         "x": [
          "2018-10-09T19:00:00",
          "2018-10-09T19:00:00"
         ],
         "y": [
          7.013999999999999,
          6.71370267868042
         ]
        },
        {
         "line": {
          "color": "#e0e0e0",
          "width": 1
         },
         "mode": "lines",
         "name": "Difference",
         "showlegend": false,
         "type": "scatter",
         "x": [
          "2018-10-09T19:10:00",
          "2018-10-09T19:10:00"
         ],
         "y": [
          7.126666666666665,
          6.519298553466797
         ]
        },
        {
         "line": {
          "color": "#e0e0e0",
          "width": 1
         },
         "mode": "lines",
         "name": "Difference",
         "showlegend": false,
         "type": "scatter",
         "x": [
          "2018-10-09T19:20:00",
          "2018-10-09T19:20:00"
         ],
         "y": [
          7.399499999999999,
          6.71370267868042
         ]
        },
        {
         "line": {
          "color": "#e0e0e0",
          "width": 1
         },
         "mode": "lines",
         "name": "Difference",
         "showlegend": false,
         "type": "scatter",
         "x": [
          "2018-10-09T19:30:00",
          "2018-10-09T19:30:00"
         ],
         "y": [
          6.7731666666666674,
          6.519298553466797
         ]
        },
        {
         "line": {
          "color": "#e0e0e0",
          "width": 1
         },
         "mode": "lines",
         "name": "Difference",
         "showlegend": false,
         "type": "scatter",
         "x": [
          "2018-10-09T19:40:00",
          "2018-10-09T19:40:00"
         ],
         "y": [
          7.456500000000001,
          6.71370267868042
         ]
        },
        {
         "line": {
          "color": "#e0e0e0",
          "width": 1
         },
         "mode": "lines",
         "name": "Difference",
         "showlegend": false,
         "type": "scatter",
         "x": [
          "2018-10-09T19:50:00",
          "2018-10-09T19:50:00"
         ],
         "y": [
          7.6225,
          6.694592475891113
         ]
        },
        {
         "line": {
          "color": "#e0e0e0",
          "width": 1
         },
         "mode": "lines",
         "name": "Difference",
         "showlegend": false,
         "type": "scatter",
         "x": [
          "2018-10-09T20:00:00",
          "2018-10-09T20:00:00"
         ],
         "y": [
          7.631,
          5.536035060882568
         ]
        },
        {
         "line": {
          "color": "#e0e0e0",
          "width": 1
         },
         "mode": "lines",
         "name": "Difference",
         "showlegend": false,
         "type": "scatter",
         "x": [
          "2018-10-09T20:10:00",
          "2018-10-09T20:10:00"
         ],
         "y": [
          7.083000000000001,
          5.536035060882568
         ]
        },
        {
         "line": {
          "color": "#e0e0e0",
          "width": 1
         },
         "mode": "lines",
         "name": "Difference",
         "showlegend": false,
         "type": "scatter",
         "x": [
          "2018-10-09T20:20:00",
          "2018-10-09T20:20:00"
         ],
         "y": [
          6.535666666666666,
          5.832883358001709
         ]
        },
        {
         "line": {
          "color": "#e0e0e0",
          "width": 1
         },
         "mode": "lines",
         "name": "Difference",
         "showlegend": false,
         "type": "scatter",
         "x": [
          "2018-10-09T20:30:00",
          "2018-10-09T20:30:00"
         ],
         "y": [
          6.2876666666666665,
          6.519298553466797
         ]
        },
        {
         "line": {
          "color": "#e0e0e0",
          "width": 1
         },
         "mode": "lines",
         "name": "Difference",
         "showlegend": false,
         "type": "scatter",
         "x": [
          "2018-10-09T20:40:00",
          "2018-10-09T20:40:00"
         ],
         "y": [
          7.018833333333332,
          6.71370267868042
         ]
        },
        {
         "line": {
          "color": "#e0e0e0",
          "width": 1
         },
         "mode": "lines",
         "name": "Difference",
         "showlegend": false,
         "type": "scatter",
         "x": [
          "2018-10-09T20:50:00",
          "2018-10-09T20:50:00"
         ],
         "y": [
          7.264166666666666,
          6.519298553466797
         ]
        },
        {
         "line": {
          "color": "#e0e0e0",
          "width": 1
         },
         "mode": "lines",
         "name": "Difference",
         "showlegend": false,
         "type": "scatter",
         "x": [
          "2018-10-09T21:00:00",
          "2018-10-09T21:00:00"
         ],
         "y": [
          6.938833333333332,
          6.246946334838867
         ]
        },
        {
         "line": {
          "color": "#e0e0e0",
          "width": 1
         },
         "mode": "lines",
         "name": "Difference",
         "showlegend": false,
         "type": "scatter",
         "x": [
          "2018-10-09T21:10:00",
          "2018-10-09T21:10:00"
         ],
         "y": [
          7.002666666666667,
          6.519298553466797
         ]
        },
        {
         "line": {
          "color": "#e0e0e0",
          "width": 1
         },
         "mode": "lines",
         "name": "Difference",
         "showlegend": false,
         "type": "scatter",
         "x": [
          "2018-10-09T21:20:00",
          "2018-10-09T21:20:00"
         ],
         "y": [
          7.331,
          6.246946334838867
         ]
        },
        {
         "line": {
          "color": "#e0e0e0",
          "width": 1
         },
         "mode": "lines",
         "name": "Difference",
         "showlegend": false,
         "type": "scatter",
         "x": [
          "2018-10-09T21:30:00",
          "2018-10-09T21:30:00"
         ],
         "y": [
          7.1685,
          6.71370267868042
         ]
        },
        {
         "line": {
          "color": "#e0e0e0",
          "width": 1
         },
         "mode": "lines",
         "name": "Difference",
         "showlegend": false,
         "type": "scatter",
         "x": [
          "2018-10-09T21:40:00",
          "2018-10-09T21:40:00"
         ],
         "y": [
          6.988999999999999,
          6.246946334838867
         ]
        },
        {
         "line": {
          "color": "#e0e0e0",
          "width": 1
         },
         "mode": "lines",
         "name": "Difference",
         "showlegend": false,
         "type": "scatter",
         "x": [
          "2018-10-09T21:50:00",
          "2018-10-09T21:50:00"
         ],
         "y": [
          6.854666666666665,
          6.246946334838867
         ]
        },
        {
         "line": {
          "color": "#e0e0e0",
          "width": 1
         },
         "mode": "lines",
         "name": "Difference",
         "showlegend": false,
         "type": "scatter",
         "x": [
          "2018-10-09T22:00:00",
          "2018-10-09T22:00:00"
         ],
         "y": [
          6.979666666666668,
          6.71370267868042
         ]
        },
        {
         "line": {
          "color": "#e0e0e0",
          "width": 1
         },
         "mode": "lines",
         "name": "Difference",
         "showlegend": false,
         "type": "scatter",
         "x": [
          "2018-10-09T22:10:00",
          "2018-10-09T22:10:00"
         ],
         "y": [
          6.380333333333334,
          6.189056873321533
         ]
        },
        {
         "line": {
          "color": "#e0e0e0",
          "width": 1
         },
         "mode": "lines",
         "name": "Difference",
         "showlegend": false,
         "type": "scatter",
         "x": [
          "2018-10-09T22:20:00",
          "2018-10-09T22:20:00"
         ],
         "y": [
          7.208833333333333,
          6.246946334838867
         ]
        },
        {
         "line": {
          "color": "#e0e0e0",
          "width": 1
         },
         "mode": "lines",
         "name": "Difference",
         "showlegend": false,
         "type": "scatter",
         "x": [
          "2018-10-09T22:30:00",
          "2018-10-09T22:30:00"
         ],
         "y": [
          7.118666666666668,
          6.71370267868042
         ]
        },
        {
         "line": {
          "color": "#e0e0e0",
          "width": 1
         },
         "mode": "lines",
         "name": "Difference",
         "showlegend": false,
         "type": "scatter",
         "x": [
          "2018-10-09T22:40:00",
          "2018-10-09T22:40:00"
         ],
         "y": [
          6.9475,
          6.246946334838867
         ]
        },
        {
         "line": {
          "color": "#e0e0e0",
          "width": 1
         },
         "mode": "lines",
         "name": "Difference",
         "showlegend": false,
         "type": "scatter",
         "x": [
          "2018-10-09T22:50:00",
          "2018-10-09T22:50:00"
         ],
         "y": [
          6.965166666666666,
          6.246946334838867
         ]
        },
        {
         "line": {
          "color": "#e0e0e0",
          "width": 1
         },
         "mode": "lines",
         "name": "Difference",
         "showlegend": false,
         "type": "scatter",
         "x": [
          "2018-10-09T23:00:00",
          "2018-10-09T23:00:00"
         ],
         "y": [
          7.549666666666668,
          6.71370267868042
         ]
        },
        {
         "line": {
          "color": "#e0e0e0",
          "width": 1
         },
         "mode": "lines",
         "name": "Difference",
         "showlegend": false,
         "type": "scatter",
         "x": [
          "2018-10-09T23:10:00",
          "2018-10-09T23:10:00"
         ],
         "y": [
          7.461833333333334,
          6.71370267868042
         ]
        },
        {
         "line": {
          "color": "#e0e0e0",
          "width": 1
         },
         "mode": "lines",
         "name": "Difference",
         "showlegend": false,
         "type": "scatter",
         "x": [
          "2018-10-09T23:20:00",
          "2018-10-09T23:20:00"
         ],
         "y": [
          7.3175,
          6.71370267868042
         ]
        },
        {
         "line": {
          "color": "#e0e0e0",
          "width": 1
         },
         "mode": "lines",
         "name": "Difference",
         "showlegend": false,
         "type": "scatter",
         "x": [
          "2018-10-09T23:30:00",
          "2018-10-09T23:30:00"
         ],
         "y": [
          7.336666666666666,
          6.71370267868042
         ]
        },
        {
         "line": {
          "color": "#e0e0e0",
          "width": 1
         },
         "mode": "lines",
         "name": "Difference",
         "showlegend": false,
         "type": "scatter",
         "x": [
          "2018-10-09T23:40:00",
          "2018-10-09T23:40:00"
         ],
         "y": [
          7.3231666666666655,
          6.71370267868042
         ]
        },
        {
         "line": {
          "color": "#e0e0e0",
          "width": 1
         },
         "mode": "lines",
         "name": "Difference",
         "showlegend": false,
         "type": "scatter",
         "x": [
          "2018-10-09T23:50:00",
          "2018-10-09T23:50:00"
         ],
         "y": [
          7.067333333333332,
          6.246946334838867
         ]
        }
       ],
       "layout": {
        "template": {
         "data": {
          "bar": [
           {
            "error_x": {
             "color": "#2a3f5f"
            },
            "error_y": {
             "color": "#2a3f5f"
            },
            "marker": {
             "line": {
              "color": "#E5ECF6",
              "width": 0.5
             },
             "pattern": {
              "fillmode": "overlay",
              "size": 10,
              "solidity": 0.2
             }
            },
            "type": "bar"
           }
          ],
          "barpolar": [
           {
            "marker": {
             "line": {
              "color": "#E5ECF6",
              "width": 0.5
             },
             "pattern": {
              "fillmode": "overlay",
              "size": 10,
              "solidity": 0.2
             }
            },
            "type": "barpolar"
           }
          ],
          "carpet": [
           {
            "aaxis": {
             "endlinecolor": "#2a3f5f",
             "gridcolor": "white",
             "linecolor": "white",
             "minorgridcolor": "white",
             "startlinecolor": "#2a3f5f"
            },
            "baxis": {
             "endlinecolor": "#2a3f5f",
             "gridcolor": "white",
             "linecolor": "white",
             "minorgridcolor": "white",
             "startlinecolor": "#2a3f5f"
            },
            "type": "carpet"
           }
          ],
          "choropleth": [
           {
            "colorbar": {
             "outlinewidth": 0,
             "ticks": ""
            },
            "type": "choropleth"
           }
          ],
          "contour": [
           {
            "colorbar": {
             "outlinewidth": 0,
             "ticks": ""
            },
            "colorscale": [
             [
              0,
              "#0d0887"
             ],
             [
              0.1111111111111111,
              "#46039f"
             ],
             [
              0.2222222222222222,
              "#7201a8"
             ],
             [
              0.3333333333333333,
              "#9c179e"
             ],
             [
              0.4444444444444444,
              "#bd3786"
             ],
             [
              0.5555555555555556,
              "#d8576b"
             ],
             [
              0.6666666666666666,
              "#ed7953"
             ],
             [
              0.7777777777777778,
              "#fb9f3a"
             ],
             [
              0.8888888888888888,
              "#fdca26"
             ],
             [
              1,
              "#f0f921"
             ]
            ],
            "type": "contour"
           }
          ],
          "contourcarpet": [
           {
            "colorbar": {
             "outlinewidth": 0,
             "ticks": ""
            },
            "type": "contourcarpet"
           }
          ],
          "heatmap": [
           {
            "colorbar": {
             "outlinewidth": 0,
             "ticks": ""
            },
            "colorscale": [
             [
              0,
              "#0d0887"
             ],
             [
              0.1111111111111111,
              "#46039f"
             ],
             [
              0.2222222222222222,
              "#7201a8"
             ],
             [
              0.3333333333333333,
              "#9c179e"
             ],
             [
              0.4444444444444444,
              "#bd3786"
             ],
             [
              0.5555555555555556,
              "#d8576b"
             ],
             [
              0.6666666666666666,
              "#ed7953"
             ],
             [
              0.7777777777777778,
              "#fb9f3a"
             ],
             [
              0.8888888888888888,
              "#fdca26"
             ],
             [
              1,
              "#f0f921"
             ]
            ],
            "type": "heatmap"
           }
          ],
          "heatmapgl": [
           {
            "colorbar": {
             "outlinewidth": 0,
             "ticks": ""
            },
            "colorscale": [
             [
              0,
              "#0d0887"
             ],
             [
              0.1111111111111111,
              "#46039f"
             ],
             [
              0.2222222222222222,
              "#7201a8"
             ],
             [
              0.3333333333333333,
              "#9c179e"
             ],
             [
              0.4444444444444444,
              "#bd3786"
             ],
             [
              0.5555555555555556,
              "#d8576b"
             ],
             [
              0.6666666666666666,
              "#ed7953"
             ],
             [
              0.7777777777777778,
              "#fb9f3a"
             ],
             [
              0.8888888888888888,
              "#fdca26"
             ],
             [
              1,
              "#f0f921"
             ]
            ],
            "type": "heatmapgl"
           }
          ],
          "histogram": [
           {
            "marker": {
             "pattern": {
              "fillmode": "overlay",
              "size": 10,
              "solidity": 0.2
             }
            },
            "type": "histogram"
           }
          ],
          "histogram2d": [
           {
            "colorbar": {
             "outlinewidth": 0,
             "ticks": ""
            },
            "colorscale": [
             [
              0,
              "#0d0887"
             ],
             [
              0.1111111111111111,
              "#46039f"
             ],
             [
              0.2222222222222222,
              "#7201a8"
             ],
             [
              0.3333333333333333,
              "#9c179e"
             ],
             [
              0.4444444444444444,
              "#bd3786"
             ],
             [
              0.5555555555555556,
              "#d8576b"
             ],
             [
              0.6666666666666666,
              "#ed7953"
             ],
             [
              0.7777777777777778,
              "#fb9f3a"
             ],
             [
              0.8888888888888888,
              "#fdca26"
             ],
             [
              1,
              "#f0f921"
             ]
            ],
            "type": "histogram2d"
           }
          ],
          "histogram2dcontour": [
           {
            "colorbar": {
             "outlinewidth": 0,
             "ticks": ""
            },
            "colorscale": [
             [
              0,
              "#0d0887"
             ],
             [
              0.1111111111111111,
              "#46039f"
             ],
             [
              0.2222222222222222,
              "#7201a8"
             ],
             [
              0.3333333333333333,
              "#9c179e"
             ],
             [
              0.4444444444444444,
              "#bd3786"
             ],
             [
              0.5555555555555556,
              "#d8576b"
             ],
             [
              0.6666666666666666,
              "#ed7953"
             ],
             [
              0.7777777777777778,
              "#fb9f3a"
             ],
             [
              0.8888888888888888,
              "#fdca26"
             ],
             [
              1,
              "#f0f921"
             ]
            ],
            "type": "histogram2dcontour"
           }
          ],
          "mesh3d": [
           {
            "colorbar": {
             "outlinewidth": 0,
             "ticks": ""
            },
            "type": "mesh3d"
           }
          ],
          "parcoords": [
           {
            "line": {
             "colorbar": {
              "outlinewidth": 0,
              "ticks": ""
             }
            },
            "type": "parcoords"
           }
          ],
          "pie": [
           {
            "automargin": true,
            "type": "pie"
           }
          ],
          "scatter": [
           {
            "fillpattern": {
             "fillmode": "overlay",
             "size": 10,
             "solidity": 0.2
            },
            "type": "scatter"
           }
          ],
          "scatter3d": [
           {
            "line": {
             "colorbar": {
              "outlinewidth": 0,
              "ticks": ""
             }
            },
            "marker": {
             "colorbar": {
              "outlinewidth": 0,
              "ticks": ""
             }
            },
            "type": "scatter3d"
           }
          ],
          "scattercarpet": [
           {
            "marker": {
             "colorbar": {
              "outlinewidth": 0,
              "ticks": ""
             }
            },
            "type": "scattercarpet"
           }
          ],
          "scattergeo": [
           {
            "marker": {
             "colorbar": {
              "outlinewidth": 0,
              "ticks": ""
             }
            },
            "type": "scattergeo"
           }
          ],
          "scattergl": [
           {
            "marker": {
             "colorbar": {
              "outlinewidth": 0,
              "ticks": ""
             }
            },
            "type": "scattergl"
           }
          ],
          "scattermapbox": [
           {
            "marker": {
             "colorbar": {
              "outlinewidth": 0,
              "ticks": ""
             }
            },
            "type": "scattermapbox"
           }
          ],
          "scatterpolar": [
           {
            "marker": {
             "colorbar": {
              "outlinewidth": 0,
              "ticks": ""
             }
            },
            "type": "scatterpolar"
           }
          ],
          "scatterpolargl": [
           {
            "marker": {
             "colorbar": {
              "outlinewidth": 0,
              "ticks": ""
             }
            },
            "type": "scatterpolargl"
           }
          ],
          "scatterternary": [
           {
            "marker": {
             "colorbar": {
              "outlinewidth": 0,
              "ticks": ""
             }
            },
            "type": "scatterternary"
           }
          ],
          "surface": [
           {
            "colorbar": {
             "outlinewidth": 0,
             "ticks": ""
            },
            "colorscale": [
             [
              0,
              "#0d0887"
             ],
             [
              0.1111111111111111,
              "#46039f"
             ],
             [
              0.2222222222222222,
              "#7201a8"
             ],
             [
              0.3333333333333333,
              "#9c179e"
             ],
             [
              0.4444444444444444,
              "#bd3786"
             ],
             [
              0.5555555555555556,
              "#d8576b"
             ],
             [
              0.6666666666666666,
              "#ed7953"
             ],
             [
              0.7777777777777778,
              "#fb9f3a"
             ],
             [
              0.8888888888888888,
              "#fdca26"
             ],
             [
              1,
              "#f0f921"
             ]
            ],
            "type": "surface"
           }
          ],
          "table": [
           {
            "cells": {
             "fill": {
              "color": "#EBF0F8"
             },
             "line": {
              "color": "white"
             }
            },
            "header": {
             "fill": {
              "color": "#C8D4E3"
             },
             "line": {
              "color": "white"
             }
            },
            "type": "table"
           }
          ]
         },
         "layout": {
          "annotationdefaults": {
           "arrowcolor": "#2a3f5f",
           "arrowhead": 0,
           "arrowwidth": 1
          },
          "autotypenumbers": "strict",
          "coloraxis": {
           "colorbar": {
            "outlinewidth": 0,
            "ticks": ""
           }
          },
          "colorscale": {
           "diverging": [
            [
             0,
             "#8e0152"
            ],
            [
             0.1,
             "#c51b7d"
            ],
            [
             0.2,
             "#de77ae"
            ],
            [
             0.3,
             "#f1b6da"
            ],
            [
             0.4,
             "#fde0ef"
            ],
            [
             0.5,
             "#f7f7f7"
            ],
            [
             0.6,
             "#e6f5d0"
            ],
            [
             0.7,
             "#b8e186"
            ],
            [
             0.8,
             "#7fbc41"
            ],
            [
             0.9,
             "#4d9221"
            ],
            [
             1,
             "#276419"
            ]
           ],
           "sequential": [
            [
             0,
             "#0d0887"
            ],
            [
             0.1111111111111111,
             "#46039f"
            ],
            [
             0.2222222222222222,
             "#7201a8"
            ],
            [
             0.3333333333333333,
             "#9c179e"
            ],
            [
             0.4444444444444444,
             "#bd3786"
            ],
            [
             0.5555555555555556,
             "#d8576b"
            ],
            [
             0.6666666666666666,
             "#ed7953"
            ],
            [
             0.7777777777777778,
             "#fb9f3a"
            ],
            [
             0.8888888888888888,
             "#fdca26"
            ],
            [
             1,
             "#f0f921"
            ]
           ],
           "sequentialminus": [
            [
             0,
             "#0d0887"
            ],
            [
             0.1111111111111111,
             "#46039f"
            ],
            [
             0.2222222222222222,
             "#7201a8"
            ],
            [
             0.3333333333333333,
             "#9c179e"
            ],
            [
             0.4444444444444444,
             "#bd3786"
            ],
            [
             0.5555555555555556,
             "#d8576b"
            ],
            [
             0.6666666666666666,
             "#ed7953"
            ],
            [
             0.7777777777777778,
             "#fb9f3a"
            ],
            [
             0.8888888888888888,
             "#fdca26"
            ],
            [
             1,
             "#f0f921"
            ]
           ]
          },
          "colorway": [
           "#636efa",
           "#EF553B",
           "#00cc96",
           "#ab63fa",
           "#FFA15A",
           "#19d3f3",
           "#FF6692",
           "#B6E880",
           "#FF97FF",
           "#FECB52"
          ],
          "font": {
           "color": "#2a3f5f"
          },
          "geo": {
           "bgcolor": "white",
           "lakecolor": "white",
           "landcolor": "#E5ECF6",
           "showlakes": true,
           "showland": true,
           "subunitcolor": "white"
          },
          "hoverlabel": {
           "align": "left"
          },
          "hovermode": "closest",
          "mapbox": {
           "style": "light"
          },
          "paper_bgcolor": "white",
          "plot_bgcolor": "#E5ECF6",
          "polar": {
           "angularaxis": {
            "gridcolor": "white",
            "linecolor": "white",
            "ticks": ""
           },
           "bgcolor": "#E5ECF6",
           "radialaxis": {
            "gridcolor": "white",
            "linecolor": "white",
            "ticks": ""
           }
          },
          "scene": {
           "xaxis": {
            "backgroundcolor": "#E5ECF6",
            "gridcolor": "white",
            "gridwidth": 2,
            "linecolor": "white",
            "showbackground": true,
            "ticks": "",
            "zerolinecolor": "white"
           },
           "yaxis": {
            "backgroundcolor": "#E5ECF6",
            "gridcolor": "white",
            "gridwidth": 2,
            "linecolor": "white",
            "showbackground": true,
            "ticks": "",
            "zerolinecolor": "white"
           },
           "zaxis": {
            "backgroundcolor": "#E5ECF6",
            "gridcolor": "white",
            "gridwidth": 2,
            "linecolor": "white",
            "showbackground": true,
            "ticks": "",
            "zerolinecolor": "white"
           }
          },
          "shapedefaults": {
           "line": {
            "color": "#2a3f5f"
           }
          },
          "ternary": {
           "aaxis": {
            "gridcolor": "white",
            "linecolor": "white",
            "ticks": ""
           },
           "baxis": {
            "gridcolor": "white",
            "linecolor": "white",
            "ticks": ""
           },
           "bgcolor": "#E5ECF6",
           "caxis": {
            "gridcolor": "white",
            "linecolor": "white",
            "ticks": ""
           }
          },
          "title": {
           "x": 0.05
          },
          "xaxis": {
           "automargin": true,
           "gridcolor": "white",
           "linecolor": "white",
           "ticks": "",
           "title": {
            "standoff": 15
           },
           "zerolinecolor": "white",
           "zerolinewidth": 2
          },
          "yaxis": {
           "automargin": true,
           "gridcolor": "white",
           "linecolor": "white",
           "ticks": "",
           "title": {
            "standoff": 15
           },
           "zerolinecolor": "white",
           "zerolinewidth": 2
          }
         }
        }
       }
      }
     },
     "metadata": {},
     "output_type": "display_data"
    }
   ],
   "source": [
    "# voorspellen en evalueren\n",
    "y_pred = model.predict(X_test)\n",
    "print(X_test)\n",
    "mse = mean_squared_error(y_test, y_pred)\n",
    "\n",
    "# Neem de wortel ervan om RMSE te krijgen\n",
    "rmse = np.sqrt(mse)\n",
    "print(f\"Validation RMSE: {rmse:.3f}\")\n",
    "\n",
    "r2 = r2_score(y_test, y_pred)\n",
    "print(f\"R²-score: {r2:.3f}\")\n",
    "\n",
    "X_rcc120 = rcc120[[\"Series_num\", \"Seconds_since_midnight\", \n",
    "                   \"CPU1_Temperature\",\"CPU2_Temperature\",\n",
    "                   \"Ram_Used\", \"Power\"]]\n",
    "\n",
    "X_rcc120 = X_rcc120.fillna(X_rcc120.median())\n",
    "\n",
    "\n",
    "y_pred_rcc120 = model.predict(X_rcc120)\n",
    "rcc120 = rcc120.copy()\n",
    "rcc120['cpu_fit'] = y_pred_rcc120\n",
    "print(rcc120['cpu_fit'])\n",
    "\n",
    "fig = go.Figure()\n",
    "\n",
    "\n",
    "fig.add_trace(go.Scatter(\n",
    "    x=rcc120['Time'],\n",
    "    y=rcc120['CPU_Load'],\n",
    "    marker=dict(color='#0066cc'),\n",
    "    name='CPU Load %'\n",
    "))\n",
    "fig.add_trace(go.Scatter(\n",
    "    x=rcc120['Time'],\n",
    "    y=rcc120['cpu_fit'],\n",
    "\n",
    "    marker=dict(color='#cc0000'),\n",
    "    name='Predicted CPU Load %'\n",
    "))\n",
    "\n",
    "# lijnstukken tussen echte en voorspelde punten\n",
    "for i in range(len(rcc120)):\n",
    "    fig.add_trace(go.Scatter(\n",
    "        x=[rcc120['Time'].iloc[i], rcc120['Time'].iloc[i]],\n",
    "        y=[rcc120['CPU_Load'].iloc[i], rcc120['cpu_fit'].iloc[i]],\n",
    "        mode='lines',\n",
    "        line=dict(color='#e0e0e0', width=1),\n",
    "        showlegend=False,\n",
    "        name='Difference'\n",
    "    ))\n",
    "\n",
    "fig.show()\n",
    "fig.write_image(\"XGBoost_RCC120.png\", scale=2)"
   ]
  },
  {
   "cell_type": "code",
   "execution_count": 104,
   "id": "3ccbdbb6",
   "metadata": {},
   "outputs": [
    {
     "name": "stdout",
     "output_type": "stream",
     "text": [
      "split completed\n",
      "time for model\n",
      "model ready\n",
      "0     11.343727\n",
      "1     11.186000\n",
      "2     11.176149\n",
      "3     11.216061\n",
      "4     11.325065\n",
      "        ...    \n",
      "71    12.239006\n",
      "72    12.030444\n",
      "73    12.402158\n",
      "74    12.411856\n",
      "75    12.250421\n",
      "Name: cpu_fit, Length: 76, dtype: float32\n"
     ]
    },
    {
     "data": {
      "application/vnd.plotly.v1+json": {
       "config": {
        "plotlyServerURL": "https://plot.ly"
       },
       "data": [
        {
         "marker": {
          "color": "#0066cc"
         },
         "name": "CPU Load %",
         "type": "scatter",
         "x": [
          "2018-10-09T11:20:00",
          "2018-10-09T11:30:00",
          "2018-10-09T11:40:00",
          "2018-10-09T11:50:00",
          "2018-10-09T12:00:00",
          "2018-10-09T12:10:00",
          "2018-10-09T12:20:00",
          "2018-10-09T12:30:00",
          "2018-10-09T12:40:00",
          "2018-10-09T12:50:00",
          "2018-10-09T13:00:00",
          "2018-10-09T13:10:00",
          "2018-10-09T13:20:00",
          "2018-10-09T13:30:00",
          "2018-10-09T13:40:00",
          "2018-10-09T13:50:00",
          "2018-10-09T14:00:00",
          "2018-10-09T14:10:00",
          "2018-10-09T14:20:00",
          "2018-10-09T14:30:00",
          "2018-10-09T14:40:00",
          "2018-10-09T14:50:00",
          "2018-10-09T15:00:00",
          "2018-10-09T15:10:00",
          "2018-10-09T15:20:00",
          "2018-10-09T15:30:00",
          "2018-10-09T15:40:00",
          "2018-10-09T15:50:00",
          "2018-10-09T16:00:00",
          "2018-10-09T16:10:00",
          "2018-10-09T16:20:00",
          "2018-10-09T16:30:00",
          "2018-10-09T16:40:00",
          "2018-10-09T16:50:00",
          "2018-10-09T17:00:00",
          "2018-10-09T17:10:00",
          "2018-10-09T17:20:00",
          "2018-10-09T17:30:00",
          "2018-10-09T17:40:00",
          "2018-10-09T17:50:00",
          "2018-10-09T18:00:00",
          "2018-10-09T18:10:00",
          "2018-10-09T18:20:00",
          "2018-10-09T18:30:00",
          "2018-10-09T18:40:00",
          "2018-10-09T18:50:00",
          "2018-10-09T19:00:00",
          "2018-10-09T19:10:00",
          "2018-10-09T19:20:00",
          "2018-10-09T19:30:00",
          "2018-10-09T19:40:00",
          "2018-10-09T19:50:00",
          "2018-10-09T20:00:00",
          "2018-10-09T20:10:00",
          "2018-10-09T20:20:00",
          "2018-10-09T20:30:00",
          "2018-10-09T20:40:00",
          "2018-10-09T20:50:00",
          "2018-10-09T21:00:00",
          "2018-10-09T21:10:00",
          "2018-10-09T21:20:00",
          "2018-10-09T21:30:00",
          "2018-10-09T21:40:00",
          "2018-10-09T21:50:00",
          "2018-10-09T22:00:00",
          "2018-10-09T22:10:00",
          "2018-10-09T22:20:00",
          "2018-10-09T22:30:00",
          "2018-10-09T22:40:00",
          "2018-10-09T22:50:00",
          "2018-10-09T23:00:00",
          "2018-10-09T23:10:00",
          "2018-10-09T23:20:00",
          "2018-10-09T23:30:00",
          "2018-10-09T23:40:00",
          "2018-10-09T23:50:00"
         ],
         "y": [
          3.4685,
          3.622833333333333,
          3.4145000000000003,
          3.3325,
          3.364,
          3.609,
          4.315666666666667,
          6.522500000000001,
          3.4795000000000003,
          3.6545,
          3.891333333333333,
          3.5651666666666664,
          3.826666666666666,
          3.698500000000001,
          4.333166666666666,
          4.291666666666666,
          3.595333333333333,
          3.889833333333333,
          3.7751666666666654,
          3.8086666666666673,
          3.980833333333333,
          3.613,
          3.651166666666666,
          4.105166666666666,
          3.827833333333333,
          3.770333333333333,
          4.272833333333333,
          7.224000000000001,
          6.997833333333333,
          7.203833333333333,
          7.458166666666666,
          6.970666666666666,
          7.144666666666668,
          7.1033333333333335,
          6.9075000000000015,
          7.246333333333333,
          7.107000000000001,
          7.374833333333332,
          7.239999999999998,
          7.5790000000000015,
          7.3935,
          7.253333333333333,
          7.201833333333335,
          7.294666666666666,
          6.702166666666668,
          7.162333333333334,
          7.013999999999999,
          7.126666666666665,
          7.399499999999999,
          6.7731666666666674,
          7.456500000000001,
          7.6225,
          7.631,
          7.083000000000001,
          6.535666666666666,
          6.2876666666666665,
          7.018833333333332,
          7.264166666666666,
          6.938833333333332,
          7.002666666666667,
          7.331,
          7.1685,
          6.988999999999999,
          6.854666666666665,
          6.979666666666668,
          6.380333333333334,
          7.208833333333333,
          7.118666666666668,
          6.9475,
          6.965166666666666,
          7.549666666666668,
          7.461833333333334,
          7.3175,
          7.336666666666666,
          7.3231666666666655,
          7.067333333333332
         ]
        },
        {
         "marker": {
          "color": "#cc0000"
         },
         "name": "Predicted CPU Load %",
         "type": "scatter",
         "x": [
          "2018-10-09T11:20:00",
          "2018-10-09T11:30:00",
          "2018-10-09T11:40:00",
          "2018-10-09T11:50:00",
          "2018-10-09T12:00:00",
          "2018-10-09T12:10:00",
          "2018-10-09T12:20:00",
          "2018-10-09T12:30:00",
          "2018-10-09T12:40:00",
          "2018-10-09T12:50:00",
          "2018-10-09T13:00:00",
          "2018-10-09T13:10:00",
          "2018-10-09T13:20:00",
          "2018-10-09T13:30:00",
          "2018-10-09T13:40:00",
          "2018-10-09T13:50:00",
          "2018-10-09T14:00:00",
          "2018-10-09T14:10:00",
          "2018-10-09T14:20:00",
          "2018-10-09T14:30:00",
          "2018-10-09T14:40:00",
          "2018-10-09T14:50:00",
          "2018-10-09T15:00:00",
          "2018-10-09T15:10:00",
          "2018-10-09T15:20:00",
          "2018-10-09T15:30:00",
          "2018-10-09T15:40:00",
          "2018-10-09T15:50:00",
          "2018-10-09T16:00:00",
          "2018-10-09T16:10:00",
          "2018-10-09T16:20:00",
          "2018-10-09T16:30:00",
          "2018-10-09T16:40:00",
          "2018-10-09T16:50:00",
          "2018-10-09T17:00:00",
          "2018-10-09T17:10:00",
          "2018-10-09T17:20:00",
          "2018-10-09T17:30:00",
          "2018-10-09T17:40:00",
          "2018-10-09T17:50:00",
          "2018-10-09T18:00:00",
          "2018-10-09T18:10:00",
          "2018-10-09T18:20:00",
          "2018-10-09T18:30:00",
          "2018-10-09T18:40:00",
          "2018-10-09T18:50:00",
          "2018-10-09T19:00:00",
          "2018-10-09T19:10:00",
          "2018-10-09T19:20:00",
          "2018-10-09T19:30:00",
          "2018-10-09T19:40:00",
          "2018-10-09T19:50:00",
          "2018-10-09T20:00:00",
          "2018-10-09T20:10:00",
          "2018-10-09T20:20:00",
          "2018-10-09T20:30:00",
          "2018-10-09T20:40:00",
          "2018-10-09T20:50:00",
          "2018-10-09T21:00:00",
          "2018-10-09T21:10:00",
          "2018-10-09T21:20:00",
          "2018-10-09T21:30:00",
          "2018-10-09T21:40:00",
          "2018-10-09T21:50:00",
          "2018-10-09T22:00:00",
          "2018-10-09T22:10:00",
          "2018-10-09T22:20:00",
          "2018-10-09T22:30:00",
          "2018-10-09T22:40:00",
          "2018-10-09T22:50:00",
          "2018-10-09T23:00:00",
          "2018-10-09T23:10:00",
          "2018-10-09T23:20:00",
          "2018-10-09T23:30:00",
          "2018-10-09T23:40:00",
          "2018-10-09T23:50:00"
         ],
         "y": [
          11.343727111816406,
          11.185999870300293,
          11.176149368286133,
          11.216060638427734,
          11.325064659118652,
          11.327018737792969,
          11.382583618164062,
          11.094769477844238,
          11.023641586303711,
          10.804723739624023,
          11.265009880065918,
          11.382318496704102,
          11.354619979858398,
          11.542570114135742,
          12.020187377929688,
          11.997801780700684,
          10.99004077911377,
          11.571331024169922,
          11.587017059326172,
          11.587017059326172,
          11.658417701721191,
          11.907187461853027,
          12.015948295593262,
          11.765785217285156,
          11.979265213012695,
          11.994425773620605,
          12.148344993591309,
          12.120691299438477,
          12.238675117492676,
          12.2077054977417,
          12.2077054977417,
          12.003560066223145,
          12.051980018615723,
          11.88310432434082,
          12.071911811828613,
          12.143043518066406,
          12.232288360595703,
          12.282172203063965,
          12.569160461425781,
          12.548412322998047,
          12.516027450561523,
          12.4097261428833,
          12.4097261428833,
          12.35655403137207,
          12.289814949035645,
          11.931085586547852,
          12.467482566833496,
          12.515335083007812,
          12.41015338897705,
          12.382452964782715,
          12.382452964782715,
          12.211321830749512,
          12.409168243408203,
          12.342947959899902,
          11.614606857299805,
          12.091178894042969,
          11.95189380645752,
          11.994468688964844,
          12.443066596984863,
          12.370697975158691,
          12.333333015441895,
          12.333333015441895,
          12.333664894104004,
          12.370264053344727,
          12.772067070007324,
          12.48819351196289,
          12.724064826965332,
          12.724064826965332,
          12.274590492248535,
          12.333233833312988,
          12.34623908996582,
          12.239006042480469,
          12.030444145202637,
          12.4021577835083,
          12.411855697631836,
          12.250420570373535
         ]
        },
        {
         "line": {
          "color": "#e0e0e0",
          "width": 1
         },
         "mode": "lines",
         "name": "Difference",
         "showlegend": false,
         "type": "scatter",
         "x": [
          "2018-10-09T11:20:00",
          "2018-10-09T11:20:00"
         ],
         "y": [
          3.4685,
          11.343727111816406
         ]
        },
        {
         "line": {
          "color": "#e0e0e0",
          "width": 1
         },
         "mode": "lines",
         "name": "Difference",
         "showlegend": false,
         "type": "scatter",
         "x": [
          "2018-10-09T11:30:00",
          "2018-10-09T11:30:00"
         ],
         "y": [
          3.622833333333333,
          11.185999870300293
         ]
        },
        {
         "line": {
          "color": "#e0e0e0",
          "width": 1
         },
         "mode": "lines",
         "name": "Difference",
         "showlegend": false,
         "type": "scatter",
         "x": [
          "2018-10-09T11:40:00",
          "2018-10-09T11:40:00"
         ],
         "y": [
          3.4145000000000003,
          11.176149368286133
         ]
        },
        {
         "line": {
          "color": "#e0e0e0",
          "width": 1
         },
         "mode": "lines",
         "name": "Difference",
         "showlegend": false,
         "type": "scatter",
         "x": [
          "2018-10-09T11:50:00",
          "2018-10-09T11:50:00"
         ],
         "y": [
          3.3325,
          11.216060638427734
         ]
        },
        {
         "line": {
          "color": "#e0e0e0",
          "width": 1
         },
         "mode": "lines",
         "name": "Difference",
         "showlegend": false,
         "type": "scatter",
         "x": [
          "2018-10-09T12:00:00",
          "2018-10-09T12:00:00"
         ],
         "y": [
          3.364,
          11.325064659118652
         ]
        },
        {
         "line": {
          "color": "#e0e0e0",
          "width": 1
         },
         "mode": "lines",
         "name": "Difference",
         "showlegend": false,
         "type": "scatter",
         "x": [
          "2018-10-09T12:10:00",
          "2018-10-09T12:10:00"
         ],
         "y": [
          3.609,
          11.327018737792969
         ]
        },
        {
         "line": {
          "color": "#e0e0e0",
          "width": 1
         },
         "mode": "lines",
         "name": "Difference",
         "showlegend": false,
         "type": "scatter",
         "x": [
          "2018-10-09T12:20:00",
          "2018-10-09T12:20:00"
         ],
         "y": [
          4.315666666666667,
          11.382583618164062
         ]
        },
        {
         "line": {
          "color": "#e0e0e0",
          "width": 1
         },
         "mode": "lines",
         "name": "Difference",
         "showlegend": false,
         "type": "scatter",
         "x": [
          "2018-10-09T12:30:00",
          "2018-10-09T12:30:00"
         ],
         "y": [
          6.522500000000001,
          11.094769477844238
         ]
        },
        {
         "line": {
          "color": "#e0e0e0",
          "width": 1
         },
         "mode": "lines",
         "name": "Difference",
         "showlegend": false,
         "type": "scatter",
         "x": [
          "2018-10-09T12:40:00",
          "2018-10-09T12:40:00"
         ],
         "y": [
          3.4795000000000003,
          11.023641586303711
         ]
        },
        {
         "line": {
          "color": "#e0e0e0",
          "width": 1
         },
         "mode": "lines",
         "name": "Difference",
         "showlegend": false,
         "type": "scatter",
         "x": [
          "2018-10-09T12:50:00",
          "2018-10-09T12:50:00"
         ],
         "y": [
          3.6545,
          10.804723739624023
         ]
        },
        {
         "line": {
          "color": "#e0e0e0",
          "width": 1
         },
         "mode": "lines",
         "name": "Difference",
         "showlegend": false,
         "type": "scatter",
         "x": [
          "2018-10-09T13:00:00",
          "2018-10-09T13:00:00"
         ],
         "y": [
          3.891333333333333,
          11.265009880065918
         ]
        },
        {
         "line": {
          "color": "#e0e0e0",
          "width": 1
         },
         "mode": "lines",
         "name": "Difference",
         "showlegend": false,
         "type": "scatter",
         "x": [
          "2018-10-09T13:10:00",
          "2018-10-09T13:10:00"
         ],
         "y": [
          3.5651666666666664,
          11.382318496704102
         ]
        },
        {
         "line": {
          "color": "#e0e0e0",
          "width": 1
         },
         "mode": "lines",
         "name": "Difference",
         "showlegend": false,
         "type": "scatter",
         "x": [
          "2018-10-09T13:20:00",
          "2018-10-09T13:20:00"
         ],
         "y": [
          3.826666666666666,
          11.354619979858398
         ]
        },
        {
         "line": {
          "color": "#e0e0e0",
          "width": 1
         },
         "mode": "lines",
         "name": "Difference",
         "showlegend": false,
         "type": "scatter",
         "x": [
          "2018-10-09T13:30:00",
          "2018-10-09T13:30:00"
         ],
         "y": [
          3.698500000000001,
          11.542570114135742
         ]
        },
        {
         "line": {
          "color": "#e0e0e0",
          "width": 1
         },
         "mode": "lines",
         "name": "Difference",
         "showlegend": false,
         "type": "scatter",
         "x": [
          "2018-10-09T13:40:00",
          "2018-10-09T13:40:00"
         ],
         "y": [
          4.333166666666666,
          12.020187377929688
         ]
        },
        {
         "line": {
          "color": "#e0e0e0",
          "width": 1
         },
         "mode": "lines",
         "name": "Difference",
         "showlegend": false,
         "type": "scatter",
         "x": [
          "2018-10-09T13:50:00",
          "2018-10-09T13:50:00"
         ],
         "y": [
          4.291666666666666,
          11.997801780700684
         ]
        },
        {
         "line": {
          "color": "#e0e0e0",
          "width": 1
         },
         "mode": "lines",
         "name": "Difference",
         "showlegend": false,
         "type": "scatter",
         "x": [
          "2018-10-09T14:00:00",
          "2018-10-09T14:00:00"
         ],
         "y": [
          3.595333333333333,
          10.99004077911377
         ]
        },
        {
         "line": {
          "color": "#e0e0e0",
          "width": 1
         },
         "mode": "lines",
         "name": "Difference",
         "showlegend": false,
         "type": "scatter",
         "x": [
          "2018-10-09T14:10:00",
          "2018-10-09T14:10:00"
         ],
         "y": [
          3.889833333333333,
          11.571331024169922
         ]
        },
        {
         "line": {
          "color": "#e0e0e0",
          "width": 1
         },
         "mode": "lines",
         "name": "Difference",
         "showlegend": false,
         "type": "scatter",
         "x": [
          "2018-10-09T14:20:00",
          "2018-10-09T14:20:00"
         ],
         "y": [
          3.7751666666666654,
          11.587017059326172
         ]
        },
        {
         "line": {
          "color": "#e0e0e0",
          "width": 1
         },
         "mode": "lines",
         "name": "Difference",
         "showlegend": false,
         "type": "scatter",
         "x": [
          "2018-10-09T14:30:00",
          "2018-10-09T14:30:00"
         ],
         "y": [
          3.8086666666666673,
          11.587017059326172
         ]
        },
        {
         "line": {
          "color": "#e0e0e0",
          "width": 1
         },
         "mode": "lines",
         "name": "Difference",
         "showlegend": false,
         "type": "scatter",
         "x": [
          "2018-10-09T14:40:00",
          "2018-10-09T14:40:00"
         ],
         "y": [
          3.980833333333333,
          11.658417701721191
         ]
        },
        {
         "line": {
          "color": "#e0e0e0",
          "width": 1
         },
         "mode": "lines",
         "name": "Difference",
         "showlegend": false,
         "type": "scatter",
         "x": [
          "2018-10-09T14:50:00",
          "2018-10-09T14:50:00"
         ],
         "y": [
          3.613,
          11.907187461853027
         ]
        },
        {
         "line": {
          "color": "#e0e0e0",
          "width": 1
         },
         "mode": "lines",
         "name": "Difference",
         "showlegend": false,
         "type": "scatter",
         "x": [
          "2018-10-09T15:00:00",
          "2018-10-09T15:00:00"
         ],
         "y": [
          3.651166666666666,
          12.015948295593262
         ]
        },
        {
         "line": {
          "color": "#e0e0e0",
          "width": 1
         },
         "mode": "lines",
         "name": "Difference",
         "showlegend": false,
         "type": "scatter",
         "x": [
          "2018-10-09T15:10:00",
          "2018-10-09T15:10:00"
         ],
         "y": [
          4.105166666666666,
          11.765785217285156
         ]
        },
        {
         "line": {
          "color": "#e0e0e0",
          "width": 1
         },
         "mode": "lines",
         "name": "Difference",
         "showlegend": false,
         "type": "scatter",
         "x": [
          "2018-10-09T15:20:00",
          "2018-10-09T15:20:00"
         ],
         "y": [
          3.827833333333333,
          11.979265213012695
         ]
        },
        {
         "line": {
          "color": "#e0e0e0",
          "width": 1
         },
         "mode": "lines",
         "name": "Difference",
         "showlegend": false,
         "type": "scatter",
         "x": [
          "2018-10-09T15:30:00",
          "2018-10-09T15:30:00"
         ],
         "y": [
          3.770333333333333,
          11.994425773620605
         ]
        },
        {
         "line": {
          "color": "#e0e0e0",
          "width": 1
         },
         "mode": "lines",
         "name": "Difference",
         "showlegend": false,
         "type": "scatter",
         "x": [
          "2018-10-09T15:40:00",
          "2018-10-09T15:40:00"
         ],
         "y": [
          4.272833333333333,
          12.148344993591309
         ]
        },
        {
         "line": {
          "color": "#e0e0e0",
          "width": 1
         },
         "mode": "lines",
         "name": "Difference",
         "showlegend": false,
         "type": "scatter",
         "x": [
          "2018-10-09T15:50:00",
          "2018-10-09T15:50:00"
         ],
         "y": [
          7.224000000000001,
          12.120691299438477
         ]
        },
        {
         "line": {
          "color": "#e0e0e0",
          "width": 1
         },
         "mode": "lines",
         "name": "Difference",
         "showlegend": false,
         "type": "scatter",
         "x": [
          "2018-10-09T16:00:00",
          "2018-10-09T16:00:00"
         ],
         "y": [
          6.997833333333333,
          12.238675117492676
         ]
        },
        {
         "line": {
          "color": "#e0e0e0",
          "width": 1
         },
         "mode": "lines",
         "name": "Difference",
         "showlegend": false,
         "type": "scatter",
         "x": [
          "2018-10-09T16:10:00",
          "2018-10-09T16:10:00"
         ],
         "y": [
          7.203833333333333,
          12.2077054977417
         ]
        },
        {
         "line": {
          "color": "#e0e0e0",
          "width": 1
         },
         "mode": "lines",
         "name": "Difference",
         "showlegend": false,
         "type": "scatter",
         "x": [
          "2018-10-09T16:20:00",
          "2018-10-09T16:20:00"
         ],
         "y": [
          7.458166666666666,
          12.2077054977417
         ]
        },
        {
         "line": {
          "color": "#e0e0e0",
          "width": 1
         },
         "mode": "lines",
         "name": "Difference",
         "showlegend": false,
         "type": "scatter",
         "x": [
          "2018-10-09T16:30:00",
          "2018-10-09T16:30:00"
         ],
         "y": [
          6.970666666666666,
          12.003560066223145
         ]
        },
        {
         "line": {
          "color": "#e0e0e0",
          "width": 1
         },
         "mode": "lines",
         "name": "Difference",
         "showlegend": false,
         "type": "scatter",
         "x": [
          "2018-10-09T16:40:00",
          "2018-10-09T16:40:00"
         ],
         "y": [
          7.144666666666668,
          12.051980018615723
         ]
        },
        {
         "line": {
          "color": "#e0e0e0",
          "width": 1
         },
         "mode": "lines",
         "name": "Difference",
         "showlegend": false,
         "type": "scatter",
         "x": [
          "2018-10-09T16:50:00",
          "2018-10-09T16:50:00"
         ],
         "y": [
          7.1033333333333335,
          11.88310432434082
         ]
        },
        {
         "line": {
          "color": "#e0e0e0",
          "width": 1
         },
         "mode": "lines",
         "name": "Difference",
         "showlegend": false,
         "type": "scatter",
         "x": [
          "2018-10-09T17:00:00",
          "2018-10-09T17:00:00"
         ],
         "y": [
          6.9075000000000015,
          12.071911811828613
         ]
        },
        {
         "line": {
          "color": "#e0e0e0",
          "width": 1
         },
         "mode": "lines",
         "name": "Difference",
         "showlegend": false,
         "type": "scatter",
         "x": [
          "2018-10-09T17:10:00",
          "2018-10-09T17:10:00"
         ],
         "y": [
          7.246333333333333,
          12.143043518066406
         ]
        },
        {
         "line": {
          "color": "#e0e0e0",
          "width": 1
         },
         "mode": "lines",
         "name": "Difference",
         "showlegend": false,
         "type": "scatter",
         "x": [
          "2018-10-09T17:20:00",
          "2018-10-09T17:20:00"
         ],
         "y": [
          7.107000000000001,
          12.232288360595703
         ]
        },
        {
         "line": {
          "color": "#e0e0e0",
          "width": 1
         },
         "mode": "lines",
         "name": "Difference",
         "showlegend": false,
         "type": "scatter",
         "x": [
          "2018-10-09T17:30:00",
          "2018-10-09T17:30:00"
         ],
         "y": [
          7.374833333333332,
          12.282172203063965
         ]
        },
        {
         "line": {
          "color": "#e0e0e0",
          "width": 1
         },
         "mode": "lines",
         "name": "Difference",
         "showlegend": false,
         "type": "scatter",
         "x": [
          "2018-10-09T17:40:00",
          "2018-10-09T17:40:00"
         ],
         "y": [
          7.239999999999998,
          12.569160461425781
         ]
        },
        {
         "line": {
          "color": "#e0e0e0",
          "width": 1
         },
         "mode": "lines",
         "name": "Difference",
         "showlegend": false,
         "type": "scatter",
         "x": [
          "2018-10-09T17:50:00",
          "2018-10-09T17:50:00"
         ],
         "y": [
          7.5790000000000015,
          12.548412322998047
         ]
        },
        {
         "line": {
          "color": "#e0e0e0",
          "width": 1
         },
         "mode": "lines",
         "name": "Difference",
         "showlegend": false,
         "type": "scatter",
         "x": [
          "2018-10-09T18:00:00",
          "2018-10-09T18:00:00"
         ],
         "y": [
          7.3935,
          12.516027450561523
         ]
        },
        {
         "line": {
          "color": "#e0e0e0",
          "width": 1
         },
         "mode": "lines",
         "name": "Difference",
         "showlegend": false,
         "type": "scatter",
         "x": [
          "2018-10-09T18:10:00",
          "2018-10-09T18:10:00"
         ],
         "y": [
          7.253333333333333,
          12.4097261428833
         ]
        },
        {
         "line": {
          "color": "#e0e0e0",
          "width": 1
         },
         "mode": "lines",
         "name": "Difference",
         "showlegend": false,
         "type": "scatter",
         "x": [
          "2018-10-09T18:20:00",
          "2018-10-09T18:20:00"
         ],
         "y": [
          7.201833333333335,
          12.4097261428833
         ]
        },
        {
         "line": {
          "color": "#e0e0e0",
          "width": 1
         },
         "mode": "lines",
         "name": "Difference",
         "showlegend": false,
         "type": "scatter",
         "x": [
          "2018-10-09T18:30:00",
          "2018-10-09T18:30:00"
         ],
         "y": [
          7.294666666666666,
          12.35655403137207
         ]
        },
        {
         "line": {
          "color": "#e0e0e0",
          "width": 1
         },
         "mode": "lines",
         "name": "Difference",
         "showlegend": false,
         "type": "scatter",
         "x": [
          "2018-10-09T18:40:00",
          "2018-10-09T18:40:00"
         ],
         "y": [
          6.702166666666668,
          12.289814949035645
         ]
        },
        {
         "line": {
          "color": "#e0e0e0",
          "width": 1
         },
         "mode": "lines",
         "name": "Difference",
         "showlegend": false,
         "type": "scatter",
         "x": [
          "2018-10-09T18:50:00",
          "2018-10-09T18:50:00"
         ],
         "y": [
          7.162333333333334,
          11.931085586547852
         ]
        },
        {
         "line": {
          "color": "#e0e0e0",
          "width": 1
         },
         "mode": "lines",
         "name": "Difference",
         "showlegend": false,
         "type": "scatter",
         "x": [
          "2018-10-09T19:00:00",
          "2018-10-09T19:00:00"
         ],
         "y": [
          7.013999999999999,
          12.467482566833496
         ]
        },
        {
         "line": {
          "color": "#e0e0e0",
          "width": 1
         },
         "mode": "lines",
         "name": "Difference",
         "showlegend": false,
         "type": "scatter",
         "x": [
          "2018-10-09T19:10:00",
          "2018-10-09T19:10:00"
         ],
         "y": [
          7.126666666666665,
          12.515335083007812
         ]
        },
        {
         "line": {
          "color": "#e0e0e0",
          "width": 1
         },
         "mode": "lines",
         "name": "Difference",
         "showlegend": false,
         "type": "scatter",
         "x": [
          "2018-10-09T19:20:00",
          "2018-10-09T19:20:00"
         ],
         "y": [
          7.399499999999999,
          12.41015338897705
         ]
        },
        {
         "line": {
          "color": "#e0e0e0",
          "width": 1
         },
         "mode": "lines",
         "name": "Difference",
         "showlegend": false,
         "type": "scatter",
         "x": [
          "2018-10-09T19:30:00",
          "2018-10-09T19:30:00"
         ],
         "y": [
          6.7731666666666674,
          12.382452964782715
         ]
        },
        {
         "line": {
          "color": "#e0e0e0",
          "width": 1
         },
         "mode": "lines",
         "name": "Difference",
         "showlegend": false,
         "type": "scatter",
         "x": [
          "2018-10-09T19:40:00",
          "2018-10-09T19:40:00"
         ],
         "y": [
          7.456500000000001,
          12.382452964782715
         ]
        },
        {
         "line": {
          "color": "#e0e0e0",
          "width": 1
         },
         "mode": "lines",
         "name": "Difference",
         "showlegend": false,
         "type": "scatter",
         "x": [
          "2018-10-09T19:50:00",
          "2018-10-09T19:50:00"
         ],
         "y": [
          7.6225,
          12.211321830749512
         ]
        },
        {
         "line": {
          "color": "#e0e0e0",
          "width": 1
         },
         "mode": "lines",
         "name": "Difference",
         "showlegend": false,
         "type": "scatter",
         "x": [
          "2018-10-09T20:00:00",
          "2018-10-09T20:00:00"
         ],
         "y": [
          7.631,
          12.409168243408203
         ]
        },
        {
         "line": {
          "color": "#e0e0e0",
          "width": 1
         },
         "mode": "lines",
         "name": "Difference",
         "showlegend": false,
         "type": "scatter",
         "x": [
          "2018-10-09T20:10:00",
          "2018-10-09T20:10:00"
         ],
         "y": [
          7.083000000000001,
          12.342947959899902
         ]
        },
        {
         "line": {
          "color": "#e0e0e0",
          "width": 1
         },
         "mode": "lines",
         "name": "Difference",
         "showlegend": false,
         "type": "scatter",
         "x": [
          "2018-10-09T20:20:00",
          "2018-10-09T20:20:00"
         ],
         "y": [
          6.535666666666666,
          11.614606857299805
         ]
        },
        {
         "line": {
          "color": "#e0e0e0",
          "width": 1
         },
         "mode": "lines",
         "name": "Difference",
         "showlegend": false,
         "type": "scatter",
         "x": [
          "2018-10-09T20:30:00",
          "2018-10-09T20:30:00"
         ],
         "y": [
          6.2876666666666665,
          12.091178894042969
         ]
        },
        {
         "line": {
          "color": "#e0e0e0",
          "width": 1
         },
         "mode": "lines",
         "name": "Difference",
         "showlegend": false,
         "type": "scatter",
         "x": [
          "2018-10-09T20:40:00",
          "2018-10-09T20:40:00"
         ],
         "y": [
          7.018833333333332,
          11.95189380645752
         ]
        },
        {
         "line": {
          "color": "#e0e0e0",
          "width": 1
         },
         "mode": "lines",
         "name": "Difference",
         "showlegend": false,
         "type": "scatter",
         "x": [
          "2018-10-09T20:50:00",
          "2018-10-09T20:50:00"
         ],
         "y": [
          7.264166666666666,
          11.994468688964844
         ]
        },
        {
         "line": {
          "color": "#e0e0e0",
          "width": 1
         },
         "mode": "lines",
         "name": "Difference",
         "showlegend": false,
         "type": "scatter",
         "x": [
          "2018-10-09T21:00:00",
          "2018-10-09T21:00:00"
         ],
         "y": [
          6.938833333333332,
          12.443066596984863
         ]
        },
        {
         "line": {
          "color": "#e0e0e0",
          "width": 1
         },
         "mode": "lines",
         "name": "Difference",
         "showlegend": false,
         "type": "scatter",
         "x": [
          "2018-10-09T21:10:00",
          "2018-10-09T21:10:00"
         ],
         "y": [
          7.002666666666667,
          12.370697975158691
         ]
        },
        {
         "line": {
          "color": "#e0e0e0",
          "width": 1
         },
         "mode": "lines",
         "name": "Difference",
         "showlegend": false,
         "type": "scatter",
         "x": [
          "2018-10-09T21:20:00",
          "2018-10-09T21:20:00"
         ],
         "y": [
          7.331,
          12.333333015441895
         ]
        },
        {
         "line": {
          "color": "#e0e0e0",
          "width": 1
         },
         "mode": "lines",
         "name": "Difference",
         "showlegend": false,
         "type": "scatter",
         "x": [
          "2018-10-09T21:30:00",
          "2018-10-09T21:30:00"
         ],
         "y": [
          7.1685,
          12.333333015441895
         ]
        },
        {
         "line": {
          "color": "#e0e0e0",
          "width": 1
         },
         "mode": "lines",
         "name": "Difference",
         "showlegend": false,
         "type": "scatter",
         "x": [
          "2018-10-09T21:40:00",
          "2018-10-09T21:40:00"
         ],
         "y": [
          6.988999999999999,
          12.333664894104004
         ]
        },
        {
         "line": {
          "color": "#e0e0e0",
          "width": 1
         },
         "mode": "lines",
         "name": "Difference",
         "showlegend": false,
         "type": "scatter",
         "x": [
          "2018-10-09T21:50:00",
          "2018-10-09T21:50:00"
         ],
         "y": [
          6.854666666666665,
          12.370264053344727
         ]
        },
        {
         "line": {
          "color": "#e0e0e0",
          "width": 1
         },
         "mode": "lines",
         "name": "Difference",
         "showlegend": false,
         "type": "scatter",
         "x": [
          "2018-10-09T22:00:00",
          "2018-10-09T22:00:00"
         ],
         "y": [
          6.979666666666668,
          12.772067070007324
         ]
        },
        {
         "line": {
          "color": "#e0e0e0",
          "width": 1
         },
         "mode": "lines",
         "name": "Difference",
         "showlegend": false,
         "type": "scatter",
         "x": [
          "2018-10-09T22:10:00",
          "2018-10-09T22:10:00"
         ],
         "y": [
          6.380333333333334,
          12.48819351196289
         ]
        },
        {
         "line": {
          "color": "#e0e0e0",
          "width": 1
         },
         "mode": "lines",
         "name": "Difference",
         "showlegend": false,
         "type": "scatter",
         "x": [
          "2018-10-09T22:20:00",
          "2018-10-09T22:20:00"
         ],
         "y": [
          7.208833333333333,
          12.724064826965332
         ]
        },
        {
         "line": {
          "color": "#e0e0e0",
          "width": 1
         },
         "mode": "lines",
         "name": "Difference",
         "showlegend": false,
         "type": "scatter",
         "x": [
          "2018-10-09T22:30:00",
          "2018-10-09T22:30:00"
         ],
         "y": [
          7.118666666666668,
          12.724064826965332
         ]
        },
        {
         "line": {
          "color": "#e0e0e0",
          "width": 1
         },
         "mode": "lines",
         "name": "Difference",
         "showlegend": false,
         "type": "scatter",
         "x": [
          "2018-10-09T22:40:00",
          "2018-10-09T22:40:00"
         ],
         "y": [
          6.9475,
          12.274590492248535
         ]
        },
        {
         "line": {
          "color": "#e0e0e0",
          "width": 1
         },
         "mode": "lines",
         "name": "Difference",
         "showlegend": false,
         "type": "scatter",
         "x": [
          "2018-10-09T22:50:00",
          "2018-10-09T22:50:00"
         ],
         "y": [
          6.965166666666666,
          12.333233833312988
         ]
        },
        {
         "line": {
          "color": "#e0e0e0",
          "width": 1
         },
         "mode": "lines",
         "name": "Difference",
         "showlegend": false,
         "type": "scatter",
         "x": [
          "2018-10-09T23:00:00",
          "2018-10-09T23:00:00"
         ],
         "y": [
          7.549666666666668,
          12.34623908996582
         ]
        },
        {
         "line": {
          "color": "#e0e0e0",
          "width": 1
         },
         "mode": "lines",
         "name": "Difference",
         "showlegend": false,
         "type": "scatter",
         "x": [
          "2018-10-09T23:10:00",
          "2018-10-09T23:10:00"
         ],
         "y": [
          7.461833333333334,
          12.239006042480469
         ]
        },
        {
         "line": {
          "color": "#e0e0e0",
          "width": 1
         },
         "mode": "lines",
         "name": "Difference",
         "showlegend": false,
         "type": "scatter",
         "x": [
          "2018-10-09T23:20:00",
          "2018-10-09T23:20:00"
         ],
         "y": [
          7.3175,
          12.030444145202637
         ]
        },
        {
         "line": {
          "color": "#e0e0e0",
          "width": 1
         },
         "mode": "lines",
         "name": "Difference",
         "showlegend": false,
         "type": "scatter",
         "x": [
          "2018-10-09T23:30:00",
          "2018-10-09T23:30:00"
         ],
         "y": [
          7.336666666666666,
          12.4021577835083
         ]
        },
        {
         "line": {
          "color": "#e0e0e0",
          "width": 1
         },
         "mode": "lines",
         "name": "Difference",
         "showlegend": false,
         "type": "scatter",
         "x": [
          "2018-10-09T23:40:00",
          "2018-10-09T23:40:00"
         ],
         "y": [
          7.3231666666666655,
          12.411855697631836
         ]
        },
        {
         "line": {
          "color": "#e0e0e0",
          "width": 1
         },
         "mode": "lines",
         "name": "Difference",
         "showlegend": false,
         "type": "scatter",
         "x": [
          "2018-10-09T23:50:00",
          "2018-10-09T23:50:00"
         ],
         "y": [
          7.067333333333332,
          12.250420570373535
         ]
        }
       ],
       "layout": {
        "template": {
         "data": {
          "bar": [
           {
            "error_x": {
             "color": "#2a3f5f"
            },
            "error_y": {
             "color": "#2a3f5f"
            },
            "marker": {
             "line": {
              "color": "#E5ECF6",
              "width": 0.5
             },
             "pattern": {
              "fillmode": "overlay",
              "size": 10,
              "solidity": 0.2
             }
            },
            "type": "bar"
           }
          ],
          "barpolar": [
           {
            "marker": {
             "line": {
              "color": "#E5ECF6",
              "width": 0.5
             },
             "pattern": {
              "fillmode": "overlay",
              "size": 10,
              "solidity": 0.2
             }
            },
            "type": "barpolar"
           }
          ],
          "carpet": [
           {
            "aaxis": {
             "endlinecolor": "#2a3f5f",
             "gridcolor": "white",
             "linecolor": "white",
             "minorgridcolor": "white",
             "startlinecolor": "#2a3f5f"
            },
            "baxis": {
             "endlinecolor": "#2a3f5f",
             "gridcolor": "white",
             "linecolor": "white",
             "minorgridcolor": "white",
             "startlinecolor": "#2a3f5f"
            },
            "type": "carpet"
           }
          ],
          "choropleth": [
           {
            "colorbar": {
             "outlinewidth": 0,
             "ticks": ""
            },
            "type": "choropleth"
           }
          ],
          "contour": [
           {
            "colorbar": {
             "outlinewidth": 0,
             "ticks": ""
            },
            "colorscale": [
             [
              0,
              "#0d0887"
             ],
             [
              0.1111111111111111,
              "#46039f"
             ],
             [
              0.2222222222222222,
              "#7201a8"
             ],
             [
              0.3333333333333333,
              "#9c179e"
             ],
             [
              0.4444444444444444,
              "#bd3786"
             ],
             [
              0.5555555555555556,
              "#d8576b"
             ],
             [
              0.6666666666666666,
              "#ed7953"
             ],
             [
              0.7777777777777778,
              "#fb9f3a"
             ],
             [
              0.8888888888888888,
              "#fdca26"
             ],
             [
              1,
              "#f0f921"
             ]
            ],
            "type": "contour"
           }
          ],
          "contourcarpet": [
           {
            "colorbar": {
             "outlinewidth": 0,
             "ticks": ""
            },
            "type": "contourcarpet"
           }
          ],
          "heatmap": [
           {
            "colorbar": {
             "outlinewidth": 0,
             "ticks": ""
            },
            "colorscale": [
             [
              0,
              "#0d0887"
             ],
             [
              0.1111111111111111,
              "#46039f"
             ],
             [
              0.2222222222222222,
              "#7201a8"
             ],
             [
              0.3333333333333333,
              "#9c179e"
             ],
             [
              0.4444444444444444,
              "#bd3786"
             ],
             [
              0.5555555555555556,
              "#d8576b"
             ],
             [
              0.6666666666666666,
              "#ed7953"
             ],
             [
              0.7777777777777778,
              "#fb9f3a"
             ],
             [
              0.8888888888888888,
              "#fdca26"
             ],
             [
              1,
              "#f0f921"
             ]
            ],
            "type": "heatmap"
           }
          ],
          "heatmapgl": [
           {
            "colorbar": {
             "outlinewidth": 0,
             "ticks": ""
            },
            "colorscale": [
             [
              0,
              "#0d0887"
             ],
             [
              0.1111111111111111,
              "#46039f"
             ],
             [
              0.2222222222222222,
              "#7201a8"
             ],
             [
              0.3333333333333333,
              "#9c179e"
             ],
             [
              0.4444444444444444,
              "#bd3786"
             ],
             [
              0.5555555555555556,
              "#d8576b"
             ],
             [
              0.6666666666666666,
              "#ed7953"
             ],
             [
              0.7777777777777778,
              "#fb9f3a"
             ],
             [
              0.8888888888888888,
              "#fdca26"
             ],
             [
              1,
              "#f0f921"
             ]
            ],
            "type": "heatmapgl"
           }
          ],
          "histogram": [
           {
            "marker": {
             "pattern": {
              "fillmode": "overlay",
              "size": 10,
              "solidity": 0.2
             }
            },
            "type": "histogram"
           }
          ],
          "histogram2d": [
           {
            "colorbar": {
             "outlinewidth": 0,
             "ticks": ""
            },
            "colorscale": [
             [
              0,
              "#0d0887"
             ],
             [
              0.1111111111111111,
              "#46039f"
             ],
             [
              0.2222222222222222,
              "#7201a8"
             ],
             [
              0.3333333333333333,
              "#9c179e"
             ],
             [
              0.4444444444444444,
              "#bd3786"
             ],
             [
              0.5555555555555556,
              "#d8576b"
             ],
             [
              0.6666666666666666,
              "#ed7953"
             ],
             [
              0.7777777777777778,
              "#fb9f3a"
             ],
             [
              0.8888888888888888,
              "#fdca26"
             ],
             [
              1,
              "#f0f921"
             ]
            ],
            "type": "histogram2d"
           }
          ],
          "histogram2dcontour": [
           {
            "colorbar": {
             "outlinewidth": 0,
             "ticks": ""
            },
            "colorscale": [
             [
              0,
              "#0d0887"
             ],
             [
              0.1111111111111111,
              "#46039f"
             ],
             [
              0.2222222222222222,
              "#7201a8"
             ],
             [
              0.3333333333333333,
              "#9c179e"
             ],
             [
              0.4444444444444444,
              "#bd3786"
             ],
             [
              0.5555555555555556,
              "#d8576b"
             ],
             [
              0.6666666666666666,
              "#ed7953"
             ],
             [
              0.7777777777777778,
              "#fb9f3a"
             ],
             [
              0.8888888888888888,
              "#fdca26"
             ],
             [
              1,
              "#f0f921"
             ]
            ],
            "type": "histogram2dcontour"
           }
          ],
          "mesh3d": [
           {
            "colorbar": {
             "outlinewidth": 0,
             "ticks": ""
            },
            "type": "mesh3d"
           }
          ],
          "parcoords": [
           {
            "line": {
             "colorbar": {
              "outlinewidth": 0,
              "ticks": ""
             }
            },
            "type": "parcoords"
           }
          ],
          "pie": [
           {
            "automargin": true,
            "type": "pie"
           }
          ],
          "scatter": [
           {
            "fillpattern": {
             "fillmode": "overlay",
             "size": 10,
             "solidity": 0.2
            },
            "type": "scatter"
           }
          ],
          "scatter3d": [
           {
            "line": {
             "colorbar": {
              "outlinewidth": 0,
              "ticks": ""
             }
            },
            "marker": {
             "colorbar": {
              "outlinewidth": 0,
              "ticks": ""
             }
            },
            "type": "scatter3d"
           }
          ],
          "scattercarpet": [
           {
            "marker": {
             "colorbar": {
              "outlinewidth": 0,
              "ticks": ""
             }
            },
            "type": "scattercarpet"
           }
          ],
          "scattergeo": [
           {
            "marker": {
             "colorbar": {
              "outlinewidth": 0,
              "ticks": ""
             }
            },
            "type": "scattergeo"
           }
          ],
          "scattergl": [
           {
            "marker": {
             "colorbar": {
              "outlinewidth": 0,
              "ticks": ""
             }
            },
            "type": "scattergl"
           }
          ],
          "scattermapbox": [
           {
            "marker": {
             "colorbar": {
              "outlinewidth": 0,
              "ticks": ""
             }
            },
            "type": "scattermapbox"
           }
          ],
          "scatterpolar": [
           {
            "marker": {
             "colorbar": {
              "outlinewidth": 0,
              "ticks": ""
             }
            },
            "type": "scatterpolar"
           }
          ],
          "scatterpolargl": [
           {
            "marker": {
             "colorbar": {
              "outlinewidth": 0,
              "ticks": ""
             }
            },
            "type": "scatterpolargl"
           }
          ],
          "scatterternary": [
           {
            "marker": {
             "colorbar": {
              "outlinewidth": 0,
              "ticks": ""
             }
            },
            "type": "scatterternary"
           }
          ],
          "surface": [
           {
            "colorbar": {
             "outlinewidth": 0,
             "ticks": ""
            },
            "colorscale": [
             [
              0,
              "#0d0887"
             ],
             [
              0.1111111111111111,
              "#46039f"
             ],
             [
              0.2222222222222222,
              "#7201a8"
             ],
             [
              0.3333333333333333,
              "#9c179e"
             ],
             [
              0.4444444444444444,
              "#bd3786"
             ],
             [
              0.5555555555555556,
              "#d8576b"
             ],
             [
              0.6666666666666666,
              "#ed7953"
             ],
             [
              0.7777777777777778,
              "#fb9f3a"
             ],
             [
              0.8888888888888888,
              "#fdca26"
             ],
             [
              1,
              "#f0f921"
             ]
            ],
            "type": "surface"
           }
          ],
          "table": [
           {
            "cells": {
             "fill": {
              "color": "#EBF0F8"
             },
             "line": {
              "color": "white"
             }
            },
            "header": {
             "fill": {
              "color": "#C8D4E3"
             },
             "line": {
              "color": "white"
             }
            },
            "type": "table"
           }
          ]
         },
         "layout": {
          "annotationdefaults": {
           "arrowcolor": "#2a3f5f",
           "arrowhead": 0,
           "arrowwidth": 1
          },
          "autotypenumbers": "strict",
          "coloraxis": {
           "colorbar": {
            "outlinewidth": 0,
            "ticks": ""
           }
          },
          "colorscale": {
           "diverging": [
            [
             0,
             "#8e0152"
            ],
            [
             0.1,
             "#c51b7d"
            ],
            [
             0.2,
             "#de77ae"
            ],
            [
             0.3,
             "#f1b6da"
            ],
            [
             0.4,
             "#fde0ef"
            ],
            [
             0.5,
             "#f7f7f7"
            ],
            [
             0.6,
             "#e6f5d0"
            ],
            [
             0.7,
             "#b8e186"
            ],
            [
             0.8,
             "#7fbc41"
            ],
            [
             0.9,
             "#4d9221"
            ],
            [
             1,
             "#276419"
            ]
           ],
           "sequential": [
            [
             0,
             "#0d0887"
            ],
            [
             0.1111111111111111,
             "#46039f"
            ],
            [
             0.2222222222222222,
             "#7201a8"
            ],
            [
             0.3333333333333333,
             "#9c179e"
            ],
            [
             0.4444444444444444,
             "#bd3786"
            ],
            [
             0.5555555555555556,
             "#d8576b"
            ],
            [
             0.6666666666666666,
             "#ed7953"
            ],
            [
             0.7777777777777778,
             "#fb9f3a"
            ],
            [
             0.8888888888888888,
             "#fdca26"
            ],
            [
             1,
             "#f0f921"
            ]
           ],
           "sequentialminus": [
            [
             0,
             "#0d0887"
            ],
            [
             0.1111111111111111,
             "#46039f"
            ],
            [
             0.2222222222222222,
             "#7201a8"
            ],
            [
             0.3333333333333333,
             "#9c179e"
            ],
            [
             0.4444444444444444,
             "#bd3786"
            ],
            [
             0.5555555555555556,
             "#d8576b"
            ],
            [
             0.6666666666666666,
             "#ed7953"
            ],
            [
             0.7777777777777778,
             "#fb9f3a"
            ],
            [
             0.8888888888888888,
             "#fdca26"
            ],
            [
             1,
             "#f0f921"
            ]
           ]
          },
          "colorway": [
           "#636efa",
           "#EF553B",
           "#00cc96",
           "#ab63fa",
           "#FFA15A",
           "#19d3f3",
           "#FF6692",
           "#B6E880",
           "#FF97FF",
           "#FECB52"
          ],
          "font": {
           "color": "#2a3f5f"
          },
          "geo": {
           "bgcolor": "white",
           "lakecolor": "white",
           "landcolor": "#E5ECF6",
           "showlakes": true,
           "showland": true,
           "subunitcolor": "white"
          },
          "hoverlabel": {
           "align": "left"
          },
          "hovermode": "closest",
          "mapbox": {
           "style": "light"
          },
          "paper_bgcolor": "white",
          "plot_bgcolor": "#E5ECF6",
          "polar": {
           "angularaxis": {
            "gridcolor": "white",
            "linecolor": "white",
            "ticks": ""
           },
           "bgcolor": "#E5ECF6",
           "radialaxis": {
            "gridcolor": "white",
            "linecolor": "white",
            "ticks": ""
           }
          },
          "scene": {
           "xaxis": {
            "backgroundcolor": "#E5ECF6",
            "gridcolor": "white",
            "gridwidth": 2,
            "linecolor": "white",
            "showbackground": true,
            "ticks": "",
            "zerolinecolor": "white"
           },
           "yaxis": {
            "backgroundcolor": "#E5ECF6",
            "gridcolor": "white",
            "gridwidth": 2,
            "linecolor": "white",
            "showbackground": true,
            "ticks": "",
            "zerolinecolor": "white"
           },
           "zaxis": {
            "backgroundcolor": "#E5ECF6",
            "gridcolor": "white",
            "gridwidth": 2,
            "linecolor": "white",
            "showbackground": true,
            "ticks": "",
            "zerolinecolor": "white"
           }
          },
          "shapedefaults": {
           "line": {
            "color": "#2a3f5f"
           }
          },
          "ternary": {
           "aaxis": {
            "gridcolor": "white",
            "linecolor": "white",
            "ticks": ""
           },
           "baxis": {
            "gridcolor": "white",
            "linecolor": "white",
            "ticks": ""
           },
           "bgcolor": "#E5ECF6",
           "caxis": {
            "gridcolor": "white",
            "linecolor": "white",
            "ticks": ""
           }
          },
          "title": {
           "x": 0.05
          },
          "xaxis": {
           "automargin": true,
           "gridcolor": "white",
           "linecolor": "white",
           "ticks": "",
           "title": {
            "standoff": 15
           },
           "zerolinecolor": "white",
           "zerolinewidth": 2
          },
          "yaxis": {
           "automargin": true,
           "gridcolor": "white",
           "linecolor": "white",
           "ticks": "",
           "title": {
            "standoff": 15
           },
           "zerolinecolor": "white",
           "zerolinewidth": 2
          }
         }
        }
       }
      }
     },
     "metadata": {},
     "output_type": "display_data"
    }
   ],
   "source": [
    "X = df[[\"Series_num\", \"Seconds_since_midnight\"\n",
    "        ]]\n",
    "\n",
    "y = df[\"CPU_Load\"]\n",
    "\n",
    "X = X.fillna(X.median())\n",
    "y = y.fillna(y.median())\n",
    "X_train, X_test, y_train, y_test = train_test_split(X, y, test_size=0.2, random_state=42)\n",
    "\n",
    "\n",
    "print(\"split completed\")\n",
    "\n",
    "\n",
    "print(\"time for model\")\n",
    "model = XGBRegressor(objective='reg:squarederror', eval_metric='rmse')\n",
    "model.fit(X_train, y_train)\n",
    "\n",
    "\n",
    "print(\"model ready\")\n",
    "\n",
    "X_rcc120 = rcc120[[\"Series_num\", \"Seconds_since_midnight\"]]\n",
    "\n",
    "X_rcc120 = X_rcc120.fillna(X_rcc120.median())\n",
    "\n",
    "\n",
    "y_pred_rcc120 = model.predict(X_rcc120)\n",
    "rcc120 = rcc120.copy()\n",
    "rcc120['cpu_fit'] = y_pred_rcc120\n",
    "print(rcc120['cpu_fit'])\n",
    "\n",
    "fig = go.Figure()\n",
    "\n",
    "\n",
    "fig.add_trace(go.Scatter(\n",
    "    x=rcc120['Time'],\n",
    "    y=rcc120['CPU_Load'],\n",
    "    marker=dict(color='#0066cc'),\n",
    "    name='CPU Load %'\n",
    "))\n",
    "fig.add_trace(go.Scatter(\n",
    "    x=rcc120['Time'],\n",
    "    y=rcc120['cpu_fit'],\n",
    "\n",
    "    marker=dict(color='#cc0000'),\n",
    "    name='Predicted CPU Load %'\n",
    "))\n",
    "\n",
    "# lijnstukken tussen echte en voorspelde punten\n",
    "for i in range(len(rcc120)):\n",
    "    fig.add_trace(go.Scatter(\n",
    "        x=[rcc120['Time'].iloc[i], rcc120['Time'].iloc[i]],\n",
    "        y=[rcc120['CPU_Load'].iloc[i], rcc120['cpu_fit'].iloc[i]],\n",
    "        mode='lines',\n",
    "        line=dict(color='#e0e0e0', width=1),\n",
    "        showlegend=False,\n",
    "        name='Difference'\n",
    "    ))\n",
    "\n",
    "fig.show()\n",
    "fig.write_image(\"XGBoost_RCC120_V1.png\", scale=2)"
   ]
  },
  {
   "cell_type": "code",
   "execution_count": null,
   "id": "cae6db55",
   "metadata": {},
   "outputs": [],
   "source": [
    "\n"
   ]
  },
  {
   "cell_type": "code",
   "execution_count": null,
   "id": "bdb6186b",
   "metadata": {},
   "outputs": [
    {
     "name": "stdout",
     "output_type": "stream",
     "text": [
      "76\n",
      "76\n",
      "76\n",
      "100\n",
      "     cpu_fit  CPU_Load                Time\n",
      "0   3.772432  3.468500 2018-10-09 11:20:00\n",
      "1   3.831272  3.622833 2018-10-09 11:30:00\n",
      "2   3.890112  3.414500 2018-10-09 11:40:00\n",
      "3   3.948952  3.332500 2018-10-09 11:50:00\n",
      "4   4.007792  3.364000 2018-10-09 12:00:00\n",
      "..       ...       ...                 ...\n",
      "71  7.950072  7.461833 2018-10-09 23:10:00\n",
      "72  8.008912  7.317500 2018-10-09 23:20:00\n",
      "73  8.067752  7.336667 2018-10-09 23:30:00\n",
      "74  8.126592  7.323167 2018-10-09 23:40:00\n",
      "75  8.185432  7.067333 2018-10-09 23:50:00\n",
      "\n",
      "[76 rows x 3 columns]\n"
     ]
    },
    {
     "data": {
      "application/vnd.plotly.v1+json": {
       "config": {
        "plotlyServerURL": "https://plot.ly"
       },
       "data": [
        {
         "marker": {
          "color": "#0066cc"
         },
         "mode": "markers",
         "name": "CPU Load",
         "type": "scatter",
         "x": [
          "2018-10-09T11:20:00",
          "2018-10-09T11:30:00",
          "2018-10-09T11:40:00",
          "2018-10-09T11:50:00",
          "2018-10-09T12:00:00",
          "2018-10-09T12:10:00",
          "2018-10-09T12:20:00",
          "2018-10-09T12:30:00",
          "2018-10-09T12:40:00",
          "2018-10-09T12:50:00",
          "2018-10-09T13:00:00",
          "2018-10-09T13:10:00",
          "2018-10-09T13:20:00",
          "2018-10-09T13:30:00",
          "2018-10-09T13:40:00",
          "2018-10-09T13:50:00",
          "2018-10-09T14:00:00",
          "2018-10-09T14:10:00",
          "2018-10-09T14:20:00",
          "2018-10-09T14:30:00",
          "2018-10-09T14:40:00",
          "2018-10-09T14:50:00",
          "2018-10-09T15:00:00",
          "2018-10-09T15:10:00",
          "2018-10-09T15:20:00",
          "2018-10-09T15:30:00",
          "2018-10-09T15:40:00",
          "2018-10-09T15:50:00",
          "2018-10-09T16:00:00",
          "2018-10-09T16:10:00",
          "2018-10-09T16:20:00",
          "2018-10-09T16:30:00",
          "2018-10-09T16:40:00",
          "2018-10-09T16:50:00",
          "2018-10-09T17:00:00",
          "2018-10-09T17:10:00",
          "2018-10-09T17:20:00",
          "2018-10-09T17:30:00",
          "2018-10-09T17:40:00",
          "2018-10-09T17:50:00",
          "2018-10-09T18:00:00",
          "2018-10-09T18:10:00",
          "2018-10-09T18:20:00",
          "2018-10-09T18:30:00",
          "2018-10-09T18:40:00",
          "2018-10-09T18:50:00",
          "2018-10-09T19:00:00",
          "2018-10-09T19:10:00",
          "2018-10-09T19:20:00",
          "2018-10-09T19:30:00",
          "2018-10-09T19:40:00",
          "2018-10-09T19:50:00",
          "2018-10-09T20:00:00",
          "2018-10-09T20:10:00",
          "2018-10-09T20:20:00",
          "2018-10-09T20:30:00",
          "2018-10-09T20:40:00",
          "2018-10-09T20:50:00",
          "2018-10-09T21:00:00",
          "2018-10-09T21:10:00",
          "2018-10-09T21:20:00",
          "2018-10-09T21:30:00",
          "2018-10-09T21:40:00",
          "2018-10-09T21:50:00",
          "2018-10-09T22:00:00",
          "2018-10-09T22:10:00",
          "2018-10-09T22:20:00",
          "2018-10-09T22:30:00",
          "2018-10-09T22:40:00",
          "2018-10-09T22:50:00",
          "2018-10-09T23:00:00",
          "2018-10-09T23:10:00",
          "2018-10-09T23:20:00",
          "2018-10-09T23:30:00",
          "2018-10-09T23:40:00",
          "2018-10-09T23:50:00"
         ],
         "y": [
          3.4685,
          3.622833333333333,
          3.4145000000000003,
          3.3325,
          3.364,
          3.609,
          4.315666666666667,
          6.522500000000001,
          3.4795000000000003,
          3.6545,
          3.891333333333333,
          3.5651666666666664,
          3.826666666666666,
          3.698500000000001,
          4.333166666666666,
          4.291666666666666,
          3.595333333333333,
          3.889833333333333,
          3.7751666666666654,
          3.8086666666666673,
          3.980833333333333,
          3.613,
          3.651166666666666,
          4.105166666666666,
          3.827833333333333,
          3.770333333333333,
          4.272833333333333,
          7.224000000000001,
          6.997833333333333,
          7.203833333333333,
          7.458166666666666,
          6.970666666666666,
          7.144666666666668,
          7.1033333333333335,
          6.9075000000000015,
          7.246333333333333,
          7.107000000000001,
          7.374833333333332,
          7.239999999999998,
          7.5790000000000015,
          7.3935,
          7.253333333333333,
          7.201833333333335,
          7.294666666666666,
          6.702166666666668,
          7.162333333333334,
          7.013999999999999,
          7.126666666666665,
          7.399499999999999,
          6.7731666666666674,
          7.456500000000001,
          7.6225,
          7.631,
          7.083000000000001,
          6.535666666666666,
          6.2876666666666665,
          7.018833333333332,
          7.264166666666666,
          6.938833333333332,
          7.002666666666667,
          7.331,
          7.1685,
          6.988999999999999,
          6.854666666666665,
          6.979666666666668,
          6.380333333333334,
          7.208833333333333,
          7.118666666666668,
          6.9475,
          6.965166666666666,
          7.549666666666668,
          7.461833333333334,
          7.3175,
          7.336666666666666,
          7.3231666666666655,
          7.067333333333332
         ]
        },
        {
         "marker": {
          "color": "#cc0000"
         },
         "name": "Regression Fit",
         "type": "scatter",
         "x": [
          "2018-10-09T11:20:00",
          "2018-10-09T11:30:00",
          "2018-10-09T11:40:00",
          "2018-10-09T11:50:00",
          "2018-10-09T12:00:00",
          "2018-10-09T12:10:00",
          "2018-10-09T12:20:00",
          "2018-10-09T12:30:00",
          "2018-10-09T12:40:00",
          "2018-10-09T12:50:00",
          "2018-10-09T13:00:00",
          "2018-10-09T13:10:00",
          "2018-10-09T13:20:00",
          "2018-10-09T13:30:00",
          "2018-10-09T13:40:00",
          "2018-10-09T13:50:00",
          "2018-10-09T14:00:00",
          "2018-10-09T14:10:00",
          "2018-10-09T14:20:00",
          "2018-10-09T14:30:00",
          "2018-10-09T14:40:00",
          "2018-10-09T14:50:00",
          "2018-10-09T15:00:00",
          "2018-10-09T15:10:00",
          "2018-10-09T15:20:00",
          "2018-10-09T15:30:00",
          "2018-10-09T15:40:00",
          "2018-10-09T15:50:00",
          "2018-10-09T16:00:00",
          "2018-10-09T16:10:00",
          "2018-10-09T16:20:00",
          "2018-10-09T16:30:00",
          "2018-10-09T16:40:00",
          "2018-10-09T16:50:00",
          "2018-10-09T17:00:00",
          "2018-10-09T17:10:00",
          "2018-10-09T17:20:00",
          "2018-10-09T17:30:00",
          "2018-10-09T17:40:00",
          "2018-10-09T17:50:00",
          "2018-10-09T18:00:00",
          "2018-10-09T18:10:00",
          "2018-10-09T18:20:00",
          "2018-10-09T18:30:00",
          "2018-10-09T18:40:00",
          "2018-10-09T18:50:00",
          "2018-10-09T19:00:00",
          "2018-10-09T19:10:00",
          "2018-10-09T19:20:00",
          "2018-10-09T19:30:00",
          "2018-10-09T19:40:00",
          "2018-10-09T19:50:00",
          "2018-10-09T20:00:00",
          "2018-10-09T20:10:00",
          "2018-10-09T20:20:00",
          "2018-10-09T20:30:00",
          "2018-10-09T20:40:00",
          "2018-10-09T20:50:00",
          "2018-10-09T21:00:00",
          "2018-10-09T21:10:00",
          "2018-10-09T21:20:00",
          "2018-10-09T21:30:00",
          "2018-10-09T21:40:00",
          "2018-10-09T21:50:00",
          "2018-10-09T22:00:00",
          "2018-10-09T22:10:00",
          "2018-10-09T22:20:00",
          "2018-10-09T22:30:00",
          "2018-10-09T22:40:00",
          "2018-10-09T22:50:00",
          "2018-10-09T23:00:00",
          "2018-10-09T23:10:00",
          "2018-10-09T23:20:00",
          "2018-10-09T23:30:00",
          "2018-10-09T23:40:00",
          "2018-10-09T23:50:00"
         ],
         "y": [
          3.772431590339484,
          3.8312716017316006,
          3.890111613123718,
          3.9489516245158347,
          4.007791635907951,
          4.066631647300068,
          4.1254716586921845,
          4.184311670084301,
          4.243151681476418,
          4.301991692868534,
          4.360831704260651,
          4.419671715652767,
          4.478511727044884,
          4.537351738437001,
          4.596191749829117,
          4.655031761221235,
          4.713871772613351,
          4.772711784005468,
          4.831551795397584,
          4.890391806789701,
          4.949231818181818,
          5.008071829573934,
          5.066911840966051,
          5.125751852358167,
          5.184591863750284,
          5.2434318751424005,
          5.302271886534517,
          5.361111897926635,
          5.419951909318751,
          5.478791920710868,
          5.537631932102984,
          5.596471943495101,
          5.6553119548872175,
          5.714151966279334,
          5.772991977671451,
          5.831831989063567,
          5.890672000455684,
          5.9495120118478,
          6.008352023239917,
          6.067192034632034,
          6.126032046024151,
          6.184872057416268,
          6.243712068808384,
          6.302552080200501,
          6.361392091592617,
          6.420232102984734,
          6.479072114376851,
          6.537912125768967,
          6.596752137161084,
          6.6555921485532,
          6.714432159945317,
          6.7732721713374335,
          6.832112182729551,
          6.890952194121668,
          6.949792205513784,
          7.008632216905901,
          7.067472228298017,
          7.126312239690134,
          7.1851522510822505,
          7.243992262474367,
          7.302832273866484,
          7.3616722852586,
          7.420512296650717,
          7.4793523080428335,
          7.53819231943495,
          7.5970323308270675,
          7.655872342219184,
          7.714712353611301,
          7.773552365003416,
          7.832392376395534,
          7.89123238778765,
          7.950072399179767,
          8.008912410571885,
          8.067752421964,
          8.126592433356118,
          8.185432444748233
         ]
        }
       ],
       "layout": {
        "template": {
         "data": {
          "bar": [
           {
            "error_x": {
             "color": "#2a3f5f"
            },
            "error_y": {
             "color": "#2a3f5f"
            },
            "marker": {
             "line": {
              "color": "#E5ECF6",
              "width": 0.5
             },
             "pattern": {
              "fillmode": "overlay",
              "size": 10,
              "solidity": 0.2
             }
            },
            "type": "bar"
           }
          ],
          "barpolar": [
           {
            "marker": {
             "line": {
              "color": "#E5ECF6",
              "width": 0.5
             },
             "pattern": {
              "fillmode": "overlay",
              "size": 10,
              "solidity": 0.2
             }
            },
            "type": "barpolar"
           }
          ],
          "carpet": [
           {
            "aaxis": {
             "endlinecolor": "#2a3f5f",
             "gridcolor": "white",
             "linecolor": "white",
             "minorgridcolor": "white",
             "startlinecolor": "#2a3f5f"
            },
            "baxis": {
             "endlinecolor": "#2a3f5f",
             "gridcolor": "white",
             "linecolor": "white",
             "minorgridcolor": "white",
             "startlinecolor": "#2a3f5f"
            },
            "type": "carpet"
           }
          ],
          "choropleth": [
           {
            "colorbar": {
             "outlinewidth": 0,
             "ticks": ""
            },
            "type": "choropleth"
           }
          ],
          "contour": [
           {
            "colorbar": {
             "outlinewidth": 0,
             "ticks": ""
            },
            "colorscale": [
             [
              0,
              "#0d0887"
             ],
             [
              0.1111111111111111,
              "#46039f"
             ],
             [
              0.2222222222222222,
              "#7201a8"
             ],
             [
              0.3333333333333333,
              "#9c179e"
             ],
             [
              0.4444444444444444,
              "#bd3786"
             ],
             [
              0.5555555555555556,
              "#d8576b"
             ],
             [
              0.6666666666666666,
              "#ed7953"
             ],
             [
              0.7777777777777778,
              "#fb9f3a"
             ],
             [
              0.8888888888888888,
              "#fdca26"
             ],
             [
              1,
              "#f0f921"
             ]
            ],
            "type": "contour"
           }
          ],
          "contourcarpet": [
           {
            "colorbar": {
             "outlinewidth": 0,
             "ticks": ""
            },
            "type": "contourcarpet"
           }
          ],
          "heatmap": [
           {
            "colorbar": {
             "outlinewidth": 0,
             "ticks": ""
            },
            "colorscale": [
             [
              0,
              "#0d0887"
             ],
             [
              0.1111111111111111,
              "#46039f"
             ],
             [
              0.2222222222222222,
              "#7201a8"
             ],
             [
              0.3333333333333333,
              "#9c179e"
             ],
             [
              0.4444444444444444,
              "#bd3786"
             ],
             [
              0.5555555555555556,
              "#d8576b"
             ],
             [
              0.6666666666666666,
              "#ed7953"
             ],
             [
              0.7777777777777778,
              "#fb9f3a"
             ],
             [
              0.8888888888888888,
              "#fdca26"
             ],
             [
              1,
              "#f0f921"
             ]
            ],
            "type": "heatmap"
           }
          ],
          "heatmapgl": [
           {
            "colorbar": {
             "outlinewidth": 0,
             "ticks": ""
            },
            "colorscale": [
             [
              0,
              "#0d0887"
             ],
             [
              0.1111111111111111,
              "#46039f"
             ],
             [
              0.2222222222222222,
              "#7201a8"
             ],
             [
              0.3333333333333333,
              "#9c179e"
             ],
             [
              0.4444444444444444,
              "#bd3786"
             ],
             [
              0.5555555555555556,
              "#d8576b"
             ],
             [
              0.6666666666666666,
              "#ed7953"
             ],
             [
              0.7777777777777778,
              "#fb9f3a"
             ],
             [
              0.8888888888888888,
              "#fdca26"
             ],
             [
              1,
              "#f0f921"
             ]
            ],
            "type": "heatmapgl"
           }
          ],
          "histogram": [
           {
            "marker": {
             "pattern": {
              "fillmode": "overlay",
              "size": 10,
              "solidity": 0.2
             }
            },
            "type": "histogram"
           }
          ],
          "histogram2d": [
           {
            "colorbar": {
             "outlinewidth": 0,
             "ticks": ""
            },
            "colorscale": [
             [
              0,
              "#0d0887"
             ],
             [
              0.1111111111111111,
              "#46039f"
             ],
             [
              0.2222222222222222,
              "#7201a8"
             ],
             [
              0.3333333333333333,
              "#9c179e"
             ],
             [
              0.4444444444444444,
              "#bd3786"
             ],
             [
              0.5555555555555556,
              "#d8576b"
             ],
             [
              0.6666666666666666,
              "#ed7953"
             ],
             [
              0.7777777777777778,
              "#fb9f3a"
             ],
             [
              0.8888888888888888,
              "#fdca26"
             ],
             [
              1,
              "#f0f921"
             ]
            ],
            "type": "histogram2d"
           }
          ],
          "histogram2dcontour": [
           {
            "colorbar": {
             "outlinewidth": 0,
             "ticks": ""
            },
            "colorscale": [
             [
              0,
              "#0d0887"
             ],
             [
              0.1111111111111111,
              "#46039f"
             ],
             [
              0.2222222222222222,
              "#7201a8"
             ],
             [
              0.3333333333333333,
              "#9c179e"
             ],
             [
              0.4444444444444444,
              "#bd3786"
             ],
             [
              0.5555555555555556,
              "#d8576b"
             ],
             [
              0.6666666666666666,
              "#ed7953"
             ],
             [
              0.7777777777777778,
              "#fb9f3a"
             ],
             [
              0.8888888888888888,
              "#fdca26"
             ],
             [
              1,
              "#f0f921"
             ]
            ],
            "type": "histogram2dcontour"
           }
          ],
          "mesh3d": [
           {
            "colorbar": {
             "outlinewidth": 0,
             "ticks": ""
            },
            "type": "mesh3d"
           }
          ],
          "parcoords": [
           {
            "line": {
             "colorbar": {
              "outlinewidth": 0,
              "ticks": ""
             }
            },
            "type": "parcoords"
           }
          ],
          "pie": [
           {
            "automargin": true,
            "type": "pie"
           }
          ],
          "scatter": [
           {
            "fillpattern": {
             "fillmode": "overlay",
             "size": 10,
             "solidity": 0.2
            },
            "type": "scatter"
           }
          ],
          "scatter3d": [
           {
            "line": {
             "colorbar": {
              "outlinewidth": 0,
              "ticks": ""
             }
            },
            "marker": {
             "colorbar": {
              "outlinewidth": 0,
              "ticks": ""
             }
            },
            "type": "scatter3d"
           }
          ],
          "scattercarpet": [
           {
            "marker": {
             "colorbar": {
              "outlinewidth": 0,
              "ticks": ""
             }
            },
            "type": "scattercarpet"
           }
          ],
          "scattergeo": [
           {
            "marker": {
             "colorbar": {
              "outlinewidth": 0,
              "ticks": ""
             }
            },
            "type": "scattergeo"
           }
          ],
          "scattergl": [
           {
            "marker": {
             "colorbar": {
              "outlinewidth": 0,
              "ticks": ""
             }
            },
            "type": "scattergl"
           }
          ],
          "scattermapbox": [
           {
            "marker": {
             "colorbar": {
              "outlinewidth": 0,
              "ticks": ""
             }
            },
            "type": "scattermapbox"
           }
          ],
          "scatterpolar": [
           {
            "marker": {
             "colorbar": {
              "outlinewidth": 0,
              "ticks": ""
             }
            },
            "type": "scatterpolar"
           }
          ],
          "scatterpolargl": [
           {
            "marker": {
             "colorbar": {
              "outlinewidth": 0,
              "ticks": ""
             }
            },
            "type": "scatterpolargl"
           }
          ],
          "scatterternary": [
           {
            "marker": {
             "colorbar": {
              "outlinewidth": 0,
              "ticks": ""
             }
            },
            "type": "scatterternary"
           }
          ],
          "surface": [
           {
            "colorbar": {
             "outlinewidth": 0,
             "ticks": ""
            },
            "colorscale": [
             [
              0,
              "#0d0887"
             ],
             [
              0.1111111111111111,
              "#46039f"
             ],
             [
              0.2222222222222222,
              "#7201a8"
             ],
             [
              0.3333333333333333,
              "#9c179e"
             ],
             [
              0.4444444444444444,
              "#bd3786"
             ],
             [
              0.5555555555555556,
              "#d8576b"
             ],
             [
              0.6666666666666666,
              "#ed7953"
             ],
             [
              0.7777777777777778,
              "#fb9f3a"
             ],
             [
              0.8888888888888888,
              "#fdca26"
             ],
             [
              1,
              "#f0f921"
             ]
            ],
            "type": "surface"
           }
          ],
          "table": [
           {
            "cells": {
             "fill": {
              "color": "#EBF0F8"
             },
             "line": {
              "color": "white"
             }
            },
            "header": {
             "fill": {
              "color": "#C8D4E3"
             },
             "line": {
              "color": "white"
             }
            },
            "type": "table"
           }
          ]
         },
         "layout": {
          "annotationdefaults": {
           "arrowcolor": "#2a3f5f",
           "arrowhead": 0,
           "arrowwidth": 1
          },
          "autotypenumbers": "strict",
          "coloraxis": {
           "colorbar": {
            "outlinewidth": 0,
            "ticks": ""
           }
          },
          "colorscale": {
           "diverging": [
            [
             0,
             "#8e0152"
            ],
            [
             0.1,
             "#c51b7d"
            ],
            [
             0.2,
             "#de77ae"
            ],
            [
             0.3,
             "#f1b6da"
            ],
            [
             0.4,
             "#fde0ef"
            ],
            [
             0.5,
             "#f7f7f7"
            ],
            [
             0.6,
             "#e6f5d0"
            ],
            [
             0.7,
             "#b8e186"
            ],
            [
             0.8,
             "#7fbc41"
            ],
            [
             0.9,
             "#4d9221"
            ],
            [
             1,
             "#276419"
            ]
           ],
           "sequential": [
            [
             0,
             "#0d0887"
            ],
            [
             0.1111111111111111,
             "#46039f"
            ],
            [
             0.2222222222222222,
             "#7201a8"
            ],
            [
             0.3333333333333333,
             "#9c179e"
            ],
            [
             0.4444444444444444,
             "#bd3786"
            ],
            [
             0.5555555555555556,
             "#d8576b"
            ],
            [
             0.6666666666666666,
             "#ed7953"
            ],
            [
             0.7777777777777778,
             "#fb9f3a"
            ],
            [
             0.8888888888888888,
             "#fdca26"
            ],
            [
             1,
             "#f0f921"
            ]
           ],
           "sequentialminus": [
            [
             0,
             "#0d0887"
            ],
            [
             0.1111111111111111,
             "#46039f"
            ],
            [
             0.2222222222222222,
             "#7201a8"
            ],
            [
             0.3333333333333333,
             "#9c179e"
            ],
            [
             0.4444444444444444,
             "#bd3786"
            ],
            [
             0.5555555555555556,
             "#d8576b"
            ],
            [
             0.6666666666666666,
             "#ed7953"
            ],
            [
             0.7777777777777778,
             "#fb9f3a"
            ],
            [
             0.8888888888888888,
             "#fdca26"
            ],
            [
             1,
             "#f0f921"
            ]
           ]
          },
          "colorway": [
           "#636efa",
           "#EF553B",
           "#00cc96",
           "#ab63fa",
           "#FFA15A",
           "#19d3f3",
           "#FF6692",
           "#B6E880",
           "#FF97FF",
           "#FECB52"
          ],
          "font": {
           "color": "#2a3f5f"
          },
          "geo": {
           "bgcolor": "white",
           "lakecolor": "white",
           "landcolor": "#E5ECF6",
           "showlakes": true,
           "showland": true,
           "subunitcolor": "white"
          },
          "hoverlabel": {
           "align": "left"
          },
          "hovermode": "closest",
          "mapbox": {
           "style": "light"
          },
          "paper_bgcolor": "white",
          "plot_bgcolor": "#E5ECF6",
          "polar": {
           "angularaxis": {
            "gridcolor": "white",
            "linecolor": "white",
            "ticks": ""
           },
           "bgcolor": "#E5ECF6",
           "radialaxis": {
            "gridcolor": "white",
            "linecolor": "white",
            "ticks": ""
           }
          },
          "scene": {
           "xaxis": {
            "backgroundcolor": "#E5ECF6",
            "gridcolor": "white",
            "gridwidth": 2,
            "linecolor": "white",
            "showbackground": true,
            "ticks": "",
            "zerolinecolor": "white"
           },
           "yaxis": {
            "backgroundcolor": "#E5ECF6",
            "gridcolor": "white",
            "gridwidth": 2,
            "linecolor": "white",
            "showbackground": true,
            "ticks": "",
            "zerolinecolor": "white"
           },
           "zaxis": {
            "backgroundcolor": "#E5ECF6",
            "gridcolor": "white",
            "gridwidth": 2,
            "linecolor": "white",
            "showbackground": true,
            "ticks": "",
            "zerolinecolor": "white"
           }
          },
          "shapedefaults": {
           "line": {
            "color": "#2a3f5f"
           }
          },
          "ternary": {
           "aaxis": {
            "gridcolor": "white",
            "linecolor": "white",
            "ticks": ""
           },
           "baxis": {
            "gridcolor": "white",
            "linecolor": "white",
            "ticks": ""
           },
           "bgcolor": "#E5ECF6",
           "caxis": {
            "gridcolor": "white",
            "linecolor": "white",
            "ticks": ""
           }
          },
          "title": {
           "x": 0.05
          },
          "xaxis": {
           "automargin": true,
           "gridcolor": "white",
           "linecolor": "white",
           "ticks": "",
           "title": {
            "standoff": 15
           },
           "zerolinecolor": "white",
           "zerolinewidth": 2
          },
          "yaxis": {
           "automargin": true,
           "gridcolor": "white",
           "linecolor": "white",
           "ticks": "",
           "title": {
            "standoff": 15
           },
           "zerolinecolor": "white",
           "zerolinewidth": 2
          }
         }
        }
       }
      }
     },
     "metadata": {},
     "output_type": "display_data"
    },
    {
     "ename": "ValueError",
     "evalue": "Found input variables with inconsistent numbers of samples: [19, 76]",
     "output_type": "error",
     "traceback": [
      "\u001b[1;31m---------------------------------------------------------------------------\u001b[0m",
      "\u001b[1;31mValueError\u001b[0m                                Traceback (most recent call last)",
      "Cell \u001b[1;32mIn[61], line 51\u001b[0m\n\u001b[0;32m     46\u001b[0m fig\u001b[38;5;241m.\u001b[39mshow()\n\u001b[0;32m     49\u001b[0m fig\u001b[38;5;241m.\u001b[39mwrite_image(\u001b[38;5;124m\"\u001b[39m\u001b[38;5;124mLinear_RCC120.png\u001b[39m\u001b[38;5;124m\"\u001b[39m, scale\u001b[38;5;241m=\u001b[39m\u001b[38;5;241m2\u001b[39m)\n\u001b[1;32m---> 51\u001b[0m mse \u001b[38;5;241m=\u001b[39m \u001b[43mmean_squared_error\u001b[49m\u001b[43m(\u001b[49m\u001b[43my_test\u001b[49m\u001b[43m,\u001b[49m\u001b[43m \u001b[49m\u001b[43my_pred\u001b[49m\u001b[43m)\u001b[49m\n\u001b[0;32m     52\u001b[0m rmse \u001b[38;5;241m=\u001b[39m np\u001b[38;5;241m.\u001b[39msqrt(mse)\n\u001b[0;32m     53\u001b[0m \u001b[38;5;28mprint\u001b[39m(\u001b[38;5;124mf\u001b[39m\u001b[38;5;124m\"\u001b[39m\u001b[38;5;124mValidation RMSE: \u001b[39m\u001b[38;5;132;01m{\u001b[39;00mrmse\u001b[38;5;132;01m:\u001b[39;00m\u001b[38;5;124m.3f\u001b[39m\u001b[38;5;132;01m}\u001b[39;00m\u001b[38;5;124m\"\u001b[39m)\n",
      "File \u001b[1;32mc:\\Users\\Merlijne\\AppData\\Local\\Programs\\Python\\Python312\\Lib\\site-packages\\sklearn\\utils\\_param_validation.py:216\u001b[0m, in \u001b[0;36mvalidate_params.<locals>.decorator.<locals>.wrapper\u001b[1;34m(*args, **kwargs)\u001b[0m\n\u001b[0;32m    210\u001b[0m \u001b[38;5;28;01mtry\u001b[39;00m:\n\u001b[0;32m    211\u001b[0m     \u001b[38;5;28;01mwith\u001b[39;00m config_context(\n\u001b[0;32m    212\u001b[0m         skip_parameter_validation\u001b[38;5;241m=\u001b[39m(\n\u001b[0;32m    213\u001b[0m             prefer_skip_nested_validation \u001b[38;5;129;01mor\u001b[39;00m global_skip_validation\n\u001b[0;32m    214\u001b[0m         )\n\u001b[0;32m    215\u001b[0m     ):\n\u001b[1;32m--> 216\u001b[0m         \u001b[38;5;28;01mreturn\u001b[39;00m \u001b[43mfunc\u001b[49m\u001b[43m(\u001b[49m\u001b[38;5;241;43m*\u001b[39;49m\u001b[43margs\u001b[49m\u001b[43m,\u001b[49m\u001b[43m \u001b[49m\u001b[38;5;241;43m*\u001b[39;49m\u001b[38;5;241;43m*\u001b[39;49m\u001b[43mkwargs\u001b[49m\u001b[43m)\u001b[49m\n\u001b[0;32m    217\u001b[0m \u001b[38;5;28;01mexcept\u001b[39;00m InvalidParameterError \u001b[38;5;28;01mas\u001b[39;00m e:\n\u001b[0;32m    218\u001b[0m     \u001b[38;5;66;03m# When the function is just a wrapper around an estimator, we allow\u001b[39;00m\n\u001b[0;32m    219\u001b[0m     \u001b[38;5;66;03m# the function to delegate validation to the estimator, but we replace\u001b[39;00m\n\u001b[0;32m    220\u001b[0m     \u001b[38;5;66;03m# the name of the estimator by the name of the function in the error\u001b[39;00m\n\u001b[0;32m    221\u001b[0m     \u001b[38;5;66;03m# message to avoid confusion.\u001b[39;00m\n\u001b[0;32m    222\u001b[0m     msg \u001b[38;5;241m=\u001b[39m re\u001b[38;5;241m.\u001b[39msub(\n\u001b[0;32m    223\u001b[0m         \u001b[38;5;124mr\u001b[39m\u001b[38;5;124m\"\u001b[39m\u001b[38;5;124mparameter of \u001b[39m\u001b[38;5;124m\\\u001b[39m\u001b[38;5;124mw+ must be\u001b[39m\u001b[38;5;124m\"\u001b[39m,\n\u001b[0;32m    224\u001b[0m         \u001b[38;5;124mf\u001b[39m\u001b[38;5;124m\"\u001b[39m\u001b[38;5;124mparameter of \u001b[39m\u001b[38;5;132;01m{\u001b[39;00mfunc\u001b[38;5;241m.\u001b[39m\u001b[38;5;18m__qualname__\u001b[39m\u001b[38;5;132;01m}\u001b[39;00m\u001b[38;5;124m must be\u001b[39m\u001b[38;5;124m\"\u001b[39m,\n\u001b[0;32m    225\u001b[0m         \u001b[38;5;28mstr\u001b[39m(e),\n\u001b[0;32m    226\u001b[0m     )\n",
      "File \u001b[1;32mc:\\Users\\Merlijne\\AppData\\Local\\Programs\\Python\\Python312\\Lib\\site-packages\\sklearn\\metrics\\_regression.py:565\u001b[0m, in \u001b[0;36mmean_squared_error\u001b[1;34m(y_true, y_pred, sample_weight, multioutput)\u001b[0m\n\u001b[0;32m    515\u001b[0m \u001b[38;5;250m\u001b[39m\u001b[38;5;124;03m\"\"\"Mean squared error regression loss.\u001b[39;00m\n\u001b[0;32m    516\u001b[0m \n\u001b[0;32m    517\u001b[0m \u001b[38;5;124;03mRead more in the :ref:`User Guide <mean_squared_error>`.\u001b[39;00m\n\u001b[1;32m   (...)\u001b[0m\n\u001b[0;32m    561\u001b[0m \u001b[38;5;124;03m0.825...\u001b[39;00m\n\u001b[0;32m    562\u001b[0m \u001b[38;5;124;03m\"\"\"\u001b[39;00m\n\u001b[0;32m    563\u001b[0m xp, _ \u001b[38;5;241m=\u001b[39m get_namespace(y_true, y_pred, sample_weight, multioutput)\n\u001b[0;32m    564\u001b[0m _, y_true, y_pred, sample_weight, multioutput \u001b[38;5;241m=\u001b[39m (\n\u001b[1;32m--> 565\u001b[0m     \u001b[43m_check_reg_targets_with_floating_dtype\u001b[49m\u001b[43m(\u001b[49m\n\u001b[0;32m    566\u001b[0m \u001b[43m        \u001b[49m\u001b[43my_true\u001b[49m\u001b[43m,\u001b[49m\u001b[43m \u001b[49m\u001b[43my_pred\u001b[49m\u001b[43m,\u001b[49m\u001b[43m \u001b[49m\u001b[43msample_weight\u001b[49m\u001b[43m,\u001b[49m\u001b[43m \u001b[49m\u001b[43mmultioutput\u001b[49m\u001b[43m,\u001b[49m\u001b[43m \u001b[49m\u001b[43mxp\u001b[49m\u001b[38;5;241;43m=\u001b[39;49m\u001b[43mxp\u001b[49m\n\u001b[0;32m    567\u001b[0m \u001b[43m    \u001b[49m\u001b[43m)\u001b[49m\n\u001b[0;32m    568\u001b[0m )\n\u001b[0;32m    569\u001b[0m check_consistent_length(y_true, y_pred, sample_weight)\n\u001b[0;32m    570\u001b[0m output_errors \u001b[38;5;241m=\u001b[39m _average((y_true \u001b[38;5;241m-\u001b[39m y_pred) \u001b[38;5;241m*\u001b[39m\u001b[38;5;241m*\u001b[39m \u001b[38;5;241m2\u001b[39m, axis\u001b[38;5;241m=\u001b[39m\u001b[38;5;241m0\u001b[39m, weights\u001b[38;5;241m=\u001b[39msample_weight)\n",
      "File \u001b[1;32mc:\\Users\\Merlijne\\AppData\\Local\\Programs\\Python\\Python312\\Lib\\site-packages\\sklearn\\metrics\\_regression.py:198\u001b[0m, in \u001b[0;36m_check_reg_targets_with_floating_dtype\u001b[1;34m(y_true, y_pred, sample_weight, multioutput, xp)\u001b[0m\n\u001b[0;32m    148\u001b[0m \u001b[38;5;250m\u001b[39m\u001b[38;5;124;03m\"\"\"Ensures that y_true, y_pred, and sample_weight correspond to the same\u001b[39;00m\n\u001b[0;32m    149\u001b[0m \u001b[38;5;124;03mregression task.\u001b[39;00m\n\u001b[0;32m    150\u001b[0m \n\u001b[1;32m   (...)\u001b[0m\n\u001b[0;32m    194\u001b[0m \u001b[38;5;124;03m    correct keyword.\u001b[39;00m\n\u001b[0;32m    195\u001b[0m \u001b[38;5;124;03m\"\"\"\u001b[39;00m\n\u001b[0;32m    196\u001b[0m dtype_name \u001b[38;5;241m=\u001b[39m _find_matching_floating_dtype(y_true, y_pred, sample_weight, xp\u001b[38;5;241m=\u001b[39mxp)\n\u001b[1;32m--> 198\u001b[0m y_type, y_true, y_pred, multioutput \u001b[38;5;241m=\u001b[39m \u001b[43m_check_reg_targets\u001b[49m\u001b[43m(\u001b[49m\n\u001b[0;32m    199\u001b[0m \u001b[43m    \u001b[49m\u001b[43my_true\u001b[49m\u001b[43m,\u001b[49m\u001b[43m \u001b[49m\u001b[43my_pred\u001b[49m\u001b[43m,\u001b[49m\u001b[43m \u001b[49m\u001b[43mmultioutput\u001b[49m\u001b[43m,\u001b[49m\u001b[43m \u001b[49m\u001b[43mdtype\u001b[49m\u001b[38;5;241;43m=\u001b[39;49m\u001b[43mdtype_name\u001b[49m\u001b[43m,\u001b[49m\u001b[43m \u001b[49m\u001b[43mxp\u001b[49m\u001b[38;5;241;43m=\u001b[39;49m\u001b[43mxp\u001b[49m\n\u001b[0;32m    200\u001b[0m \u001b[43m\u001b[49m\u001b[43m)\u001b[49m\n\u001b[0;32m    202\u001b[0m \u001b[38;5;66;03m# _check_reg_targets does not accept sample_weight as input.\u001b[39;00m\n\u001b[0;32m    203\u001b[0m \u001b[38;5;66;03m# Convert sample_weight's data type separately to match dtype_name.\u001b[39;00m\n\u001b[0;32m    204\u001b[0m \u001b[38;5;28;01mif\u001b[39;00m sample_weight \u001b[38;5;129;01mis\u001b[39;00m \u001b[38;5;129;01mnot\u001b[39;00m \u001b[38;5;28;01mNone\u001b[39;00m:\n",
      "File \u001b[1;32mc:\\Users\\Merlijne\\AppData\\Local\\Programs\\Python\\Python312\\Lib\\site-packages\\sklearn\\metrics\\_regression.py:104\u001b[0m, in \u001b[0;36m_check_reg_targets\u001b[1;34m(y_true, y_pred, multioutput, dtype, xp)\u001b[0m\n\u001b[0;32m     59\u001b[0m \u001b[38;5;250m\u001b[39m\u001b[38;5;124;03m\"\"\"Check that y_true and y_pred belong to the same regression task.\u001b[39;00m\n\u001b[0;32m     60\u001b[0m \n\u001b[0;32m     61\u001b[0m \u001b[38;5;124;03mTo reduce redundancy when calling `_find_matching_floating_dtype`,\u001b[39;00m\n\u001b[1;32m   (...)\u001b[0m\n\u001b[0;32m    100\u001b[0m \u001b[38;5;124;03m    correct keyword.\u001b[39;00m\n\u001b[0;32m    101\u001b[0m \u001b[38;5;124;03m\"\"\"\u001b[39;00m\n\u001b[0;32m    102\u001b[0m xp, _ \u001b[38;5;241m=\u001b[39m get_namespace(y_true, y_pred, multioutput, xp\u001b[38;5;241m=\u001b[39mxp)\n\u001b[1;32m--> 104\u001b[0m \u001b[43mcheck_consistent_length\u001b[49m\u001b[43m(\u001b[49m\u001b[43my_true\u001b[49m\u001b[43m,\u001b[49m\u001b[43m \u001b[49m\u001b[43my_pred\u001b[49m\u001b[43m)\u001b[49m\n\u001b[0;32m    105\u001b[0m y_true \u001b[38;5;241m=\u001b[39m check_array(y_true, ensure_2d\u001b[38;5;241m=\u001b[39m\u001b[38;5;28;01mFalse\u001b[39;00m, dtype\u001b[38;5;241m=\u001b[39mdtype)\n\u001b[0;32m    106\u001b[0m y_pred \u001b[38;5;241m=\u001b[39m check_array(y_pred, ensure_2d\u001b[38;5;241m=\u001b[39m\u001b[38;5;28;01mFalse\u001b[39;00m, dtype\u001b[38;5;241m=\u001b[39mdtype)\n",
      "File \u001b[1;32mc:\\Users\\Merlijne\\AppData\\Local\\Programs\\Python\\Python312\\Lib\\site-packages\\sklearn\\utils\\validation.py:475\u001b[0m, in \u001b[0;36mcheck_consistent_length\u001b[1;34m(*arrays)\u001b[0m\n\u001b[0;32m    473\u001b[0m uniques \u001b[38;5;241m=\u001b[39m np\u001b[38;5;241m.\u001b[39munique(lengths)\n\u001b[0;32m    474\u001b[0m \u001b[38;5;28;01mif\u001b[39;00m \u001b[38;5;28mlen\u001b[39m(uniques) \u001b[38;5;241m>\u001b[39m \u001b[38;5;241m1\u001b[39m:\n\u001b[1;32m--> 475\u001b[0m     \u001b[38;5;28;01mraise\u001b[39;00m \u001b[38;5;167;01mValueError\u001b[39;00m(\n\u001b[0;32m    476\u001b[0m         \u001b[38;5;124m\"\u001b[39m\u001b[38;5;124mFound input variables with inconsistent numbers of samples: \u001b[39m\u001b[38;5;132;01m%r\u001b[39;00m\u001b[38;5;124m\"\u001b[39m\n\u001b[0;32m    477\u001b[0m         \u001b[38;5;241m%\u001b[39m [\u001b[38;5;28mint\u001b[39m(l) \u001b[38;5;28;01mfor\u001b[39;00m l \u001b[38;5;129;01min\u001b[39;00m lengths]\n\u001b[0;32m    478\u001b[0m     )\n",
      "\u001b[1;31mValueError\u001b[0m: Found input variables with inconsistent numbers of samples: [19, 76]"
     ]
    }
   ],
   "source": [
    "\n",
    "\n",
    "\n",
    "df['Time'] = pd.to_datetime(df['Time'])\n",
    "\n",
    "\n",
    "print(len(rcc120))\n",
    "\n",
    "df = rcc120.copy()\n",
    "df.dropna(subset=['CPU_Load', 'Power'], inplace = True)\n",
    "\n",
    "\n",
    "# Time \n",
    "df['Time'] = pd.to_datetime(df['Time'])\n",
    "print(len(df.Time))\n",
    "df['Seconds_since_midnight'] = df['Time'].dt.hour * 3600 + df['Time'].dt.minute * 60 + df['Time'].dt.second\n",
    "print(len(df.Seconds_since_midnight))\n",
    "X = df.Seconds_since_midnight.values.reshape(-1, 1)\n",
    "\n",
    "\n",
    "model = LinearRegression()\n",
    "model.fit(X, df.CPU_Load)\n",
    "\n",
    "time_range = np.linspace(0, 86400, 100).reshape(-1, 1)  # van 00:00 tot 23:59 in seconden\n",
    "cpu_pred = model.predict(time_range)\n",
    "base_date = pd.Timestamp(\"2018-10-09\")\n",
    "time_labels = [base_date + pd.Timedelta(seconds=s[0]) for s in time_range]\n",
    "print(len(cpu_pred))\n",
    "df['cpu_fit'] = model.predict(df['Seconds_since_midnight'].values.reshape(-1, 1))\n",
    "\n",
    "print(df[[\"cpu_fit\", \"CPU_Load\", \"Time\"]])\n",
    "\n",
    "\n",
    "fig = go.Figure()\n",
    "fig.add_trace(go.Scatter(\n",
    "    x=df['Time'],\n",
    "    y=df['CPU_Load'],\n",
    "    mode='markers',\n",
    "    marker=dict(color='#0066cc'),  \n",
    "    name='CPU Load'\n",
    "))\n",
    "fig.add_trace(go.Scatter(\n",
    "    x=df['Time'],\n",
    "    y=df['cpu_fit'],\n",
    "    marker=dict(color='#cc0000'),  # rood via rgb\n",
    "    name='Regression Fit'\n",
    "))\n",
    "\n",
    "fig.show()\n",
    "\n",
    "\n",
    "fig.write_image(\"Linear_RCC120.png\", scale=2)\n",
    "\n",
    "mse = mean_squared_error(y_test, y_pred)\n",
    "rmse = np.sqrt(mse)\n",
    "print(f\"Validation RMSE: {rmse:.3f}\")\n",
    "r2 = r2_score(y_test, y_pred)\n",
    "print(f\"R²-score: {r2:.3f}\")\n"
   ]
  },
  {
   "cell_type": "code",
   "execution_count": null,
   "id": "0ada5575",
   "metadata": {},
   "outputs": [
    {
     "data": {
      "application/vnd.plotly.v1+json": {
       "config": {
        "plotlyServerURL": "https://plot.ly"
       },
       "data": [
        {
         "mode": "markers",
         "name": "train",
         "type": "scatter",
         "x": [
          74400,
          44400,
          70800,
          82200,
          43200,
          80400,
          69600,
          42000,
          67800,
          78000,
          47400,
          58800,
          42600,
          78600,
          46800,
          59400,
          63600,
          73800,
          41400,
          60000,
          84600,
          49200,
          66000,
          52200,
          58200,
          77400,
          61800,
          51600,
          40800,
          85200,
          49800,
          43800,
          72600,
          50400,
          71400,
          52800,
          82800,
          45600,
          48600,
          55800,
          63000,
          51000,
          55200,
          68400,
          54600,
          64200,
          79800,
          75600,
          48000,
          62400,
          53400,
          46200,
          84000,
          81000,
          79200,
          69000,
          67200
         ],
         "y": [
          7.018833333333332,
          4.315666666666667,
          7.456500000000001,
          6.965166666666666,
          3.364,
          7.208833333333333,
          7.399499999999999,
          3.4145000000000003,
          7.162333333333334,
          6.988999999999999,
          3.5651666666666664,
          7.458166666666666,
          3.3325,
          6.854666666666665,
          3.891333333333333,
          6.970666666666666,
          7.239999999999998,
          6.2876666666666665,
          3.622833333333333,
          7.144666666666668,
          7.336666666666666,
          4.333166666666666,
          7.201833333333335,
          3.8086666666666673,
          7.203833333333333,
          7.1685,
          7.246333333333333,
          3.7751666666666654,
          3.4685,
          7.3231666666666655,
          4.291666666666666,
          3.609,
          7.083000000000001,
          3.595333333333333,
          7.6225,
          3.980833333333333,
          7.549666666666668,
          3.4795000000000003,
          3.698500000000001,
          3.770333333333333,
          7.374833333333332,
          3.889833333333333,
          3.827833333333333,
          7.013999999999999,
          4.105166666666666,
          7.5790000000000015,
          6.380333333333334,
          6.938833333333332,
          3.826666666666666,
          7.107000000000001,
          3.613,
          3.6545,
          7.3175,
          7.118666666666668,
          6.979666666666668,
          7.126666666666665,
          6.702166666666668
         ]
        },
        {
         "mode": "markers",
         "name": "test",
         "type": "scatter",
         "x": [
          72000,
          75000,
          54000,
          85800,
          57600,
          56400,
          83400,
          73200,
          61200,
          45000,
          66600,
          76200,
          65400,
          64800,
          60600,
          81600,
          57000,
          70200,
          76800
         ],
         "y": [
          7.631,
          7.264166666666666,
          3.651166666666666,
          7.067333333333332,
          6.997833333333333,
          4.272833333333333,
          7.461833333333334,
          6.535666666666666,
          6.9075000000000015,
          6.522500000000001,
          7.294666666666666,
          7.002666666666667,
          7.253333333333333,
          7.3935,
          7.1033333333333335,
          6.9475,
          7.224000000000001,
          6.7731666666666674,
          7.331
         ]
        },
        {
         "name": "prediction",
         "type": "scatter",
         "x": [
          40800,
          41254.545454545456,
          41709.09090909091,
          42163.63636363636,
          42618.181818181816,
          43072.72727272727,
          43527.27272727273,
          43981.818181818184,
          44436.36363636364,
          44890.90909090909,
          45345.454545454544,
          45800,
          46254.545454545456,
          46709.09090909091,
          47163.63636363637,
          47618.181818181816,
          48072.72727272727,
          48527.27272727273,
          48981.818181818184,
          49436.36363636363,
          49890.90909090909,
          50345.454545454544,
          50800,
          51254.545454545456,
          51709.09090909091,
          52163.63636363637,
          52618.181818181816,
          53072.72727272727,
          53527.27272727273,
          53981.818181818184,
          54436.36363636363,
          54890.90909090909,
          55345.454545454544,
          55800,
          56254.545454545456,
          56709.09090909091,
          57163.63636363637,
          57618.18181818182,
          58072.72727272727,
          58527.27272727273,
          58981.818181818184,
          59436.36363636363,
          59890.90909090909,
          60345.454545454544,
          60800,
          61254.545454545456,
          61709.09090909091,
          62163.63636363637,
          62618.18181818182,
          63072.72727272727,
          63527.27272727273,
          63981.818181818184,
          64436.36363636363,
          64890.90909090909,
          65345.454545454544,
          65800,
          66254.54545454546,
          66709.09090909091,
          67163.63636363637,
          67618.18181818182,
          68072.72727272726,
          68527.27272727274,
          68981.81818181818,
          69436.36363636363,
          69890.90909090909,
          70345.45454545454,
          70800,
          71254.54545454546,
          71709.09090909091,
          72163.63636363637,
          72618.18181818182,
          73072.72727272726,
          73527.27272727274,
          73981.81818181818,
          74436.36363636365,
          74890.90909090909,
          75345.45454545454,
          75800,
          76254.54545454546,
          76709.09090909091,
          77163.63636363637,
          77618.18181818182,
          78072.72727272726,
          78527.27272727274,
          78981.81818181818,
          79436.36363636365,
          79890.90909090909,
          80345.45454545454,
          80800,
          81254.54545454546,
          81709.09090909091,
          82163.63636363637,
          82618.18181818182,
          83072.72727272726,
          83527.27272727274,
          83981.81818181818,
          84436.36363636365,
          84890.90909090909,
          85345.45454545454,
          85800
         ],
         "y": [
          3.4873933832583344,
          3.5353967743880483,
          3.5834001655177614,
          3.6314035566474745,
          3.6794069477771885,
          3.7274103389069015,
          3.7754137300366155,
          3.8234171211663286,
          3.8714205122960426,
          3.9194239034257548,
          3.9674272945554687,
          4.015430685685182,
          4.063434076814896,
          4.111437467944609,
          4.159440859074323,
          4.207444250204035,
          4.255447641333749,
          4.303451032463462,
          4.351454423593176,
          4.399457814722889,
          4.447461205852602,
          4.495464596982316,
          4.543467988112029,
          4.591471379241743,
          4.639474770371456,
          4.68747816150117,
          4.735481552630882,
          4.783484943760596,
          4.8314883348903095,
          4.8794917260200235,
          4.9274951171497365,
          4.97549850827945,
          5.023501899409164,
          5.071505290538877,
          5.119508681668591,
          5.167512072798304,
          5.215515463928018,
          5.263518855057731,
          5.311522246187444,
          5.359525637317157,
          5.407529028446871,
          5.455532419576584,
          5.503535810706297,
          5.551539201836011,
          5.599542592965724,
          5.647545984095438,
          5.695549375225151,
          5.743552766354865,
          5.791556157484578,
          5.839559548614291,
          5.887562939744004,
          5.935566330873718,
          5.9835697220034305,
          6.0315731131331445,
          6.079576504262858,
          6.1275798953925715,
          6.1755832865222855,
          6.223586677651999,
          6.2715900687817125,
          6.319593459911426,
          6.367596851041138,
          6.415600242170853,
          6.463603633300565,
          6.511607024430278,
          6.559610415559992,
          6.607613806689705,
          6.655617197819419,
          6.703620588949132,
          6.751623980078846,
          6.799627371208559,
          6.847630762338273,
          6.895634153467985,
          6.9436375445977,
          6.991640935727412,
          7.039644326857127,
          7.087647717986839,
          7.135651109116552,
          7.183654500246266,
          7.2316578913759795,
          7.2796612825056926,
          7.327664673635407,
          7.3756680647651205,
          7.423671455894832,
          7.471674847024547,
          7.51967823815426,
          7.567681629283975,
          7.615685020413686,
          7.663688411543401,
          7.711691802673114,
          7.759695193802827,
          7.80769858493254,
          7.855701976062255,
          7.903705367191968,
          7.951708758321679,
          7.999712149451394,
          8.047715540581107,
          8.095718931710822,
          8.143722322840533,
          8.191725713970248,
          8.239729105099961
         ]
        }
       ],
       "layout": {
        "template": {
         "data": {
          "bar": [
           {
            "error_x": {
             "color": "#2a3f5f"
            },
            "error_y": {
             "color": "#2a3f5f"
            },
            "marker": {
             "line": {
              "color": "#E5ECF6",
              "width": 0.5
             },
             "pattern": {
              "fillmode": "overlay",
              "size": 10,
              "solidity": 0.2
             }
            },
            "type": "bar"
           }
          ],
          "barpolar": [
           {
            "marker": {
             "line": {
              "color": "#E5ECF6",
              "width": 0.5
             },
             "pattern": {
              "fillmode": "overlay",
              "size": 10,
              "solidity": 0.2
             }
            },
            "type": "barpolar"
           }
          ],
          "carpet": [
           {
            "aaxis": {
             "endlinecolor": "#2a3f5f",
             "gridcolor": "white",
             "linecolor": "white",
             "minorgridcolor": "white",
             "startlinecolor": "#2a3f5f"
            },
            "baxis": {
             "endlinecolor": "#2a3f5f",
             "gridcolor": "white",
             "linecolor": "white",
             "minorgridcolor": "white",
             "startlinecolor": "#2a3f5f"
            },
            "type": "carpet"
           }
          ],
          "choropleth": [
           {
            "colorbar": {
             "outlinewidth": 0,
             "ticks": ""
            },
            "type": "choropleth"
           }
          ],
          "contour": [
           {
            "colorbar": {
             "outlinewidth": 0,
             "ticks": ""
            },
            "colorscale": [
             [
              0,
              "#0d0887"
             ],
             [
              0.1111111111111111,
              "#46039f"
             ],
             [
              0.2222222222222222,
              "#7201a8"
             ],
             [
              0.3333333333333333,
              "#9c179e"
             ],
             [
              0.4444444444444444,
              "#bd3786"
             ],
             [
              0.5555555555555556,
              "#d8576b"
             ],
             [
              0.6666666666666666,
              "#ed7953"
             ],
             [
              0.7777777777777778,
              "#fb9f3a"
             ],
             [
              0.8888888888888888,
              "#fdca26"
             ],
             [
              1,
              "#f0f921"
             ]
            ],
            "type": "contour"
           }
          ],
          "contourcarpet": [
           {
            "colorbar": {
             "outlinewidth": 0,
             "ticks": ""
            },
            "type": "contourcarpet"
           }
          ],
          "heatmap": [
           {
            "colorbar": {
             "outlinewidth": 0,
             "ticks": ""
            },
            "colorscale": [
             [
              0,
              "#0d0887"
             ],
             [
              0.1111111111111111,
              "#46039f"
             ],
             [
              0.2222222222222222,
              "#7201a8"
             ],
             [
              0.3333333333333333,
              "#9c179e"
             ],
             [
              0.4444444444444444,
              "#bd3786"
             ],
             [
              0.5555555555555556,
              "#d8576b"
             ],
             [
              0.6666666666666666,
              "#ed7953"
             ],
             [
              0.7777777777777778,
              "#fb9f3a"
             ],
             [
              0.8888888888888888,
              "#fdca26"
             ],
             [
              1,
              "#f0f921"
             ]
            ],
            "type": "heatmap"
           }
          ],
          "heatmapgl": [
           {
            "colorbar": {
             "outlinewidth": 0,
             "ticks": ""
            },
            "colorscale": [
             [
              0,
              "#0d0887"
             ],
             [
              0.1111111111111111,
              "#46039f"
             ],
             [
              0.2222222222222222,
              "#7201a8"
             ],
             [
              0.3333333333333333,
              "#9c179e"
             ],
             [
              0.4444444444444444,
              "#bd3786"
             ],
             [
              0.5555555555555556,
              "#d8576b"
             ],
             [
              0.6666666666666666,
              "#ed7953"
             ],
             [
              0.7777777777777778,
              "#fb9f3a"
             ],
             [
              0.8888888888888888,
              "#fdca26"
             ],
             [
              1,
              "#f0f921"
             ]
            ],
            "type": "heatmapgl"
           }
          ],
          "histogram": [
           {
            "marker": {
             "pattern": {
              "fillmode": "overlay",
              "size": 10,
              "solidity": 0.2
             }
            },
            "type": "histogram"
           }
          ],
          "histogram2d": [
           {
            "colorbar": {
             "outlinewidth": 0,
             "ticks": ""
            },
            "colorscale": [
             [
              0,
              "#0d0887"
             ],
             [
              0.1111111111111111,
              "#46039f"
             ],
             [
              0.2222222222222222,
              "#7201a8"
             ],
             [
              0.3333333333333333,
              "#9c179e"
             ],
             [
              0.4444444444444444,
              "#bd3786"
             ],
             [
              0.5555555555555556,
              "#d8576b"
             ],
             [
              0.6666666666666666,
              "#ed7953"
             ],
             [
              0.7777777777777778,
              "#fb9f3a"
             ],
             [
              0.8888888888888888,
              "#fdca26"
             ],
             [
              1,
              "#f0f921"
             ]
            ],
            "type": "histogram2d"
           }
          ],
          "histogram2dcontour": [
           {
            "colorbar": {
             "outlinewidth": 0,
             "ticks": ""
            },
            "colorscale": [
             [
              0,
              "#0d0887"
             ],
             [
              0.1111111111111111,
              "#46039f"
             ],
             [
              0.2222222222222222,
              "#7201a8"
             ],
             [
              0.3333333333333333,
              "#9c179e"
             ],
             [
              0.4444444444444444,
              "#bd3786"
             ],
             [
              0.5555555555555556,
              "#d8576b"
             ],
             [
              0.6666666666666666,
              "#ed7953"
             ],
             [
              0.7777777777777778,
              "#fb9f3a"
             ],
             [
              0.8888888888888888,
              "#fdca26"
             ],
             [
              1,
              "#f0f921"
             ]
            ],
            "type": "histogram2dcontour"
           }
          ],
          "mesh3d": [
           {
            "colorbar": {
             "outlinewidth": 0,
             "ticks": ""
            },
            "type": "mesh3d"
           }
          ],
          "parcoords": [
           {
            "line": {
             "colorbar": {
              "outlinewidth": 0,
              "ticks": ""
             }
            },
            "type": "parcoords"
           }
          ],
          "pie": [
           {
            "automargin": true,
            "type": "pie"
           }
          ],
          "scatter": [
           {
            "fillpattern": {
             "fillmode": "overlay",
             "size": 10,
             "solidity": 0.2
            },
            "type": "scatter"
           }
          ],
          "scatter3d": [
           {
            "line": {
             "colorbar": {
              "outlinewidth": 0,
              "ticks": ""
             }
            },
            "marker": {
             "colorbar": {
              "outlinewidth": 0,
              "ticks": ""
             }
            },
            "type": "scatter3d"
           }
          ],
          "scattercarpet": [
           {
            "marker": {
             "colorbar": {
              "outlinewidth": 0,
              "ticks": ""
             }
            },
            "type": "scattercarpet"
           }
          ],
          "scattergeo": [
           {
            "marker": {
             "colorbar": {
              "outlinewidth": 0,
              "ticks": ""
             }
            },
            "type": "scattergeo"
           }
          ],
          "scattergl": [
           {
            "marker": {
             "colorbar": {
              "outlinewidth": 0,
              "ticks": ""
             }
            },
            "type": "scattergl"
           }
          ],
          "scattermapbox": [
           {
            "marker": {
             "colorbar": {
              "outlinewidth": 0,
              "ticks": ""
             }
            },
            "type": "scattermapbox"
           }
          ],
          "scatterpolar": [
           {
            "marker": {
             "colorbar": {
              "outlinewidth": 0,
              "ticks": ""
             }
            },
            "type": "scatterpolar"
           }
          ],
          "scatterpolargl": [
           {
            "marker": {
             "colorbar": {
              "outlinewidth": 0,
              "ticks": ""
             }
            },
            "type": "scatterpolargl"
           }
          ],
          "scatterternary": [
           {
            "marker": {
             "colorbar": {
              "outlinewidth": 0,
              "ticks": ""
             }
            },
            "type": "scatterternary"
           }
          ],
          "surface": [
           {
            "colorbar": {
             "outlinewidth": 0,
             "ticks": ""
            },
            "colorscale": [
             [
              0,
              "#0d0887"
             ],
             [
              0.1111111111111111,
              "#46039f"
             ],
             [
              0.2222222222222222,
              "#7201a8"
             ],
             [
              0.3333333333333333,
              "#9c179e"
             ],
             [
              0.4444444444444444,
              "#bd3786"
             ],
             [
              0.5555555555555556,
              "#d8576b"
             ],
             [
              0.6666666666666666,
              "#ed7953"
             ],
             [
              0.7777777777777778,
              "#fb9f3a"
             ],
             [
              0.8888888888888888,
              "#fdca26"
             ],
             [
              1,
              "#f0f921"
             ]
            ],
            "type": "surface"
           }
          ],
          "table": [
           {
            "cells": {
             "fill": {
              "color": "#EBF0F8"
             },
             "line": {
              "color": "white"
             }
            },
            "header": {
             "fill": {
              "color": "#C8D4E3"
             },
             "line": {
              "color": "white"
             }
            },
            "type": "table"
           }
          ]
         },
         "layout": {
          "annotationdefaults": {
           "arrowcolor": "#2a3f5f",
           "arrowhead": 0,
           "arrowwidth": 1
          },
          "autotypenumbers": "strict",
          "coloraxis": {
           "colorbar": {
            "outlinewidth": 0,
            "ticks": ""
           }
          },
          "colorscale": {
           "diverging": [
            [
             0,
             "#8e0152"
            ],
            [
             0.1,
             "#c51b7d"
            ],
            [
             0.2,
             "#de77ae"
            ],
            [
             0.3,
             "#f1b6da"
            ],
            [
             0.4,
             "#fde0ef"
            ],
            [
             0.5,
             "#f7f7f7"
            ],
            [
             0.6,
             "#e6f5d0"
            ],
            [
             0.7,
             "#b8e186"
            ],
            [
             0.8,
             "#7fbc41"
            ],
            [
             0.9,
             "#4d9221"
            ],
            [
             1,
             "#276419"
            ]
           ],
           "sequential": [
            [
             0,
             "#0d0887"
            ],
            [
             0.1111111111111111,
             "#46039f"
            ],
            [
             0.2222222222222222,
             "#7201a8"
            ],
            [
             0.3333333333333333,
             "#9c179e"
            ],
            [
             0.4444444444444444,
             "#bd3786"
            ],
            [
             0.5555555555555556,
             "#d8576b"
            ],
            [
             0.6666666666666666,
             "#ed7953"
            ],
            [
             0.7777777777777778,
             "#fb9f3a"
            ],
            [
             0.8888888888888888,
             "#fdca26"
            ],
            [
             1,
             "#f0f921"
            ]
           ],
           "sequentialminus": [
            [
             0,
             "#0d0887"
            ],
            [
             0.1111111111111111,
             "#46039f"
            ],
            [
             0.2222222222222222,
             "#7201a8"
            ],
            [
             0.3333333333333333,
             "#9c179e"
            ],
            [
             0.4444444444444444,
             "#bd3786"
            ],
            [
             0.5555555555555556,
             "#d8576b"
            ],
            [
             0.6666666666666666,
             "#ed7953"
            ],
            [
             0.7777777777777778,
             "#fb9f3a"
            ],
            [
             0.8888888888888888,
             "#fdca26"
            ],
            [
             1,
             "#f0f921"
            ]
           ]
          },
          "colorway": [
           "#636efa",
           "#EF553B",
           "#00cc96",
           "#ab63fa",
           "#FFA15A",
           "#19d3f3",
           "#FF6692",
           "#B6E880",
           "#FF97FF",
           "#FECB52"
          ],
          "font": {
           "color": "#2a3f5f"
          },
          "geo": {
           "bgcolor": "white",
           "lakecolor": "white",
           "landcolor": "#E5ECF6",
           "showlakes": true,
           "showland": true,
           "subunitcolor": "white"
          },
          "hoverlabel": {
           "align": "left"
          },
          "hovermode": "closest",
          "mapbox": {
           "style": "light"
          },
          "paper_bgcolor": "white",
          "plot_bgcolor": "#E5ECF6",
          "polar": {
           "angularaxis": {
            "gridcolor": "white",
            "linecolor": "white",
            "ticks": ""
           },
           "bgcolor": "#E5ECF6",
           "radialaxis": {
            "gridcolor": "white",
            "linecolor": "white",
            "ticks": ""
           }
          },
          "scene": {
           "xaxis": {
            "backgroundcolor": "#E5ECF6",
            "gridcolor": "white",
            "gridwidth": 2,
            "linecolor": "white",
            "showbackground": true,
            "ticks": "",
            "zerolinecolor": "white"
           },
           "yaxis": {
            "backgroundcolor": "#E5ECF6",
            "gridcolor": "white",
            "gridwidth": 2,
            "linecolor": "white",
            "showbackground": true,
            "ticks": "",
            "zerolinecolor": "white"
           },
           "zaxis": {
            "backgroundcolor": "#E5ECF6",
            "gridcolor": "white",
            "gridwidth": 2,
            "linecolor": "white",
            "showbackground": true,
            "ticks": "",
            "zerolinecolor": "white"
           }
          },
          "shapedefaults": {
           "line": {
            "color": "#2a3f5f"
           }
          },
          "ternary": {
           "aaxis": {
            "gridcolor": "white",
            "linecolor": "white",
            "ticks": ""
           },
           "baxis": {
            "gridcolor": "white",
            "linecolor": "white",
            "ticks": ""
           },
           "bgcolor": "#E5ECF6",
           "caxis": {
            "gridcolor": "white",
            "linecolor": "white",
            "ticks": ""
           }
          },
          "title": {
           "x": 0.05
          },
          "xaxis": {
           "automargin": true,
           "gridcolor": "white",
           "linecolor": "white",
           "ticks": "",
           "title": {
            "standoff": 15
           },
           "zerolinecolor": "white",
           "zerolinewidth": 2
          },
          "yaxis": {
           "automargin": true,
           "gridcolor": "white",
           "linecolor": "white",
           "ticks": "",
           "title": {
            "standoff": 15
           },
           "zerolinecolor": "white",
           "zerolinewidth": 2
          }
         }
        }
       }
      }
     },
     "metadata": {},
     "output_type": "display_data"
    }
   ],
   "source": [
    "X = df.Seconds_since_midnight.to_numpy()[:, None]\n",
    "X_train, X_test, y_train, y_test = train_test_split(X, df.CPU_Load, random_state=0)\n",
    "\n",
    "model = LinearRegression()\n",
    "model.fit(X_train, y_train)\n",
    "\n",
    "x_range = np.linspace(X.min(), X.max(), 100)\n",
    "y_range = model.predict(x_range.reshape(-1, 1))\n",
    "\n",
    "fig = go.Figure([\n",
    "    go.Scatter(x=X_train.squeeze(), y=y_train, name='train', mode='markers'),\n",
    "    go.Scatter(x=X_test.squeeze(), y=y_test, name='test', mode='markers'),\n",
    "    go.Scatter(x=x_range, y=y_range, name='prediction')\n",
    "])\n",
    "fig.show()"
   ]
  },
  {
   "cell_type": "code",
   "execution_count": null,
   "id": "5ffb4e9a",
   "metadata": {},
   "outputs": [
    {
     "data": {
      "application/vnd.plotly.v1+json": {
       "config": {
        "plotlyServerURL": "https://plot.ly"
       },
       "data": [
        {
         "hovertemplate": "ground truth=%{x}<br>prediction=%{y}<extra></extra>",
         "legendgroup": "",
         "marker": {
          "color": "#636efa",
          "symbol": "circle"
         },
         "mode": "markers",
         "name": "",
         "orientation": "v",
         "showlegend": false,
         "type": "scatter",
         "x": [
          3.4685,
          3.622833333333333,
          3.4145000000000003,
          3.3325,
          3.364,
          3.609,
          4.315666666666667,
          6.522500000000001,
          3.4795000000000003,
          3.6545,
          3.891333333333333,
          3.5651666666666664,
          3.826666666666666,
          3.698500000000001,
          4.333166666666666,
          4.291666666666666,
          3.595333333333333,
          3.889833333333333,
          3.7751666666666654,
          3.8086666666666673,
          3.980833333333333,
          3.613,
          3.651166666666666,
          4.105166666666666,
          3.827833333333333,
          3.770333333333333,
          4.272833333333333,
          7.224000000000001,
          6.997833333333333,
          7.203833333333333,
          7.458166666666666,
          6.970666666666666,
          7.144666666666668,
          7.1033333333333335,
          6.9075000000000015,
          7.246333333333333,
          7.107000000000001,
          7.374833333333332,
          7.239999999999998,
          7.5790000000000015,
          7.3935,
          7.253333333333333,
          7.201833333333335,
          7.294666666666666,
          6.702166666666668,
          7.162333333333334,
          7.013999999999999,
          7.126666666666665,
          7.399499999999999,
          6.7731666666666674,
          7.456500000000001,
          7.6225,
          7.631,
          7.083000000000001,
          6.535666666666666,
          6.2876666666666665,
          7.018833333333332,
          7.264166666666666,
          6.938833333333332,
          7.002666666666667,
          7.331,
          7.1685,
          6.988999999999999,
          6.854666666666665,
          6.979666666666668,
          6.380333333333334,
          7.208833333333333,
          7.118666666666668,
          6.9475,
          6.965166666666666,
          7.549666666666668,
          7.461833333333334,
          7.3175,
          7.336666666666666,
          7.3231666666666655,
          7.067333333333332
         ],
         "xaxis": "x",
         "y": [
          3.772431590339484,
          3.8312716017316006,
          3.890111613123718,
          3.9489516245158347,
          4.007791635907951,
          4.066631647300068,
          4.1254716586921845,
          4.184311670084301,
          4.243151681476418,
          4.301991692868534,
          4.360831704260651,
          4.419671715652767,
          4.478511727044884,
          4.537351738437001,
          4.596191749829117,
          4.655031761221235,
          4.713871772613351,
          4.772711784005468,
          4.831551795397584,
          4.890391806789701,
          4.949231818181818,
          5.008071829573934,
          5.066911840966051,
          5.125751852358167,
          5.184591863750284,
          5.2434318751424005,
          5.302271886534517,
          5.361111897926635,
          5.419951909318751,
          5.478791920710868,
          5.537631932102984,
          5.596471943495101,
          5.6553119548872175,
          5.714151966279334,
          5.772991977671451,
          5.831831989063567,
          5.890672000455684,
          5.9495120118478,
          6.008352023239917,
          6.067192034632034,
          6.126032046024151,
          6.184872057416268,
          6.243712068808384,
          6.302552080200501,
          6.361392091592617,
          6.420232102984734,
          6.479072114376851,
          6.537912125768967,
          6.596752137161084,
          6.6555921485532,
          6.714432159945317,
          6.7732721713374335,
          6.832112182729551,
          6.890952194121668,
          6.949792205513784,
          7.008632216905901,
          7.067472228298017,
          7.126312239690134,
          7.1851522510822505,
          7.243992262474367,
          7.302832273866484,
          7.3616722852586,
          7.420512296650717,
          7.4793523080428335,
          7.53819231943495,
          7.5970323308270675,
          7.655872342219184,
          7.714712353611301,
          7.773552365003416,
          7.832392376395534,
          7.89123238778765,
          7.950072399179767,
          8.008912410571885,
          8.067752421964,
          8.126592433356118,
          8.185432444748233
         ],
         "yaxis": "y"
        }
       ],
       "layout": {
        "legend": {
         "tracegroupgap": 0
        },
        "margin": {
         "t": 60
        },
        "shapes": [
         {
          "line": {
           "dash": "dash"
          },
          "type": "line",
          "x0": 3.3325,
          "x1": 7.631,
          "y0": 3.3325,
          "y1": 7.631
         }
        ],
        "template": {
         "data": {
          "bar": [
           {
            "error_x": {
             "color": "#2a3f5f"
            },
            "error_y": {
             "color": "#2a3f5f"
            },
            "marker": {
             "line": {
              "color": "#E5ECF6",
              "width": 0.5
             },
             "pattern": {
              "fillmode": "overlay",
              "size": 10,
              "solidity": 0.2
             }
            },
            "type": "bar"
           }
          ],
          "barpolar": [
           {
            "marker": {
             "line": {
              "color": "#E5ECF6",
              "width": 0.5
             },
             "pattern": {
              "fillmode": "overlay",
              "size": 10,
              "solidity": 0.2
             }
            },
            "type": "barpolar"
           }
          ],
          "carpet": [
           {
            "aaxis": {
             "endlinecolor": "#2a3f5f",
             "gridcolor": "white",
             "linecolor": "white",
             "minorgridcolor": "white",
             "startlinecolor": "#2a3f5f"
            },
            "baxis": {
             "endlinecolor": "#2a3f5f",
             "gridcolor": "white",
             "linecolor": "white",
             "minorgridcolor": "white",
             "startlinecolor": "#2a3f5f"
            },
            "type": "carpet"
           }
          ],
          "choropleth": [
           {
            "colorbar": {
             "outlinewidth": 0,
             "ticks": ""
            },
            "type": "choropleth"
           }
          ],
          "contour": [
           {
            "colorbar": {
             "outlinewidth": 0,
             "ticks": ""
            },
            "colorscale": [
             [
              0,
              "#0d0887"
             ],
             [
              0.1111111111111111,
              "#46039f"
             ],
             [
              0.2222222222222222,
              "#7201a8"
             ],
             [
              0.3333333333333333,
              "#9c179e"
             ],
             [
              0.4444444444444444,
              "#bd3786"
             ],
             [
              0.5555555555555556,
              "#d8576b"
             ],
             [
              0.6666666666666666,
              "#ed7953"
             ],
             [
              0.7777777777777778,
              "#fb9f3a"
             ],
             [
              0.8888888888888888,
              "#fdca26"
             ],
             [
              1,
              "#f0f921"
             ]
            ],
            "type": "contour"
           }
          ],
          "contourcarpet": [
           {
            "colorbar": {
             "outlinewidth": 0,
             "ticks": ""
            },
            "type": "contourcarpet"
           }
          ],
          "heatmap": [
           {
            "colorbar": {
             "outlinewidth": 0,
             "ticks": ""
            },
            "colorscale": [
             [
              0,
              "#0d0887"
             ],
             [
              0.1111111111111111,
              "#46039f"
             ],
             [
              0.2222222222222222,
              "#7201a8"
             ],
             [
              0.3333333333333333,
              "#9c179e"
             ],
             [
              0.4444444444444444,
              "#bd3786"
             ],
             [
              0.5555555555555556,
              "#d8576b"
             ],
             [
              0.6666666666666666,
              "#ed7953"
             ],
             [
              0.7777777777777778,
              "#fb9f3a"
             ],
             [
              0.8888888888888888,
              "#fdca26"
             ],
             [
              1,
              "#f0f921"
             ]
            ],
            "type": "heatmap"
           }
          ],
          "heatmapgl": [
           {
            "colorbar": {
             "outlinewidth": 0,
             "ticks": ""
            },
            "colorscale": [
             [
              0,
              "#0d0887"
             ],
             [
              0.1111111111111111,
              "#46039f"
             ],
             [
              0.2222222222222222,
              "#7201a8"
             ],
             [
              0.3333333333333333,
              "#9c179e"
             ],
             [
              0.4444444444444444,
              "#bd3786"
             ],
             [
              0.5555555555555556,
              "#d8576b"
             ],
             [
              0.6666666666666666,
              "#ed7953"
             ],
             [
              0.7777777777777778,
              "#fb9f3a"
             ],
             [
              0.8888888888888888,
              "#fdca26"
             ],
             [
              1,
              "#f0f921"
             ]
            ],
            "type": "heatmapgl"
           }
          ],
          "histogram": [
           {
            "marker": {
             "pattern": {
              "fillmode": "overlay",
              "size": 10,
              "solidity": 0.2
             }
            },
            "type": "histogram"
           }
          ],
          "histogram2d": [
           {
            "colorbar": {
             "outlinewidth": 0,
             "ticks": ""
            },
            "colorscale": [
             [
              0,
              "#0d0887"
             ],
             [
              0.1111111111111111,
              "#46039f"
             ],
             [
              0.2222222222222222,
              "#7201a8"
             ],
             [
              0.3333333333333333,
              "#9c179e"
             ],
             [
              0.4444444444444444,
              "#bd3786"
             ],
             [
              0.5555555555555556,
              "#d8576b"
             ],
             [
              0.6666666666666666,
              "#ed7953"
             ],
             [
              0.7777777777777778,
              "#fb9f3a"
             ],
             [
              0.8888888888888888,
              "#fdca26"
             ],
             [
              1,
              "#f0f921"
             ]
            ],
            "type": "histogram2d"
           }
          ],
          "histogram2dcontour": [
           {
            "colorbar": {
             "outlinewidth": 0,
             "ticks": ""
            },
            "colorscale": [
             [
              0,
              "#0d0887"
             ],
             [
              0.1111111111111111,
              "#46039f"
             ],
             [
              0.2222222222222222,
              "#7201a8"
             ],
             [
              0.3333333333333333,
              "#9c179e"
             ],
             [
              0.4444444444444444,
              "#bd3786"
             ],
             [
              0.5555555555555556,
              "#d8576b"
             ],
             [
              0.6666666666666666,
              "#ed7953"
             ],
             [
              0.7777777777777778,
              "#fb9f3a"
             ],
             [
              0.8888888888888888,
              "#fdca26"
             ],
             [
              1,
              "#f0f921"
             ]
            ],
            "type": "histogram2dcontour"
           }
          ],
          "mesh3d": [
           {
            "colorbar": {
             "outlinewidth": 0,
             "ticks": ""
            },
            "type": "mesh3d"
           }
          ],
          "parcoords": [
           {
            "line": {
             "colorbar": {
              "outlinewidth": 0,
              "ticks": ""
             }
            },
            "type": "parcoords"
           }
          ],
          "pie": [
           {
            "automargin": true,
            "type": "pie"
           }
          ],
          "scatter": [
           {
            "fillpattern": {
             "fillmode": "overlay",
             "size": 10,
             "solidity": 0.2
            },
            "type": "scatter"
           }
          ],
          "scatter3d": [
           {
            "line": {
             "colorbar": {
              "outlinewidth": 0,
              "ticks": ""
             }
            },
            "marker": {
             "colorbar": {
              "outlinewidth": 0,
              "ticks": ""
             }
            },
            "type": "scatter3d"
           }
          ],
          "scattercarpet": [
           {
            "marker": {
             "colorbar": {
              "outlinewidth": 0,
              "ticks": ""
             }
            },
            "type": "scattercarpet"
           }
          ],
          "scattergeo": [
           {
            "marker": {
             "colorbar": {
              "outlinewidth": 0,
              "ticks": ""
             }
            },
            "type": "scattergeo"
           }
          ],
          "scattergl": [
           {
            "marker": {
             "colorbar": {
              "outlinewidth": 0,
              "ticks": ""
             }
            },
            "type": "scattergl"
           }
          ],
          "scattermapbox": [
           {
            "marker": {
             "colorbar": {
              "outlinewidth": 0,
              "ticks": ""
             }
            },
            "type": "scattermapbox"
           }
          ],
          "scatterpolar": [
           {
            "marker": {
             "colorbar": {
              "outlinewidth": 0,
              "ticks": ""
             }
            },
            "type": "scatterpolar"
           }
          ],
          "scatterpolargl": [
           {
            "marker": {
             "colorbar": {
              "outlinewidth": 0,
              "ticks": ""
             }
            },
            "type": "scatterpolargl"
           }
          ],
          "scatterternary": [
           {
            "marker": {
             "colorbar": {
              "outlinewidth": 0,
              "ticks": ""
             }
            },
            "type": "scatterternary"
           }
          ],
          "surface": [
           {
            "colorbar": {
             "outlinewidth": 0,
             "ticks": ""
            },
            "colorscale": [
             [
              0,
              "#0d0887"
             ],
             [
              0.1111111111111111,
              "#46039f"
             ],
             [
              0.2222222222222222,
              "#7201a8"
             ],
             [
              0.3333333333333333,
              "#9c179e"
             ],
             [
              0.4444444444444444,
              "#bd3786"
             ],
             [
              0.5555555555555556,
              "#d8576b"
             ],
             [
              0.6666666666666666,
              "#ed7953"
             ],
             [
              0.7777777777777778,
              "#fb9f3a"
             ],
             [
              0.8888888888888888,
              "#fdca26"
             ],
             [
              1,
              "#f0f921"
             ]
            ],
            "type": "surface"
           }
          ],
          "table": [
           {
            "cells": {
             "fill": {
              "color": "#EBF0F8"
             },
             "line": {
              "color": "white"
             }
            },
            "header": {
             "fill": {
              "color": "#C8D4E3"
             },
             "line": {
              "color": "white"
             }
            },
            "type": "table"
           }
          ]
         },
         "layout": {
          "annotationdefaults": {
           "arrowcolor": "#2a3f5f",
           "arrowhead": 0,
           "arrowwidth": 1
          },
          "autotypenumbers": "strict",
          "coloraxis": {
           "colorbar": {
            "outlinewidth": 0,
            "ticks": ""
           }
          },
          "colorscale": {
           "diverging": [
            [
             0,
             "#8e0152"
            ],
            [
             0.1,
             "#c51b7d"
            ],
            [
             0.2,
             "#de77ae"
            ],
            [
             0.3,
             "#f1b6da"
            ],
            [
             0.4,
             "#fde0ef"
            ],
            [
             0.5,
             "#f7f7f7"
            ],
            [
             0.6,
             "#e6f5d0"
            ],
            [
             0.7,
             "#b8e186"
            ],
            [
             0.8,
             "#7fbc41"
            ],
            [
             0.9,
             "#4d9221"
            ],
            [
             1,
             "#276419"
            ]
           ],
           "sequential": [
            [
             0,
             "#0d0887"
            ],
            [
             0.1111111111111111,
             "#46039f"
            ],
            [
             0.2222222222222222,
             "#7201a8"
            ],
            [
             0.3333333333333333,
             "#9c179e"
            ],
            [
             0.4444444444444444,
             "#bd3786"
            ],
            [
             0.5555555555555556,
             "#d8576b"
            ],
            [
             0.6666666666666666,
             "#ed7953"
            ],
            [
             0.7777777777777778,
             "#fb9f3a"
            ],
            [
             0.8888888888888888,
             "#fdca26"
            ],
            [
             1,
             "#f0f921"
            ]
           ],
           "sequentialminus": [
            [
             0,
             "#0d0887"
            ],
            [
             0.1111111111111111,
             "#46039f"
            ],
            [
             0.2222222222222222,
             "#7201a8"
            ],
            [
             0.3333333333333333,
             "#9c179e"
            ],
            [
             0.4444444444444444,
             "#bd3786"
            ],
            [
             0.5555555555555556,
             "#d8576b"
            ],
            [
             0.6666666666666666,
             "#ed7953"
            ],
            [
             0.7777777777777778,
             "#fb9f3a"
            ],
            [
             0.8888888888888888,
             "#fdca26"
            ],
            [
             1,
             "#f0f921"
            ]
           ]
          },
          "colorway": [
           "#636efa",
           "#EF553B",
           "#00cc96",
           "#ab63fa",
           "#FFA15A",
           "#19d3f3",
           "#FF6692",
           "#B6E880",
           "#FF97FF",
           "#FECB52"
          ],
          "font": {
           "color": "#2a3f5f"
          },
          "geo": {
           "bgcolor": "white",
           "lakecolor": "white",
           "landcolor": "#E5ECF6",
           "showlakes": true,
           "showland": true,
           "subunitcolor": "white"
          },
          "hoverlabel": {
           "align": "left"
          },
          "hovermode": "closest",
          "mapbox": {
           "style": "light"
          },
          "paper_bgcolor": "white",
          "plot_bgcolor": "#E5ECF6",
          "polar": {
           "angularaxis": {
            "gridcolor": "white",
            "linecolor": "white",
            "ticks": ""
           },
           "bgcolor": "#E5ECF6",
           "radialaxis": {
            "gridcolor": "white",
            "linecolor": "white",
            "ticks": ""
           }
          },
          "scene": {
           "xaxis": {
            "backgroundcolor": "#E5ECF6",
            "gridcolor": "white",
            "gridwidth": 2,
            "linecolor": "white",
            "showbackground": true,
            "ticks": "",
            "zerolinecolor": "white"
           },
           "yaxis": {
            "backgroundcolor": "#E5ECF6",
            "gridcolor": "white",
            "gridwidth": 2,
            "linecolor": "white",
            "showbackground": true,
            "ticks": "",
            "zerolinecolor": "white"
           },
           "zaxis": {
            "backgroundcolor": "#E5ECF6",
            "gridcolor": "white",
            "gridwidth": 2,
            "linecolor": "white",
            "showbackground": true,
            "ticks": "",
            "zerolinecolor": "white"
           }
          },
          "shapedefaults": {
           "line": {
            "color": "#2a3f5f"
           }
          },
          "ternary": {
           "aaxis": {
            "gridcolor": "white",
            "linecolor": "white",
            "ticks": ""
           },
           "baxis": {
            "gridcolor": "white",
            "linecolor": "white",
            "ticks": ""
           },
           "bgcolor": "#E5ECF6",
           "caxis": {
            "gridcolor": "white",
            "linecolor": "white",
            "ticks": ""
           }
          },
          "title": {
           "x": 0.05
          },
          "xaxis": {
           "automargin": true,
           "gridcolor": "white",
           "linecolor": "white",
           "ticks": "",
           "title": {
            "standoff": 15
           },
           "zerolinecolor": "white",
           "zerolinewidth": 2
          },
          "yaxis": {
           "automargin": true,
           "gridcolor": "white",
           "linecolor": "white",
           "ticks": "",
           "title": {
            "standoff": 15
           },
           "zerolinecolor": "white",
           "zerolinewidth": 2
          }
         }
        },
        "xaxis": {
         "anchor": "y",
         "domain": [
          0,
          1
         ],
         "title": {
          "text": "ground truth"
         }
        },
        "yaxis": {
         "anchor": "x",
         "domain": [
          0,
          1
         ],
         "title": {
          "text": "prediction"
         }
        }
       }
      }
     },
     "metadata": {},
     "output_type": "display_data"
    }
   ],
   "source": [
    "y = df.CPU_Load\n",
    "\n",
    "model = LinearRegression()\n",
    "model.fit(X, y)\n",
    "y_pred = model.predict(X)\n",
    "\n",
    "fig = px.scatter(x=y, y=y_pred, labels={'x': 'ground truth', 'y': 'prediction'})\n",
    "fig.add_shape(\n",
    "    type=\"line\", line=dict(dash='dash'),\n",
    "    x0=y.min(), y0=y.min(),\n",
    "    x1=y.max(), y1=y.max()\n",
    ")\n",
    "fig.show()"
   ]
  }
 ],
 "metadata": {
  "kernelspec": {
   "display_name": "Python 3",
   "language": "python",
   "name": "python3"
  },
  "language_info": {
   "codemirror_mode": {
    "name": "ipython",
    "version": 3
   },
   "file_extension": ".py",
   "mimetype": "text/x-python",
   "name": "python",
   "nbconvert_exporter": "python",
   "pygments_lexer": "ipython3",
   "version": "3.12.4"
  }
 },
 "nbformat": 4,
 "nbformat_minor": 5
}
