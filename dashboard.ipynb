{
 "cells": [
  {
   "cell_type": "code",
   "execution_count": null,
   "id": "e4f7bbbe",
   "metadata": {},
   "outputs": [],
   "source": [
    "import streamlit as st\n",
    "from PIL import Image\n",
    "\n",
    "import pandas as pd\n",
    "import matplotlib.pyplot as plt\n",
    "import seaborn as sns"
   ]
  },
  {
   "cell_type": "code",
   "execution_count": null,
   "id": "c0562004",
   "metadata": {},
   "outputs": [],
   "source": [
    "\n",
    "st.set_page_config(layout=\"wide\")\n",
    "\n",
    "# Laad datasets\n",
    "df_24e = pd.read_csv('combined/d_24e.csv')\n",
    "df_569 = pd.read_csv('combined/d_569.csv')\n",
    "df_608 = pd.read_csv('combined/d_608.csv')\n",
    "df_747 = pd.read_csv('combined/d_747.csv')\n",
    "df_b23 = pd.read_csv('combined/d_b23.csv')\n",
    "df_f15 = pd.read_csv('combined/d_f15.csv')\n",
    "\n",
    "dfs = {\n",
    "    \"24e\": df_24e,\n",
    "    \"569\": df_569,\n",
    "    \"608\": df_608,\n",
    "    \"747\": df_747,\n",
    "    \"b23\": df_b23,\n",
    "    \"f15\": df_f15,\n",
    "}\n",
    "\n",
    "\n",
    "selected_node = st.selectbox(\"Kies een node:\", list(dfs.keys()))\n",
    "df = dfs[selected_node].copy()\n",
    "\n",
    "df['timestamp'] = pd.to_datetime(df['timestamp'])\n",
    "df['hour'] = df['timestamp'].dt.hour\n",
    "\n",
    "st.title(f\"Analyse voor node: {selected_node}\")\n",
    "st.write(f\"📊 Aantal rijen: {len(df)}\")\n",
    "\n",
    "with st.expander(\"Toon ruwe data\"):\n",
    "    st.dataframe(df.head(20))\n"
   ]
  }
 ],
 "metadata": {
  "kernelspec": {
   "display_name": "base",
   "language": "python",
   "name": "python3"
  },
  "language_info": {
   "codemirror_mode": {
    "name": "ipython",
    "version": 3
   },
   "file_extension": ".py",
   "mimetype": "text/x-python",
   "name": "python",
   "nbconvert_exporter": "python",
   "pygments_lexer": "ipython3",
   "version": "3.12.4"
  }
 },
 "nbformat": 4,
 "nbformat_minor": 5
}
